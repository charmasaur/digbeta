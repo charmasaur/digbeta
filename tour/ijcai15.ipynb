{
 "cells": [
  {
   "cell_type": "markdown",
   "metadata": {},
   "source": [
    "Reproduce the IJCAI15 Paper\n",
    "======"
   ]
  },
  {
   "cell_type": "markdown",
   "metadata": {},
   "source": [
    "**NOTE: Before running this notebook, please run script `src/ijcai15_setup.py` to setup data properly.**"
   ]
  },
  {
   "cell_type": "markdown",
   "metadata": {},
   "source": [
    "# 1. Dataset [&#8648;](#toc)"
   ]
  },
  {
   "cell_type": "markdown",
   "metadata": {},
   "source": [
    "The dataset used in [this paper](#https://sites.google.com/site/limkwanhui/publications/2015-IJCAI-personalTour.pdf?attredirects=0) can be downloaded [here](https://sites.google.com/site/limkwanhui/datacode/data-ijcai15.zip?attredirects=0), the [summary of this dataset](#https://sites.google.com/site/limkwanhui/datacode#ijcai15) is also available.\n",
    "Unfortunately, one critical portion of information is missing, i.e. the geo-coordinates of each POI,\n",
    "which is necessary for calculating the travel time from one POI to another.\n",
    "However, it could be approximated by averaging (longitude, latitude) of \n",
    "all photos mapped to a specific POI by retriving coordinates of all photos in this dataset from the original [YFCC100M dataset](#http://www.referitgame.com/vicente/flickr100M/) using photoID.\n",
    "\n",
    "Simple statistics of this dataset\n",
    "<table>\n",
    "<tr>\n",
    "<td><b>City</b></td>\n",
    "<td><b>#POIs</b></td>\n",
    "<td><b>#Users</b></td>\n",
    "<td><b>#POI_Visits</b></td>\n",
    "<td><b>#Travel_Sequences</b></td></tr>\n",
    "<tr><td>Toronto</td><td>29</td><td>1,395</td><td>39,419</td><td>6,057</td></tr>\n",
    "<tr><td>Osaka</td><td>27</td><td>450</td><td>7,747</td><td>1,115</td></tr>\n",
    "<tr><td>Glasgow</td><td>27</td><td>601</td><td>11,434</td><td>2,227</td></tr>\n",
    "<tr><td>Edinburgh</td><td>28</td><td>1,454</td><td>33,944</td><td>5,028</td></tr>\n",
    "</table>\n",
    "\n",
    "*NOTE: the number of photos for each city described in [the paper](#https://sites.google.com/site/limkwanhui/publications/2015-IJCAI-personalTour.pdf?attredirects=0) is NOT available in this dataset*"
   ]
  },
  {
   "cell_type": "markdown",
   "metadata": {},
   "source": [
    "## 1.1 Compute POI Coordinates"
   ]
  },
  {
   "cell_type": "markdown",
   "metadata": {},
   "source": [
    "To compute the mean value of coordinates for all photos mapped to a POI, \n",
    "we need to search the coordinates for each photo from the 100 million records.\n",
    "To accelerate the searching process, first extract the photo id, longitude and latitude columns from the whole dataset  \n",
    "```\n",
    "cut -d $'\\t' -f1,11,12 yfcc100m_dataset >> dataset.yfcc\n",
    "```  \n",
    "and then import them to a database which was created by the following SQL scripts  \n",
    "```\n",
    "CREATE DATABASE yfcc100m;\n",
    "CREATE TABLE yfcc100m.tdata(\n",
    "    pv_id           BIGINT UNSIGNED NOT NULL UNIQUE PRIMARY KEY, /* Photo/video identifier */\n",
    "    longitude       FLOAT,  /* Longitude */\n",
    "    latitude        FLOAT   /* Latitude */\n",
    ");\n",
    "COMMIT;\n",
    "```"
   ]
  },
  {
   "cell_type": "markdown",
   "metadata": {},
   "source": [
    "Python scripts to import these data to DB looks like\n",
    "```\n",
    "import mysql.connector as db\n",
    "def import_data(fname):\n",
    "    dbconnection = db.connect(user='USERNAME', password='PASSWORD')\n",
    "    cursor = dbconnection.cursor()\n",
    "    with open(fname, 'r') as f:\n",
    "        for line in f:\n",
    "            items = line.split('\\t')\n",
    "            assert(len(items) == 3)\n",
    "            pv_id = items[0].strip()\n",
    "            lon   = items[1].strip()\n",
    "            lat   = items[2].strip()\n",
    "            if len(lon) == 0 or len(lat) == 0:\n",
    "                continue\n",
    "            sqlstr = 'INSERT INTO yfcc100m.tdata VALUES (' + pv_id + ', ' + lon + ', ' + lat + ')' \n",
    "            try:\n",
    "                cursor.execute(sqlstr)\n",
    "            except db.Error as error:\n",
    "                print('ERROR: {}'.format(error))\n",
    "    dbconnection.commit()\n",
    "    dbconnection.close()\n",
    "```"
   ]
  },
  {
   "cell_type": "markdown",
   "metadata": {},
   "source": [
    "Python scripts to search coordinates for photos looks like\n",
    "```\n",
    "import mysql.connector as db\n",
    "def search_coords(fin, fout):\n",
    "    dbconnection = db.connect(user='USERNAME', password='PASSWORD', database='yfcc100m')\n",
    "    cursor = dbconnection.cursor()\n",
    "    with open(fout, 'w') as fo:\n",
    "        with open(fin, 'r') as fi:\n",
    "            for line in fi:\n",
    "                items = line.split(';')\n",
    "                assert(len(items) == 7)\n",
    "                photoID = items[0].strip()\n",
    "                sqlstr = 'SELECT longitude, latitude FROM tdata WHERE pv_id = ' + photoID\n",
    "                cursor.execute(sqlstr)\n",
    "                for longitude, latitude in cursor:\n",
    "                    fo.write(photoID + ';' + str(longitude) + ';' + str(latitude) + '\\n')\n",
    "    dbconnection.commit()\n",
    "    dbconnection.close()\n",
    "```"
   ]
  },
  {
   "cell_type": "markdown",
   "metadata": {},
   "source": [
    "The above retrived results are available and will be downloaded automatically by executing scripts `src/ijcai15_setup.py`."
   ]
  },
  {
   "cell_type": "markdown",
   "metadata": {},
   "source": [
    "# 2. Trajectory Recommendation Problem"
   ]
  },
  {
   "cell_type": "markdown",
   "metadata": {},
   "source": [
    "## 2.1 Definitions"
   ]
  },
  {
   "cell_type": "markdown",
   "metadata": {},
   "source": [
    "For user $u$ and POI $p$, define\n",
    "\n",
    "* **Travel History**: \n",
    "\\begin{equation*}\n",
    "S_u = \\{(p_1, t_{p_1}^a, t_{p_1}^d), \\dots, (p_n, t_{p_n}^a, t_{p_n}^d)\\}\n",
    "\\end{equation*}\n",
    "where $t_{p_i}^a$ is the arrival time and $t_{p_i}^d$ the departure time of user $u$ at POI $p_i$\n",
    "\n",
    "* **Travel Sequences**: split $S_u$ if\n",
    "\\begin{equation*}\n",
    "|t_{p_i}^d - t_{p_{i+1}}^a| > \\tau ~(\\text{e.g.}~ \\tau = 8 ~\\text{hours})\n",
    "\\end{equation*}\n",
    "\n",
    "* **POI Popularity**:\n",
    "\\begin{equation*}\n",
    "Pop(p) = \\sum_{u \\in U} \\sum_{p_i \\in S_u} \\delta(p_i == p)\n",
    "\\end{equation*}\n",
    "\n",
    "* **Average POI Visit Duration**: \n",
    "\\begin{equation*}\n",
    "\\bar{V}(p) = \\frac{1}{N} \\sum_{u \\in U} \\sum_{p_i \\in S_u} (t_{p_i}^d - t_{p_i}^a) \\delta(p_i == p)\n",
    "\\end{equation*}\n",
    "where $N$ is \\#visits of POI $p$ by all users\n",
    "      \n",
    "Define the interest of user $u$ in POI category $c$ as\n",
    "\n",
    "* **Time based User Interest**:\n",
    "\\begin{equation*}\n",
    "Int^{Time}(u, c) = \\sum_{p_i \\in S_u} \\frac{(t_{p_i}^d - t_{p_i}^a)}{\\bar{V}(p_i)} \\delta(Cat_{p_i} == c)\n",
    "\\end{equation*}\n",
    "where $Cat_{p_i}$ is the category of POI $p_i$  \n",
    "we also tried this one\n",
    "\\begin{equation*}\n",
    "Int^{Time}(u, c) = \\frac{1}{n} \\sum_{p_i \\in S_u} \\frac{(t_{p_i}^d - t_{p_i}^a)}{\\bar{V}(p_i)} \\delta(Cat_{p_i} == c)\n",
    "\\end{equation*}\n",
    "where $n$ is the number of visit of category $c$ by user $u$ (i.e. the frequency base user interest defined below),\n",
    "switch between the two definitions [here](#switch).\n",
    "\n",
    "\n",
    "* **Frequency based User Interest**:\n",
    "\\begin{equation*}\n",
    "Int^{Freq}(u, c) = \\sum_{p_i \\in S_u} \\delta(Cat_{p_i} == c)\n",
    "\\end{equation*}"
   ]
  },
  {
   "cell_type": "markdown",
   "metadata": {},
   "source": [
    "## 2.2 Problem Formulation"
   ]
  },
  {
   "cell_type": "markdown",
   "metadata": {},
   "source": [
    "The paper formulates the itinerary recommendation problem as an Integer Linear Programming(ILP) as follows.\n",
    "\n",
    "Given a set of POIs, time budget $B$, the starting/destination POI $p_1$/$p_N$,\n",
    "recommend a trajectory $(p_1,\\dots,p_N)$ to user $u$ that\n",
    "\\begin{equation*}\n",
    "    \\text{Maximize} \\sum_{i=2}^{N-1} \\sum_{j=2}^{N} x_{i,j} \\left(\\eta Int(u, Cat_{p_i}) + (1-\\eta) Pop(p_i)\\right)\n",
    "\\end{equation*}\n",
    "Subject to\n",
    "\\begin{align*}\n",
    "    %x_{i,j} \\in \\{0, 1\\}, & \\forall i,j = 1,\\dots,N \\\\\n",
    "    \\sum_{j=2}^N x_{1,j} &= \\sum_{i=1}^{N-1} x_{i,N} = 1 \\\\ %\\text{(starts/ends at $p_1$/$p_N$)} \\\\\n",
    "    \\sum_{i=1}^{N-1} x_{i,k} &= \\sum_{j=2}^{N} x_{k,j} \\le 1, \\forall k = 2,\\dots,N-1 \\\\ %\\text{(connected, enters/leaves $p_k$ at most once)}\n",
    "    %q_i \\in \\{2,\\dots,N\\}, & \\forall i = 2,\\dots,N \\\\\n",
    "    q_i - q_j + 1 &\\le (N-1)(1-x_{i,j}), \\forall i,j = 2,\\dots,N \\\\ %\\text{sub-tour elimination} \\\\\n",
    "    %\\sum_{i=1}^{N-1} \\sum_{j=2}^N x_{i,j} Cost(i,j) \\le B %\\text{(budget constraint)}\n",
    "    %\\sum_{i=1}^{N-1} \\sum_{j=2}^N x_{i,j} \\left(T^{Travel}(p_i, p_j) + Int(u, Cat_{p_j}) * \\bar{V}(p_j) \\right) & \\le B\n",
    "    \\sum_{i=1}^{N-1} \\sum_{j=2}^N x_{i,j} & \\left(Time(p_i, p_j) + Int(u, Cat_{p_j}) * \\bar{V}(p_j) \\right) \\le B\n",
    "\\end{align*}"
   ]
  },
  {
   "cell_type": "markdown",
   "metadata": {},
   "source": [
    "We use a Python library called [PuLP](https://github.com/coin-or/pulp) from the [COIN-OR](http://www.coin-or.org/) project to model the integer programs.\n",
    "PuLP enables many LP solvers such as [GLPK](http://www.gnu.org/software/glpk/), [CBC](https://projects.coin-or.org/Cbc), [CPLEX](http://www.ibm.com/software/commerce/optimization/cplex-optimizer/) and [Gurobi](http://www.gurobi.com) to be called to solve the model.\n",
    "Its comprehensive documentation is available [here](https://pythonhosted.org/PuLP/index.html)."
   ]
  },
  {
   "cell_type": "markdown",
   "metadata": {},
   "source": [
    "# 3. Prepare Data"
   ]
  },
  {
   "cell_type": "markdown",
   "metadata": {},
   "source": [
    "## 3.1 Load Trajectory Data"
   ]
  },
  {
   "cell_type": "code",
   "execution_count": 529,
   "metadata": {
    "collapsed": false
   },
   "outputs": [],
   "source": [
    "%matplotlib inline\n",
    "\n",
    "import os\n",
    "import re\n",
    "import math\n",
    "import pulp\n",
    "import random\n",
    "import pandas as pd\n",
    "import numpy as np\n",
    "import matplotlib.pyplot as plt\n",
    "from datetime import datetime\n",
    "from fastkml import kml, styles\n",
    "import lxml # for fastkml pretty print\n",
    "from shapely.geometry import Point, LineString\n",
    "from joblib import Parallel, delayed"
   ]
  },
  {
   "cell_type": "code",
   "execution_count": 530,
   "metadata": {
    "collapsed": true
   },
   "outputs": [],
   "source": [
    "speed = 4 # 4km/h\n",
    "random.seed(123456789)"
   ]
  },
  {
   "cell_type": "code",
   "execution_count": 531,
   "metadata": {
    "collapsed": true
   },
   "outputs": [],
   "source": [
    "data_dir = 'data/data-ijcai15'\n",
    "#fvisit = os.path.join(data_dir, 'userVisits-Osak.csv')\n",
    "#fcoord = os.path.join(data_dir, 'photoCoords-Osak.csv')\n",
    "#fvisit = os.path.join(data_dir, 'userVisits-Glas.csv')\n",
    "#fcoord = os.path.join(data_dir, 'photoCoords-Glas.csv')\n",
    "#fvisit = os.path.join(data_dir, 'userVisits-Edin.csv')\n",
    "#fcoord = os.path.join(data_dir, 'photoCoords-Edin.csv')\n",
    "fvisit = os.path.join(data_dir, 'userVisits-Toro.csv')\n",
    "fcoord = os.path.join(data_dir, 'photoCoords-Toro.csv')"
   ]
  },
  {
   "cell_type": "code",
   "execution_count": 532,
   "metadata": {
    "collapsed": true
   },
   "outputs": [],
   "source": [
    "suffix = fvisit.split('-')[-1].split('.')[0]"
   ]
  },
  {
   "cell_type": "code",
   "execution_count": 533,
   "metadata": {
    "collapsed": false
   },
   "outputs": [
    {
     "data": {
      "text/html": [
       "<div>\n",
       "<table border=\"1\" class=\"dataframe\">\n",
       "  <thead>\n",
       "    <tr style=\"text-align: right;\">\n",
       "      <th></th>\n",
       "      <th>photoID</th>\n",
       "      <th>userID</th>\n",
       "      <th>dateTaken</th>\n",
       "      <th>poiID</th>\n",
       "      <th>poiTheme</th>\n",
       "      <th>poiFreq</th>\n",
       "      <th>seqID</th>\n",
       "    </tr>\n",
       "  </thead>\n",
       "  <tbody>\n",
       "    <tr>\n",
       "      <th>0</th>\n",
       "      <td>7941504100</td>\n",
       "      <td>10007579@N00</td>\n",
       "      <td>1346844688</td>\n",
       "      <td>30</td>\n",
       "      <td>Structure</td>\n",
       "      <td>1538</td>\n",
       "      <td>1</td>\n",
       "    </tr>\n",
       "    <tr>\n",
       "      <th>1</th>\n",
       "      <td>4886005532</td>\n",
       "      <td>10012675@N05</td>\n",
       "      <td>1142731848</td>\n",
       "      <td>6</td>\n",
       "      <td>Cultural</td>\n",
       "      <td>986</td>\n",
       "      <td>2</td>\n",
       "    </tr>\n",
       "    <tr>\n",
       "      <th>2</th>\n",
       "      <td>4886006468</td>\n",
       "      <td>10012675@N05</td>\n",
       "      <td>1142732248</td>\n",
       "      <td>6</td>\n",
       "      <td>Cultural</td>\n",
       "      <td>986</td>\n",
       "      <td>2</td>\n",
       "    </tr>\n",
       "    <tr>\n",
       "      <th>3</th>\n",
       "      <td>4885404441</td>\n",
       "      <td>10012675@N05</td>\n",
       "      <td>1142732373</td>\n",
       "      <td>6</td>\n",
       "      <td>Cultural</td>\n",
       "      <td>986</td>\n",
       "      <td>2</td>\n",
       "    </tr>\n",
       "    <tr>\n",
       "      <th>4</th>\n",
       "      <td>4886008334</td>\n",
       "      <td>10012675@N05</td>\n",
       "      <td>1142732445</td>\n",
       "      <td>6</td>\n",
       "      <td>Cultural</td>\n",
       "      <td>986</td>\n",
       "      <td>2</td>\n",
       "    </tr>\n",
       "  </tbody>\n",
       "</table>\n",
       "</div>"
      ],
      "text/plain": [
       "      photoID        userID   dateTaken  poiID   poiTheme  poiFreq  seqID\n",
       "0  7941504100  10007579@N00  1346844688     30  Structure     1538      1\n",
       "1  4886005532  10012675@N05  1142731848      6   Cultural      986      2\n",
       "2  4886006468  10012675@N05  1142732248      6   Cultural      986      2\n",
       "3  4885404441  10012675@N05  1142732373      6   Cultural      986      2\n",
       "4  4886008334  10012675@N05  1142732445      6   Cultural      986      2"
      ]
     },
     "execution_count": 533,
     "metadata": {},
     "output_type": "execute_result"
    }
   ],
   "source": [
    "visits = pd.read_csv(fvisit, sep=';')\n",
    "visits.head()"
   ]
  },
  {
   "cell_type": "code",
   "execution_count": 534,
   "metadata": {
    "collapsed": false
   },
   "outputs": [
    {
     "data": {
      "text/html": [
       "<div>\n",
       "<table border=\"1\" class=\"dataframe\">\n",
       "  <thead>\n",
       "    <tr style=\"text-align: right;\">\n",
       "      <th></th>\n",
       "      <th>photoID</th>\n",
       "      <th>photoLon</th>\n",
       "      <th>photoLat</th>\n",
       "    </tr>\n",
       "  </thead>\n",
       "  <tbody>\n",
       "    <tr>\n",
       "      <th>0</th>\n",
       "      <td>7941504100</td>\n",
       "      <td>-79.380844</td>\n",
       "      <td>43.645641</td>\n",
       "    </tr>\n",
       "    <tr>\n",
       "      <th>1</th>\n",
       "      <td>4886005532</td>\n",
       "      <td>-79.391525</td>\n",
       "      <td>43.654335</td>\n",
       "    </tr>\n",
       "    <tr>\n",
       "      <th>2</th>\n",
       "      <td>4886006468</td>\n",
       "      <td>-79.391525</td>\n",
       "      <td>43.654335</td>\n",
       "    </tr>\n",
       "    <tr>\n",
       "      <th>3</th>\n",
       "      <td>4885404441</td>\n",
       "      <td>-79.391525</td>\n",
       "      <td>43.654335</td>\n",
       "    </tr>\n",
       "    <tr>\n",
       "      <th>4</th>\n",
       "      <td>4886008334</td>\n",
       "      <td>-79.391525</td>\n",
       "      <td>43.654335</td>\n",
       "    </tr>\n",
       "  </tbody>\n",
       "</table>\n",
       "</div>"
      ],
      "text/plain": [
       "      photoID   photoLon   photoLat\n",
       "0  7941504100 -79.380844  43.645641\n",
       "1  4886005532 -79.391525  43.654335\n",
       "2  4886006468 -79.391525  43.654335\n",
       "3  4885404441 -79.391525  43.654335\n",
       "4  4886008334 -79.391525  43.654335"
      ]
     },
     "execution_count": 534,
     "metadata": {},
     "output_type": "execute_result"
    }
   ],
   "source": [
    "coords = pd.read_csv(fcoord, sep=';')\n",
    "coords.head()"
   ]
  },
  {
   "cell_type": "code",
   "execution_count": 535,
   "metadata": {
    "collapsed": false
   },
   "outputs": [
    {
     "data": {
      "text/html": [
       "<div>\n",
       "<table border=\"1\" class=\"dataframe\">\n",
       "  <thead>\n",
       "    <tr style=\"text-align: right;\">\n",
       "      <th></th>\n",
       "      <th>photoID</th>\n",
       "      <th>userID</th>\n",
       "      <th>dateTaken</th>\n",
       "      <th>poiID</th>\n",
       "      <th>poiTheme</th>\n",
       "      <th>poiFreq</th>\n",
       "      <th>seqID</th>\n",
       "      <th>photoLon</th>\n",
       "      <th>photoLat</th>\n",
       "    </tr>\n",
       "  </thead>\n",
       "  <tbody>\n",
       "    <tr>\n",
       "      <th>0</th>\n",
       "      <td>7941504100</td>\n",
       "      <td>10007579@N00</td>\n",
       "      <td>1346844688</td>\n",
       "      <td>30</td>\n",
       "      <td>Structure</td>\n",
       "      <td>1538</td>\n",
       "      <td>1</td>\n",
       "      <td>-79.380844</td>\n",
       "      <td>43.645641</td>\n",
       "    </tr>\n",
       "    <tr>\n",
       "      <th>1</th>\n",
       "      <td>4886005532</td>\n",
       "      <td>10012675@N05</td>\n",
       "      <td>1142731848</td>\n",
       "      <td>6</td>\n",
       "      <td>Cultural</td>\n",
       "      <td>986</td>\n",
       "      <td>2</td>\n",
       "      <td>-79.391525</td>\n",
       "      <td>43.654335</td>\n",
       "    </tr>\n",
       "    <tr>\n",
       "      <th>2</th>\n",
       "      <td>4886006468</td>\n",
       "      <td>10012675@N05</td>\n",
       "      <td>1142732248</td>\n",
       "      <td>6</td>\n",
       "      <td>Cultural</td>\n",
       "      <td>986</td>\n",
       "      <td>2</td>\n",
       "      <td>-79.391525</td>\n",
       "      <td>43.654335</td>\n",
       "    </tr>\n",
       "    <tr>\n",
       "      <th>3</th>\n",
       "      <td>4885404441</td>\n",
       "      <td>10012675@N05</td>\n",
       "      <td>1142732373</td>\n",
       "      <td>6</td>\n",
       "      <td>Cultural</td>\n",
       "      <td>986</td>\n",
       "      <td>2</td>\n",
       "      <td>-79.391525</td>\n",
       "      <td>43.654335</td>\n",
       "    </tr>\n",
       "    <tr>\n",
       "      <th>4</th>\n",
       "      <td>4886008334</td>\n",
       "      <td>10012675@N05</td>\n",
       "      <td>1142732445</td>\n",
       "      <td>6</td>\n",
       "      <td>Cultural</td>\n",
       "      <td>986</td>\n",
       "      <td>2</td>\n",
       "      <td>-79.391525</td>\n",
       "      <td>43.654335</td>\n",
       "    </tr>\n",
       "  </tbody>\n",
       "</table>\n",
       "</div>"
      ],
      "text/plain": [
       "      photoID        userID   dateTaken  poiID   poiTheme  poiFreq  seqID  \\\n",
       "0  7941504100  10007579@N00  1346844688     30  Structure     1538      1   \n",
       "1  4886005532  10012675@N05  1142731848      6   Cultural      986      2   \n",
       "2  4886006468  10012675@N05  1142732248      6   Cultural      986      2   \n",
       "3  4885404441  10012675@N05  1142732373      6   Cultural      986      2   \n",
       "4  4886008334  10012675@N05  1142732445      6   Cultural      986      2   \n",
       "\n",
       "    photoLon   photoLat  \n",
       "0 -79.380844  43.645641  \n",
       "1 -79.391525  43.654335  \n",
       "2 -79.391525  43.654335  \n",
       "3 -79.391525  43.654335  \n",
       "4 -79.391525  43.654335  "
      ]
     },
     "execution_count": 535,
     "metadata": {},
     "output_type": "execute_result"
    }
   ],
   "source": [
    "# merge data frames according to column 'photoID'\n",
    "assert(visits.shape[0] == coords.shape[0])\n",
    "traj = pd.merge(visits, coords, on='photoID')\n",
    "traj.head()"
   ]
  },
  {
   "cell_type": "code",
   "execution_count": 536,
   "metadata": {
    "collapsed": false
   },
   "outputs": [
    {
     "data": {
      "text/html": [
       "<div>\n",
       "<table border=\"1\" class=\"dataframe\">\n",
       "  <thead>\n",
       "    <tr style=\"text-align: right;\">\n",
       "      <th></th>\n",
       "      <th>photoLon</th>\n",
       "      <th>photoLat</th>\n",
       "    </tr>\n",
       "  </thead>\n",
       "  <tbody>\n",
       "    <tr>\n",
       "      <th>min</th>\n",
       "      <td>-79.465088</td>\n",
       "      <td>43.618523</td>\n",
       "    </tr>\n",
       "    <tr>\n",
       "      <th>max</th>\n",
       "      <td>-79.180336</td>\n",
       "      <td>43.822018</td>\n",
       "    </tr>\n",
       "    <tr>\n",
       "      <th>range</th>\n",
       "      <td>0.284752</td>\n",
       "      <td>0.203495</td>\n",
       "    </tr>\n",
       "  </tbody>\n",
       "</table>\n",
       "</div>"
      ],
      "text/plain": [
       "        photoLon   photoLat\n",
       "min   -79.465088  43.618523\n",
       "max   -79.180336  43.822018\n",
       "range   0.284752   0.203495"
      ]
     },
     "execution_count": 536,
     "metadata": {},
     "output_type": "execute_result"
    }
   ],
   "source": [
    "pd.DataFrame([traj[['photoLon', 'photoLat']].min(), traj[['photoLon', 'photoLat']].max(), \\\n",
    "             traj[['photoLon', 'photoLat']].max() - traj[['photoLon', 'photoLat']].min()], \\\n",
    "             index = ['min', 'max', 'range'])"
   ]
  },
  {
   "cell_type": "code",
   "execution_count": 537,
   "metadata": {
    "collapsed": false
   },
   "outputs": [
    {
     "data": {
      "text/plain": [
       "<matplotlib.collections.PathCollection at 0x7ff1bef00080>"
      ]
     },
     "execution_count": 537,
     "metadata": {},
     "output_type": "execute_result"
    },
    {
     "data": {
      "image/png": "[encoded data removed]",
      "text/plain": [
       "<matplotlib.figure.Figure at 0x7ff19bd8f710>"
      ]
     },
     "metadata": {},
     "output_type": "display_data"
    }
   ],
   "source": [
    "plt.figure(figsize=[15, 5])\n",
    "plt.xlabel('Longitude')\n",
    "plt.ylabel('Latitude')\n",
    "plt.scatter(traj['photoLon'], traj['photoLat'], marker='+')"
   ]
  },
  {
   "cell_type": "code",
   "execution_count": 538,
   "metadata": {
    "collapsed": false
   },
   "outputs": [
    {
     "data": {
      "text/html": [
       "<div>\n",
       "<table border=\"1\" class=\"dataframe\">\n",
       "  <thead>\n",
       "    <tr style=\"text-align: right;\">\n",
       "      <th></th>\n",
       "      <th>Toro</th>\n",
       "    </tr>\n",
       "  </thead>\n",
       "  <tbody>\n",
       "    <tr>\n",
       "      <th>#photo</th>\n",
       "      <td>39419.000000</td>\n",
       "    </tr>\n",
       "    <tr>\n",
       "      <th>#user</th>\n",
       "      <td>1395.000000</td>\n",
       "    </tr>\n",
       "    <tr>\n",
       "      <th>#seq</th>\n",
       "      <td>6057.000000</td>\n",
       "    </tr>\n",
       "    <tr>\n",
       "      <th>#poi</th>\n",
       "      <td>29.000000</td>\n",
       "    </tr>\n",
       "    <tr>\n",
       "      <th>#photo/user</th>\n",
       "      <td>28.257348</td>\n",
       "    </tr>\n",
       "    <tr>\n",
       "      <th>#seq/user</th>\n",
       "      <td>4.341935</td>\n",
       "    </tr>\n",
       "  </tbody>\n",
       "</table>\n",
       "</div>"
      ],
      "text/plain": [
       "                     Toro\n",
       "#photo       39419.000000\n",
       "#user         1395.000000\n",
       "#seq          6057.000000\n",
       "#poi            29.000000\n",
       "#photo/user     28.257348\n",
       "#seq/user        4.341935"
      ]
     },
     "execution_count": 538,
     "metadata": {},
     "output_type": "execute_result"
    }
   ],
   "source": [
    "num_photo = traj['photoID'].unique().shape[0]\n",
    "num_user = traj['userID'].unique().shape[0]\n",
    "num_seq = traj['seqID'].unique().shape[0]\n",
    "num_poi = traj['poiID'].unique().shape[0]\n",
    "pd.DataFrame([num_photo, num_user, num_seq, num_poi, num_photo/num_user, num_seq/num_user], \\\n",
    "             index = ['#photo', '#user', '#seq', '#poi', '#photo/user', '#seq/user'], columns=[str(suffix)])"
   ]
  },
  {
   "cell_type": "markdown",
   "metadata": {},
   "source": [
    "<a id='sec3.2'></a>"
   ]
  },
  {
   "cell_type": "markdown",
   "metadata": {},
   "source": [
    "## 3.2 Compute POI Info"
   ]
  },
  {
   "cell_type": "markdown",
   "metadata": {},
   "source": [
    "Compute POI (Longitude, Latitude) as the average coordinates of the assigned photos."
   ]
  },
  {
   "cell_type": "code",
   "execution_count": 539,
   "metadata": {
    "collapsed": false
   },
   "outputs": [
    {
     "data": {
      "text/html": [
       "<div>\n",
       "<table border=\"1\" class=\"dataframe\">\n",
       "  <thead>\n",
       "    <tr style=\"text-align: right;\">\n",
       "      <th></th>\n",
       "      <th>poiID</th>\n",
       "      <th>poiLon</th>\n",
       "      <th>poiLat</th>\n",
       "    </tr>\n",
       "  </thead>\n",
       "  <tbody>\n",
       "    <tr>\n",
       "      <th>0</th>\n",
       "      <td>1</td>\n",
       "      <td>-79.379243</td>\n",
       "      <td>43.643183</td>\n",
       "    </tr>\n",
       "    <tr>\n",
       "      <th>1</th>\n",
       "      <td>2</td>\n",
       "      <td>-79.418634</td>\n",
       "      <td>43.632772</td>\n",
       "    </tr>\n",
       "    <tr>\n",
       "      <th>2</th>\n",
       "      <td>3</td>\n",
       "      <td>-79.380045</td>\n",
       "      <td>43.662175</td>\n",
       "    </tr>\n",
       "    <tr>\n",
       "      <th>3</th>\n",
       "      <td>4</td>\n",
       "      <td>-79.389290</td>\n",
       "      <td>43.641297</td>\n",
       "    </tr>\n",
       "    <tr>\n",
       "      <th>4</th>\n",
       "      <td>6</td>\n",
       "      <td>-79.392396</td>\n",
       "      <td>43.653662</td>\n",
       "    </tr>\n",
       "  </tbody>\n",
       "</table>\n",
       "</div>"
      ],
      "text/plain": [
       "   poiID     poiLon     poiLat\n",
       "0      1 -79.379243  43.643183\n",
       "1      2 -79.418634  43.632772\n",
       "2      3 -79.380045  43.662175\n",
       "3      4 -79.389290  43.641297\n",
       "4      6 -79.392396  43.653662"
      ]
     },
     "execution_count": 539,
     "metadata": {},
     "output_type": "execute_result"
    }
   ],
   "source": [
    "poi_coords = traj[['poiID', 'photoLon', 'photoLat']].groupby('poiID').agg(np.mean)\n",
    "poi_coords.reset_index(inplace=True)\n",
    "poi_coords.rename(columns={'photoLon':'poiLon', 'photoLat':'poiLat'}, inplace=True)\n",
    "poi_coords.head()"
   ]
  },
  {
   "cell_type": "markdown",
   "metadata": {},
   "source": [
    "Extract POI category and visiting frequency."
   ]
  },
  {
   "cell_type": "code",
   "execution_count": 540,
   "metadata": {
    "collapsed": false
   },
   "outputs": [
    {
     "data": {
      "text/html": [
       "<div>\n",
       "<table border=\"1\" class=\"dataframe\">\n",
       "  <thead>\n",
       "    <tr style=\"text-align: right;\">\n",
       "      <th></th>\n",
       "      <th>poiID</th>\n",
       "      <th>poiTheme</th>\n",
       "      <th>poiFreq</th>\n",
       "    </tr>\n",
       "  </thead>\n",
       "  <tbody>\n",
       "    <tr>\n",
       "      <th>0</th>\n",
       "      <td>1</td>\n",
       "      <td>Sport</td>\n",
       "      <td>3506</td>\n",
       "    </tr>\n",
       "    <tr>\n",
       "      <th>1</th>\n",
       "      <td>2</td>\n",
       "      <td>Sport</td>\n",
       "      <td>609</td>\n",
       "    </tr>\n",
       "    <tr>\n",
       "      <th>2</th>\n",
       "      <td>3</td>\n",
       "      <td>Sport</td>\n",
       "      <td>688</td>\n",
       "    </tr>\n",
       "    <tr>\n",
       "      <th>3</th>\n",
       "      <td>4</td>\n",
       "      <td>Sport</td>\n",
       "      <td>3056</td>\n",
       "    </tr>\n",
       "    <tr>\n",
       "      <th>4</th>\n",
       "      <td>6</td>\n",
       "      <td>Cultural</td>\n",
       "      <td>986</td>\n",
       "    </tr>\n",
       "  </tbody>\n",
       "</table>\n",
       "</div>"
      ],
      "text/plain": [
       "   poiID  poiTheme  poiFreq\n",
       "0      1     Sport     3506\n",
       "1      2     Sport      609\n",
       "2      3     Sport      688\n",
       "3      4     Sport     3056\n",
       "4      6  Cultural      986"
      ]
     },
     "execution_count": 540,
     "metadata": {},
     "output_type": "execute_result"
    }
   ],
   "source": [
    "poi_catfreq = traj[['poiID', 'poiTheme', 'poiFreq']].groupby('poiID').first()\n",
    "poi_catfreq.reset_index(inplace=True)\n",
    "poi_catfreq.head()"
   ]
  },
  {
   "cell_type": "code",
   "execution_count": 541,
   "metadata": {
    "collapsed": false
   },
   "outputs": [
    {
     "data": {
      "text/html": [
       "<div>\n",
       "<table border=\"1\" class=\"dataframe\">\n",
       "  <thead>\n",
       "    <tr style=\"text-align: right;\">\n",
       "      <th></th>\n",
       "      <th>poiTheme</th>\n",
       "      <th>poiFreq</th>\n",
       "      <th>poiLon</th>\n",
       "      <th>poiLat</th>\n",
       "    </tr>\n",
       "    <tr>\n",
       "      <th>poiID</th>\n",
       "      <th></th>\n",
       "      <th></th>\n",
       "      <th></th>\n",
       "      <th></th>\n",
       "    </tr>\n",
       "  </thead>\n",
       "  <tbody>\n",
       "    <tr>\n",
       "      <th>1</th>\n",
       "      <td>Sport</td>\n",
       "      <td>3506</td>\n",
       "      <td>-79.379243</td>\n",
       "      <td>43.643183</td>\n",
       "    </tr>\n",
       "    <tr>\n",
       "      <th>2</th>\n",
       "      <td>Sport</td>\n",
       "      <td>609</td>\n",
       "      <td>-79.418634</td>\n",
       "      <td>43.632772</td>\n",
       "    </tr>\n",
       "    <tr>\n",
       "      <th>3</th>\n",
       "      <td>Sport</td>\n",
       "      <td>688</td>\n",
       "      <td>-79.380045</td>\n",
       "      <td>43.662175</td>\n",
       "    </tr>\n",
       "    <tr>\n",
       "      <th>4</th>\n",
       "      <td>Sport</td>\n",
       "      <td>3056</td>\n",
       "      <td>-79.389290</td>\n",
       "      <td>43.641297</td>\n",
       "    </tr>\n",
       "    <tr>\n",
       "      <th>6</th>\n",
       "      <td>Cultural</td>\n",
       "      <td>986</td>\n",
       "      <td>-79.392396</td>\n",
       "      <td>43.653662</td>\n",
       "    </tr>\n",
       "  </tbody>\n",
       "</table>\n",
       "</div>"
      ],
      "text/plain": [
       "       poiTheme  poiFreq     poiLon     poiLat\n",
       "poiID                                         \n",
       "1         Sport     3506 -79.379243  43.643183\n",
       "2         Sport      609 -79.418634  43.632772\n",
       "3         Sport      688 -79.380045  43.662175\n",
       "4         Sport     3056 -79.389290  43.641297\n",
       "6      Cultural      986 -79.392396  43.653662"
      ]
     },
     "execution_count": 541,
     "metadata": {},
     "output_type": "execute_result"
    }
   ],
   "source": [
    "poi_all = pd.merge(poi_catfreq, poi_coords, on='poiID')\n",
    "poi_all.set_index('poiID', inplace=True)\n",
    "poi_all.head()"
   ]
  },
  {
   "cell_type": "markdown",
   "metadata": {},
   "source": [
    "## 3.3 Construct Travelling Sequences"
   ]
  },
  {
   "cell_type": "code",
   "execution_count": 542,
   "metadata": {
    "collapsed": false
   },
   "outputs": [
    {
     "data": {
      "text/html": [
       "<div>\n",
       "<table border=\"1\" class=\"dataframe\">\n",
       "  <thead>\n",
       "    <tr>\n",
       "      <th></th>\n",
       "      <th></th>\n",
       "      <th></th>\n",
       "      <th colspan=\"2\" halign=\"left\">dateTaken</th>\n",
       "    </tr>\n",
       "    <tr>\n",
       "      <th></th>\n",
       "      <th></th>\n",
       "      <th></th>\n",
       "      <th>amin</th>\n",
       "      <th>amax</th>\n",
       "    </tr>\n",
       "    <tr>\n",
       "      <th>userID</th>\n",
       "      <th>seqID</th>\n",
       "      <th>poiID</th>\n",
       "      <th></th>\n",
       "      <th></th>\n",
       "    </tr>\n",
       "  </thead>\n",
       "  <tbody>\n",
       "    <tr>\n",
       "      <th>10007579@N00</th>\n",
       "      <th>1</th>\n",
       "      <th>30</th>\n",
       "      <td>1346844688</td>\n",
       "      <td>1346844688</td>\n",
       "    </tr>\n",
       "    <tr>\n",
       "      <th rowspan=\"3\" valign=\"top\">10012675@N05</th>\n",
       "      <th>2</th>\n",
       "      <th>6</th>\n",
       "      <td>1142731848</td>\n",
       "      <td>1142732445</td>\n",
       "    </tr>\n",
       "    <tr>\n",
       "      <th>3</th>\n",
       "      <th>6</th>\n",
       "      <td>1142916492</td>\n",
       "      <td>1142916492</td>\n",
       "    </tr>\n",
       "    <tr>\n",
       "      <th>4</th>\n",
       "      <th>13</th>\n",
       "      <td>1319327174</td>\n",
       "      <td>1319332848</td>\n",
       "    </tr>\n",
       "    <tr>\n",
       "      <th>10014440@N06</th>\n",
       "      <th>5</th>\n",
       "      <th>24</th>\n",
       "      <td>1196128621</td>\n",
       "      <td>1196128878</td>\n",
       "    </tr>\n",
       "  </tbody>\n",
       "</table>\n",
       "</div>"
      ],
      "text/plain": [
       "                           dateTaken            \n",
       "                                amin        amax\n",
       "userID       seqID poiID                        \n",
       "10007579@N00 1     30     1346844688  1346844688\n",
       "10012675@N05 2     6      1142731848  1142732445\n",
       "             3     6      1142916492  1142916492\n",
       "             4     13     1319327174  1319332848\n",
       "10014440@N06 5     24     1196128621  1196128878"
      ]
     },
     "execution_count": 542,
     "metadata": {},
     "output_type": "execute_result"
    }
   ],
   "source": [
    "seq_all = traj[['userID', 'seqID', 'poiID', 'dateTaken']].copy()\\\n",
    "          .groupby(['userID', 'seqID', 'poiID']).agg([np.min, np.max])\n",
    "seq_all.head()"
   ]
  },
  {
   "cell_type": "code",
   "execution_count": 543,
   "metadata": {
    "collapsed": false
   },
   "outputs": [
    {
     "data": {
      "text/html": [
       "<div>\n",
       "<table border=\"1\" class=\"dataframe\">\n",
       "  <thead>\n",
       "    <tr style=\"text-align: right;\">\n",
       "      <th></th>\n",
       "      <th></th>\n",
       "      <th></th>\n",
       "      <th>amin</th>\n",
       "      <th>amax</th>\n",
       "    </tr>\n",
       "    <tr>\n",
       "      <th>userID</th>\n",
       "      <th>seqID</th>\n",
       "      <th>poiID</th>\n",
       "      <th></th>\n",
       "      <th></th>\n",
       "    </tr>\n",
       "  </thead>\n",
       "  <tbody>\n",
       "    <tr>\n",
       "      <th>10007579@N00</th>\n",
       "      <th>1</th>\n",
       "      <th>30</th>\n",
       "      <td>1346844688</td>\n",
       "      <td>1346844688</td>\n",
       "    </tr>\n",
       "    <tr>\n",
       "      <th rowspan=\"3\" valign=\"top\">10012675@N05</th>\n",
       "      <th>2</th>\n",
       "      <th>6</th>\n",
       "      <td>1142731848</td>\n",
       "      <td>1142732445</td>\n",
       "    </tr>\n",
       "    <tr>\n",
       "      <th>3</th>\n",
       "      <th>6</th>\n",
       "      <td>1142916492</td>\n",
       "      <td>1142916492</td>\n",
       "    </tr>\n",
       "    <tr>\n",
       "      <th>4</th>\n",
       "      <th>13</th>\n",
       "      <td>1319327174</td>\n",
       "      <td>1319332848</td>\n",
       "    </tr>\n",
       "    <tr>\n",
       "      <th>10014440@N06</th>\n",
       "      <th>5</th>\n",
       "      <th>24</th>\n",
       "      <td>1196128621</td>\n",
       "      <td>1196128878</td>\n",
       "    </tr>\n",
       "  </tbody>\n",
       "</table>\n",
       "</div>"
      ],
      "text/plain": [
       "                                amin        amax\n",
       "userID       seqID poiID                        \n",
       "10007579@N00 1     30     1346844688  1346844688\n",
       "10012675@N05 2     6      1142731848  1142732445\n",
       "             3     6      1142916492  1142916492\n",
       "             4     13     1319327174  1319332848\n",
       "10014440@N06 5     24     1196128621  1196128878"
      ]
     },
     "execution_count": 543,
     "metadata": {},
     "output_type": "execute_result"
    }
   ],
   "source": [
    "seq_all.columns = seq_all.columns.droplevel()\n",
    "seq_all.head()"
   ]
  },
  {
   "cell_type": "code",
   "execution_count": 544,
   "metadata": {
    "collapsed": false
   },
   "outputs": [
    {
     "data": {
      "text/html": [
       "<div>\n",
       "<table border=\"1\" class=\"dataframe\">\n",
       "  <thead>\n",
       "    <tr style=\"text-align: right;\">\n",
       "      <th></th>\n",
       "      <th>userID</th>\n",
       "      <th>seqID</th>\n",
       "      <th>poiID</th>\n",
       "      <th>amin</th>\n",
       "      <th>amax</th>\n",
       "    </tr>\n",
       "  </thead>\n",
       "  <tbody>\n",
       "    <tr>\n",
       "      <th>0</th>\n",
       "      <td>10007579@N00</td>\n",
       "      <td>1</td>\n",
       "      <td>30</td>\n",
       "      <td>1346844688</td>\n",
       "      <td>1346844688</td>\n",
       "    </tr>\n",
       "    <tr>\n",
       "      <th>1</th>\n",
       "      <td>10012675@N05</td>\n",
       "      <td>2</td>\n",
       "      <td>6</td>\n",
       "      <td>1142731848</td>\n",
       "      <td>1142732445</td>\n",
       "    </tr>\n",
       "    <tr>\n",
       "      <th>2</th>\n",
       "      <td>10012675@N05</td>\n",
       "      <td>3</td>\n",
       "      <td>6</td>\n",
       "      <td>1142916492</td>\n",
       "      <td>1142916492</td>\n",
       "    </tr>\n",
       "    <tr>\n",
       "      <th>3</th>\n",
       "      <td>10012675@N05</td>\n",
       "      <td>4</td>\n",
       "      <td>13</td>\n",
       "      <td>1319327174</td>\n",
       "      <td>1319332848</td>\n",
       "    </tr>\n",
       "    <tr>\n",
       "      <th>4</th>\n",
       "      <td>10014440@N06</td>\n",
       "      <td>5</td>\n",
       "      <td>24</td>\n",
       "      <td>1196128621</td>\n",
       "      <td>1196128878</td>\n",
       "    </tr>\n",
       "  </tbody>\n",
       "</table>\n",
       "</div>"
      ],
      "text/plain": [
       "         userID  seqID  poiID        amin        amax\n",
       "0  10007579@N00      1     30  1346844688  1346844688\n",
       "1  10012675@N05      2      6  1142731848  1142732445\n",
       "2  10012675@N05      3      6  1142916492  1142916492\n",
       "3  10012675@N05      4     13  1319327174  1319332848\n",
       "4  10014440@N06      5     24  1196128621  1196128878"
      ]
     },
     "execution_count": 544,
     "metadata": {},
     "output_type": "execute_result"
    }
   ],
   "source": [
    "seq_all.reset_index(inplace=True)\n",
    "seq_all.head()"
   ]
  },
  {
   "cell_type": "code",
   "execution_count": 545,
   "metadata": {
    "collapsed": false
   },
   "outputs": [
    {
     "data": {
      "text/html": [
       "<div>\n",
       "<table border=\"1\" class=\"dataframe\">\n",
       "  <thead>\n",
       "    <tr style=\"text-align: right;\">\n",
       "      <th></th>\n",
       "      <th>userID</th>\n",
       "      <th>seqID</th>\n",
       "      <th>poiID</th>\n",
       "      <th>arrivalTime</th>\n",
       "      <th>departureTime</th>\n",
       "      <th>poiDuration(sec)</th>\n",
       "    </tr>\n",
       "  </thead>\n",
       "  <tbody>\n",
       "    <tr>\n",
       "      <th>0</th>\n",
       "      <td>10007579@N00</td>\n",
       "      <td>1</td>\n",
       "      <td>30</td>\n",
       "      <td>1346844688</td>\n",
       "      <td>1346844688</td>\n",
       "      <td>0</td>\n",
       "    </tr>\n",
       "    <tr>\n",
       "      <th>1</th>\n",
       "      <td>10012675@N05</td>\n",
       "      <td>2</td>\n",
       "      <td>6</td>\n",
       "      <td>1142731848</td>\n",
       "      <td>1142732445</td>\n",
       "      <td>597</td>\n",
       "    </tr>\n",
       "    <tr>\n",
       "      <th>2</th>\n",
       "      <td>10012675@N05</td>\n",
       "      <td>3</td>\n",
       "      <td>6</td>\n",
       "      <td>1142916492</td>\n",
       "      <td>1142916492</td>\n",
       "      <td>0</td>\n",
       "    </tr>\n",
       "    <tr>\n",
       "      <th>3</th>\n",
       "      <td>10012675@N05</td>\n",
       "      <td>4</td>\n",
       "      <td>13</td>\n",
       "      <td>1319327174</td>\n",
       "      <td>1319332848</td>\n",
       "      <td>5674</td>\n",
       "    </tr>\n",
       "    <tr>\n",
       "      <th>4</th>\n",
       "      <td>10014440@N06</td>\n",
       "      <td>5</td>\n",
       "      <td>24</td>\n",
       "      <td>1196128621</td>\n",
       "      <td>1196128878</td>\n",
       "      <td>257</td>\n",
       "    </tr>\n",
       "  </tbody>\n",
       "</table>\n",
       "</div>"
      ],
      "text/plain": [
       "         userID  seqID  poiID  arrivalTime  departureTime  poiDuration(sec)\n",
       "0  10007579@N00      1     30   1346844688     1346844688                 0\n",
       "1  10012675@N05      2      6   1142731848     1142732445               597\n",
       "2  10012675@N05      3      6   1142916492     1142916492                 0\n",
       "3  10012675@N05      4     13   1319327174     1319332848              5674\n",
       "4  10014440@N06      5     24   1196128621     1196128878               257"
      ]
     },
     "execution_count": 545,
     "metadata": {},
     "output_type": "execute_result"
    }
   ],
   "source": [
    "seq_all.rename(columns={'amin':'arrivalTime', 'amax':'departureTime'}, inplace=True)\n",
    "seq_all['poiDuration(sec)'] = seq_all['departureTime'] - seq_all['arrivalTime']\n",
    "seq_all.head()"
   ]
  },
  {
   "cell_type": "code",
   "execution_count": 546,
   "metadata": {
    "collapsed": false
   },
   "outputs": [],
   "source": [
    "#tseq = seq_all[['poiID', 'poiDuration(sec)']].copy().groupby('poiID').agg(np.mean)\n",
    "#tseq"
   ]
  },
  {
   "cell_type": "code",
   "execution_count": 547,
   "metadata": {
    "collapsed": false
   },
   "outputs": [
    {
     "data": {
      "text/html": [
       "<div>\n",
       "<table border=\"1\" class=\"dataframe\">\n",
       "  <thead>\n",
       "    <tr style=\"text-align: right;\">\n",
       "      <th></th>\n",
       "      <th>userID</th>\n",
       "    </tr>\n",
       "    <tr>\n",
       "      <th>seqID</th>\n",
       "      <th></th>\n",
       "    </tr>\n",
       "  </thead>\n",
       "  <tbody>\n",
       "    <tr>\n",
       "      <th>1</th>\n",
       "      <td>10007579@N00</td>\n",
       "    </tr>\n",
       "    <tr>\n",
       "      <th>2</th>\n",
       "      <td>10012675@N05</td>\n",
       "    </tr>\n",
       "    <tr>\n",
       "      <th>3</th>\n",
       "      <td>10012675@N05</td>\n",
       "    </tr>\n",
       "    <tr>\n",
       "      <th>4</th>\n",
       "      <td>10012675@N05</td>\n",
       "    </tr>\n",
       "    <tr>\n",
       "      <th>5</th>\n",
       "      <td>10014440@N06</td>\n",
       "    </tr>\n",
       "  </tbody>\n",
       "</table>\n",
       "</div>"
      ],
      "text/plain": [
       "             userID\n",
       "seqID              \n",
       "1      10007579@N00\n",
       "2      10012675@N05\n",
       "3      10012675@N05\n",
       "4      10012675@N05\n",
       "5      10014440@N06"
      ]
     },
     "execution_count": 547,
     "metadata": {},
     "output_type": "execute_result"
    }
   ],
   "source": [
    "seq_user = seq_all[['seqID', 'userID']].copy()\n",
    "seq_user = seq_user.groupby('seqID').first()\n",
    "seq_user.head()"
   ]
  },
  {
   "cell_type": "code",
   "execution_count": 548,
   "metadata": {
    "collapsed": false
   },
   "outputs": [
    {
     "data": {
      "image/png": "[encoded data removed]",
      "text/plain": [
       "<matplotlib.figure.Figure at 0x7ff1bef00c88>"
      ]
     },
     "metadata": {},
     "output_type": "display_data"
    }
   ],
   "source": [
    "seq_len = seq_all[['userID', 'seqID', 'poiID']].copy()\n",
    "seq_len = seq_len.groupby(['userID', 'seqID']).agg(np.size)\n",
    "seq_len.reset_index(inplace=True)\n",
    "seq_len.rename(columns={'poiID':'seqLen'}, inplace=True)\n",
    "#seq_len.head()\n",
    "ax = seq_len['seqLen'].hist(bins=20)\n",
    "ax.set_yscale('log')"
   ]
  },
  {
   "cell_type": "markdown",
   "metadata": {},
   "source": [
    "## 3.4 Transition Matrix"
   ]
  },
  {
   "cell_type": "markdown",
   "metadata": {},
   "source": [
    "### 3.4.1 Transition Matrix for Time at POI"
   ]
  },
  {
   "cell_type": "code",
   "execution_count": 549,
   "metadata": {
    "collapsed": true
   },
   "outputs": [],
   "source": [
    "users = seq_all['userID'].unique()\n",
    "transmat_time = pd.DataFrame(np.zeros((len(users), poi_all.index.shape[0]), dtype=np.float64), \\\n",
    "                             index=users, columns=poi_all.index)"
   ]
  },
  {
   "cell_type": "code",
   "execution_count": 550,
   "metadata": {
    "collapsed": false
   },
   "outputs": [
    {
     "data": {
      "text/html": [
       "<div>\n",
       "<table border=\"1\" class=\"dataframe\">\n",
       "  <thead>\n",
       "    <tr style=\"text-align: right;\">\n",
       "      <th></th>\n",
       "      <th></th>\n",
       "      <th>poiDuration(sec)</th>\n",
       "    </tr>\n",
       "    <tr>\n",
       "      <th>userID</th>\n",
       "      <th>poiID</th>\n",
       "      <th></th>\n",
       "    </tr>\n",
       "  </thead>\n",
       "  <tbody>\n",
       "    <tr>\n",
       "      <th>10007579@N00</th>\n",
       "      <th>30</th>\n",
       "      <td>0</td>\n",
       "    </tr>\n",
       "    <tr>\n",
       "      <th rowspan=\"2\" valign=\"top\">10012675@N05</th>\n",
       "      <th>6</th>\n",
       "      <td>597</td>\n",
       "    </tr>\n",
       "    <tr>\n",
       "      <th>13</th>\n",
       "      <td>5674</td>\n",
       "    </tr>\n",
       "    <tr>\n",
       "      <th rowspan=\"2\" valign=\"top\">10014440@N06</th>\n",
       "      <th>4</th>\n",
       "      <td>0</td>\n",
       "    </tr>\n",
       "    <tr>\n",
       "      <th>17</th>\n",
       "      <td>31482</td>\n",
       "    </tr>\n",
       "  </tbody>\n",
       "</table>\n",
       "</div>"
      ],
      "text/plain": [
       "                    poiDuration(sec)\n",
       "userID       poiID                  \n",
       "10007579@N00 30                    0\n",
       "10012675@N05 6                   597\n",
       "             13                 5674\n",
       "10014440@N06 4                     0\n",
       "             17                31482"
      ]
     },
     "execution_count": 550,
     "metadata": {},
     "output_type": "execute_result"
    }
   ],
   "source": [
    "poi_time = seq_all[['userID', 'poiID', 'poiDuration(sec)']].copy().groupby(['userID', 'poiID']).agg(np.sum)\n",
    "poi_time.head()"
   ]
  },
  {
   "cell_type": "code",
   "execution_count": 551,
   "metadata": {
    "collapsed": false
   },
   "outputs": [
    {
     "name": "stdout",
     "output_type": "stream",
     "text": [
      "(1395, 29)\n"
     ]
    },
    {
     "data": {
      "text/html": [
       "<div>\n",
       "<table border=\"1\" class=\"dataframe\">\n",
       "  <thead>\n",
       "    <tr style=\"text-align: right;\">\n",
       "      <th>poiID</th>\n",
       "      <th>1</th>\n",
       "      <th>2</th>\n",
       "      <th>3</th>\n",
       "      <th>4</th>\n",
       "      <th>6</th>\n",
       "      <th>7</th>\n",
       "      <th>8</th>\n",
       "      <th>9</th>\n",
       "      <th>10</th>\n",
       "      <th>11</th>\n",
       "      <th>...</th>\n",
       "      <th>21</th>\n",
       "      <th>22</th>\n",
       "      <th>23</th>\n",
       "      <th>24</th>\n",
       "      <th>25</th>\n",
       "      <th>26</th>\n",
       "      <th>27</th>\n",
       "      <th>28</th>\n",
       "      <th>29</th>\n",
       "      <th>30</th>\n",
       "    </tr>\n",
       "  </thead>\n",
       "  <tbody>\n",
       "    <tr>\n",
       "      <th>10007579@N00</th>\n",
       "      <td>0</td>\n",
       "      <td>0</td>\n",
       "      <td>0</td>\n",
       "      <td>0</td>\n",
       "      <td>0</td>\n",
       "      <td>0</td>\n",
       "      <td>0</td>\n",
       "      <td>0</td>\n",
       "      <td>0</td>\n",
       "      <td>0</td>\n",
       "      <td>...</td>\n",
       "      <td>0</td>\n",
       "      <td>0</td>\n",
       "      <td>0</td>\n",
       "      <td>0</td>\n",
       "      <td>0</td>\n",
       "      <td>0</td>\n",
       "      <td>0</td>\n",
       "      <td>0</td>\n",
       "      <td>0</td>\n",
       "      <td>0</td>\n",
       "    </tr>\n",
       "    <tr>\n",
       "      <th>10012675@N05</th>\n",
       "      <td>0</td>\n",
       "      <td>0</td>\n",
       "      <td>0</td>\n",
       "      <td>0</td>\n",
       "      <td>597</td>\n",
       "      <td>0</td>\n",
       "      <td>0</td>\n",
       "      <td>0</td>\n",
       "      <td>0</td>\n",
       "      <td>0</td>\n",
       "      <td>...</td>\n",
       "      <td>0</td>\n",
       "      <td>0</td>\n",
       "      <td>0</td>\n",
       "      <td>0</td>\n",
       "      <td>0</td>\n",
       "      <td>0</td>\n",
       "      <td>0</td>\n",
       "      <td>0</td>\n",
       "      <td>0</td>\n",
       "      <td>0</td>\n",
       "    </tr>\n",
       "    <tr>\n",
       "      <th>10014440@N06</th>\n",
       "      <td>0</td>\n",
       "      <td>0</td>\n",
       "      <td>0</td>\n",
       "      <td>0</td>\n",
       "      <td>0</td>\n",
       "      <td>0</td>\n",
       "      <td>0</td>\n",
       "      <td>0</td>\n",
       "      <td>0</td>\n",
       "      <td>0</td>\n",
       "      <td>...</td>\n",
       "      <td>0</td>\n",
       "      <td>0</td>\n",
       "      <td>3674</td>\n",
       "      <td>2287</td>\n",
       "      <td>7991</td>\n",
       "      <td>0</td>\n",
       "      <td>0</td>\n",
       "      <td>0</td>\n",
       "      <td>0</td>\n",
       "      <td>0</td>\n",
       "    </tr>\n",
       "    <tr>\n",
       "      <th>10031363@N00</th>\n",
       "      <td>0</td>\n",
       "      <td>0</td>\n",
       "      <td>0</td>\n",
       "      <td>0</td>\n",
       "      <td>0</td>\n",
       "      <td>84</td>\n",
       "      <td>0</td>\n",
       "      <td>0</td>\n",
       "      <td>0</td>\n",
       "      <td>0</td>\n",
       "      <td>...</td>\n",
       "      <td>0</td>\n",
       "      <td>0</td>\n",
       "      <td>0</td>\n",
       "      <td>0</td>\n",
       "      <td>0</td>\n",
       "      <td>0</td>\n",
       "      <td>0</td>\n",
       "      <td>0</td>\n",
       "      <td>0</td>\n",
       "      <td>0</td>\n",
       "    </tr>\n",
       "    <tr>\n",
       "      <th>10116041@N02</th>\n",
       "      <td>0</td>\n",
       "      <td>0</td>\n",
       "      <td>0</td>\n",
       "      <td>0</td>\n",
       "      <td>0</td>\n",
       "      <td>0</td>\n",
       "      <td>0</td>\n",
       "      <td>0</td>\n",
       "      <td>0</td>\n",
       "      <td>0</td>\n",
       "      <td>...</td>\n",
       "      <td>0</td>\n",
       "      <td>0</td>\n",
       "      <td>0</td>\n",
       "      <td>0</td>\n",
       "      <td>0</td>\n",
       "      <td>0</td>\n",
       "      <td>0</td>\n",
       "      <td>0</td>\n",
       "      <td>0</td>\n",
       "      <td>0</td>\n",
       "    </tr>\n",
       "  </tbody>\n",
       "</table>\n",
       "<p>5 rows × 29 columns</p>\n",
       "</div>"
      ],
      "text/plain": [
       "poiID         1   2   3   4    6   7   8   9   10  11 ...  21  22    23    24  \\\n",
       "10007579@N00   0   0   0   0    0   0   0   0   0   0 ...   0   0     0     0   \n",
       "10012675@N05   0   0   0   0  597   0   0   0   0   0 ...   0   0     0     0   \n",
       "10014440@N06   0   0   0   0    0   0   0   0   0   0 ...   0   0  3674  2287   \n",
       "10031363@N00   0   0   0   0    0  84   0   0   0   0 ...   0   0     0     0   \n",
       "10116041@N02   0   0   0   0    0   0   0   0   0   0 ...   0   0     0     0   \n",
       "\n",
       "poiID           25  26  27  28  29  30  \n",
       "10007579@N00     0   0   0   0   0   0  \n",
       "10012675@N05     0   0   0   0   0   0  \n",
       "10014440@N06  7991   0   0   0   0   0  \n",
       "10031363@N00     0   0   0   0   0   0  \n",
       "10116041@N02     0   0   0   0   0   0  \n",
       "\n",
       "[5 rows x 29 columns]"
      ]
     },
     "execution_count": 551,
     "metadata": {},
     "output_type": "execute_result"
    }
   ],
   "source": [
    "for idx in poi_time.index:\n",
    "    transmat_time.loc[idx[0], idx[1]] += poi_time.loc[idx].iloc[0]\n",
    "print(transmat_time.shape)\n",
    "transmat_time.head()"
   ]
  },
  {
   "cell_type": "code",
   "execution_count": 552,
   "metadata": {
    "collapsed": false
   },
   "outputs": [
    {
     "name": "stdout",
     "output_type": "stream",
     "text": [
      "(1395, 29)\n"
     ]
    },
    {
     "data": {
      "text/html": [
       "<div>\n",
       "<table border=\"1\" class=\"dataframe\">\n",
       "  <thead>\n",
       "    <tr style=\"text-align: right;\">\n",
       "      <th>poiID</th>\n",
       "      <th>1</th>\n",
       "      <th>2</th>\n",
       "      <th>3</th>\n",
       "      <th>4</th>\n",
       "      <th>6</th>\n",
       "      <th>7</th>\n",
       "      <th>8</th>\n",
       "      <th>9</th>\n",
       "      <th>10</th>\n",
       "      <th>11</th>\n",
       "      <th>...</th>\n",
       "      <th>21</th>\n",
       "      <th>22</th>\n",
       "      <th>23</th>\n",
       "      <th>24</th>\n",
       "      <th>25</th>\n",
       "      <th>26</th>\n",
       "      <th>27</th>\n",
       "      <th>28</th>\n",
       "      <th>29</th>\n",
       "      <th>30</th>\n",
       "    </tr>\n",
       "  </thead>\n",
       "  <tbody>\n",
       "    <tr>\n",
       "      <th>10007579@N00</th>\n",
       "      <td>0</td>\n",
       "      <td>0</td>\n",
       "      <td>0</td>\n",
       "      <td>0</td>\n",
       "      <td>0.000000</td>\n",
       "      <td>0.000000</td>\n",
       "      <td>0</td>\n",
       "      <td>0</td>\n",
       "      <td>0</td>\n",
       "      <td>0</td>\n",
       "      <td>...</td>\n",
       "      <td>0</td>\n",
       "      <td>0</td>\n",
       "      <td>0.000000</td>\n",
       "      <td>0.000000</td>\n",
       "      <td>0.000000</td>\n",
       "      <td>0</td>\n",
       "      <td>0</td>\n",
       "      <td>0</td>\n",
       "      <td>0</td>\n",
       "      <td>0</td>\n",
       "    </tr>\n",
       "    <tr>\n",
       "      <th>10012675@N05</th>\n",
       "      <td>0</td>\n",
       "      <td>0</td>\n",
       "      <td>0</td>\n",
       "      <td>0</td>\n",
       "      <td>2.776701</td>\n",
       "      <td>0.000000</td>\n",
       "      <td>0</td>\n",
       "      <td>0</td>\n",
       "      <td>0</td>\n",
       "      <td>0</td>\n",
       "      <td>...</td>\n",
       "      <td>0</td>\n",
       "      <td>0</td>\n",
       "      <td>0.000000</td>\n",
       "      <td>0.000000</td>\n",
       "      <td>0.000000</td>\n",
       "      <td>0</td>\n",
       "      <td>0</td>\n",
       "      <td>0</td>\n",
       "      <td>0</td>\n",
       "      <td>0</td>\n",
       "    </tr>\n",
       "    <tr>\n",
       "      <th>10014440@N06</th>\n",
       "      <td>0</td>\n",
       "      <td>0</td>\n",
       "      <td>0</td>\n",
       "      <td>0</td>\n",
       "      <td>0.000000</td>\n",
       "      <td>0.000000</td>\n",
       "      <td>0</td>\n",
       "      <td>0</td>\n",
       "      <td>0</td>\n",
       "      <td>0</td>\n",
       "      <td>...</td>\n",
       "      <td>0</td>\n",
       "      <td>0</td>\n",
       "      <td>3.565257</td>\n",
       "      <td>3.359456</td>\n",
       "      <td>3.902655</td>\n",
       "      <td>0</td>\n",
       "      <td>0</td>\n",
       "      <td>0</td>\n",
       "      <td>0</td>\n",
       "      <td>0</td>\n",
       "    </tr>\n",
       "    <tr>\n",
       "      <th>10031363@N00</th>\n",
       "      <td>0</td>\n",
       "      <td>0</td>\n",
       "      <td>0</td>\n",
       "      <td>0</td>\n",
       "      <td>0.000000</td>\n",
       "      <td>1.929419</td>\n",
       "      <td>0</td>\n",
       "      <td>0</td>\n",
       "      <td>0</td>\n",
       "      <td>0</td>\n",
       "      <td>...</td>\n",
       "      <td>0</td>\n",
       "      <td>0</td>\n",
       "      <td>0.000000</td>\n",
       "      <td>0.000000</td>\n",
       "      <td>0.000000</td>\n",
       "      <td>0</td>\n",
       "      <td>0</td>\n",
       "      <td>0</td>\n",
       "      <td>0</td>\n",
       "      <td>0</td>\n",
       "    </tr>\n",
       "    <tr>\n",
       "      <th>10116041@N02</th>\n",
       "      <td>0</td>\n",
       "      <td>0</td>\n",
       "      <td>0</td>\n",
       "      <td>0</td>\n",
       "      <td>0.000000</td>\n",
       "      <td>0.000000</td>\n",
       "      <td>0</td>\n",
       "      <td>0</td>\n",
       "      <td>0</td>\n",
       "      <td>0</td>\n",
       "      <td>...</td>\n",
       "      <td>0</td>\n",
       "      <td>0</td>\n",
       "      <td>0.000000</td>\n",
       "      <td>0.000000</td>\n",
       "      <td>0.000000</td>\n",
       "      <td>0</td>\n",
       "      <td>0</td>\n",
       "      <td>0</td>\n",
       "      <td>0</td>\n",
       "      <td>0</td>\n",
       "    </tr>\n",
       "  </tbody>\n",
       "</table>\n",
       "<p>5 rows × 29 columns</p>\n",
       "</div>"
      ],
      "text/plain": [
       "poiID         1   2   3   4         6         7   8   9   10  11 ...  21  22  \\\n",
       "10007579@N00   0   0   0   0  0.000000  0.000000   0   0   0   0 ...   0   0   \n",
       "10012675@N05   0   0   0   0  2.776701  0.000000   0   0   0   0 ...   0   0   \n",
       "10014440@N06   0   0   0   0  0.000000  0.000000   0   0   0   0 ...   0   0   \n",
       "10031363@N00   0   0   0   0  0.000000  1.929419   0   0   0   0 ...   0   0   \n",
       "10116041@N02   0   0   0   0  0.000000  0.000000   0   0   0   0 ...   0   0   \n",
       "\n",
       "poiID               23        24        25  26  27  28  29  30  \n",
       "10007579@N00  0.000000  0.000000  0.000000   0   0   0   0   0  \n",
       "10012675@N05  0.000000  0.000000  0.000000   0   0   0   0   0  \n",
       "10014440@N06  3.565257  3.359456  3.902655   0   0   0   0   0  \n",
       "10031363@N00  0.000000  0.000000  0.000000   0   0   0   0   0  \n",
       "10116041@N02  0.000000  0.000000  0.000000   0   0   0   0   0  \n",
       "\n",
       "[5 rows x 29 columns]"
      ]
     },
     "execution_count": 552,
     "metadata": {},
     "output_type": "execute_result"
    }
   ],
   "source": [
    "# add 1 (sec) to each cell as a smooth factor\n",
    "log10_transmat_time = np.log10(transmat_time.copy() + 1)\n",
    "print(log10_transmat_time.shape)\n",
    "log10_transmat_time.head()"
   ]
  },
  {
   "cell_type": "markdown",
   "metadata": {},
   "source": [
    "### 3.4.2 Transition Matrix for POI Category"
   ]
  },
  {
   "cell_type": "code",
   "execution_count": 553,
   "metadata": {
    "collapsed": false
   },
   "outputs": [
    {
     "data": {
      "text/plain": [
       "['Amusement', 'Beach', 'Cultural', 'Shopping', 'Sport', 'Structure']"
      ]
     },
     "execution_count": 553,
     "metadata": {},
     "output_type": "execute_result"
    }
   ],
   "source": [
    "poi_cats = traj['poiTheme'].unique().tolist()\n",
    "poi_cats.sort()\n",
    "poi_cats"
   ]
  },
  {
   "cell_type": "code",
   "execution_count": 554,
   "metadata": {
    "collapsed": true
   },
   "outputs": [],
   "source": [
    "ncats = len(poi_cats)\n",
    "transmat_cat = pd.DataFrame(data=np.zeros((ncats, ncats), dtype=np.float64), index=poi_cats, columns=poi_cats)"
   ]
  },
  {
   "cell_type": "code",
   "execution_count": 555,
   "metadata": {
    "collapsed": false
   },
   "outputs": [
    {
     "data": {
      "text/html": [
       "<div>\n",
       "<table border=\"1\" class=\"dataframe\">\n",
       "  <thead>\n",
       "    <tr style=\"text-align: right;\">\n",
       "      <th></th>\n",
       "      <th>Amusement</th>\n",
       "      <th>Beach</th>\n",
       "      <th>Cultural</th>\n",
       "      <th>Shopping</th>\n",
       "      <th>Sport</th>\n",
       "      <th>Structure</th>\n",
       "    </tr>\n",
       "  </thead>\n",
       "  <tbody>\n",
       "    <tr>\n",
       "      <th>Amusement</th>\n",
       "      <td>14</td>\n",
       "      <td>20</td>\n",
       "      <td>51</td>\n",
       "      <td>17</td>\n",
       "      <td>35</td>\n",
       "      <td>16</td>\n",
       "    </tr>\n",
       "    <tr>\n",
       "      <th>Beach</th>\n",
       "      <td>18</td>\n",
       "      <td>43</td>\n",
       "      <td>61</td>\n",
       "      <td>92</td>\n",
       "      <td>19</td>\n",
       "      <td>106</td>\n",
       "    </tr>\n",
       "    <tr>\n",
       "      <th>Cultural</th>\n",
       "      <td>46</td>\n",
       "      <td>70</td>\n",
       "      <td>40</td>\n",
       "      <td>72</td>\n",
       "      <td>22</td>\n",
       "      <td>94</td>\n",
       "    </tr>\n",
       "    <tr>\n",
       "      <th>Shopping</th>\n",
       "      <td>16</td>\n",
       "      <td>101</td>\n",
       "      <td>58</td>\n",
       "      <td>16</td>\n",
       "      <td>19</td>\n",
       "      <td>71</td>\n",
       "    </tr>\n",
       "    <tr>\n",
       "      <th>Sport</th>\n",
       "      <td>42</td>\n",
       "      <td>23</td>\n",
       "      <td>21</td>\n",
       "      <td>13</td>\n",
       "      <td>8</td>\n",
       "      <td>21</td>\n",
       "    </tr>\n",
       "    <tr>\n",
       "      <th>Structure</th>\n",
       "      <td>26</td>\n",
       "      <td>91</td>\n",
       "      <td>81</td>\n",
       "      <td>59</td>\n",
       "      <td>24</td>\n",
       "      <td>24</td>\n",
       "    </tr>\n",
       "  </tbody>\n",
       "</table>\n",
       "</div>"
      ],
      "text/plain": [
       "           Amusement  Beach  Cultural  Shopping  Sport  Structure\n",
       "Amusement         14     20        51        17     35         16\n",
       "Beach             18     43        61        92     19        106\n",
       "Cultural          46     70        40        72     22         94\n",
       "Shopping          16    101        58        16     19         71\n",
       "Sport             42     23        21        13      8         21\n",
       "Structure         26     91        81        59     24         24"
      ]
     },
     "execution_count": 555,
     "metadata": {},
     "output_type": "execute_result"
    }
   ],
   "source": [
    "for seqid in seq_all['seqID'].unique().tolist():\n",
    "    seqi = seq_all[seq_all['seqID'] == seqid].copy()\n",
    "    seqi.sort(columns=['arrivalTime'], ascending=True, inplace=True)\n",
    "    for j in range(len(seqi.index)-1):\n",
    "        idx1 = seqi.index[j]\n",
    "        idx2 = seqi.index[j+1]\n",
    "        poi1 = seqi.loc[idx1, 'poiID']\n",
    "        poi2 = seqi.loc[idx2, 'poiID']\n",
    "        cat1 = poi_all.loc[poi1, 'poiTheme']\n",
    "        cat2 = poi_all.loc[poi2, 'poiTheme']\n",
    "        transmat_cat.loc[cat1, cat2] += 1\n",
    "transmat_cat"
   ]
  },
  {
   "cell_type": "markdown",
   "metadata": {},
   "source": [
    "Normalise each row to get an estimate of transition probabilities (MLE)."
   ]
  },
  {
   "cell_type": "code",
   "execution_count": 556,
   "metadata": {
    "collapsed": false
   },
   "outputs": [
    {
     "data": {
      "text/html": [
       "<div>\n",
       "<table border=\"1\" class=\"dataframe\">\n",
       "  <thead>\n",
       "    <tr style=\"text-align: right;\">\n",
       "      <th></th>\n",
       "      <th>Amusement</th>\n",
       "      <th>Beach</th>\n",
       "      <th>Cultural</th>\n",
       "      <th>Shopping</th>\n",
       "      <th>Sport</th>\n",
       "      <th>Structure</th>\n",
       "    </tr>\n",
       "  </thead>\n",
       "  <tbody>\n",
       "    <tr>\n",
       "      <th>Amusement</th>\n",
       "      <td>0.091503</td>\n",
       "      <td>0.130719</td>\n",
       "      <td>0.333333</td>\n",
       "      <td>0.111111</td>\n",
       "      <td>0.228758</td>\n",
       "      <td>0.104575</td>\n",
       "    </tr>\n",
       "    <tr>\n",
       "      <th>Beach</th>\n",
       "      <td>0.053097</td>\n",
       "      <td>0.126844</td>\n",
       "      <td>0.179941</td>\n",
       "      <td>0.271386</td>\n",
       "      <td>0.056047</td>\n",
       "      <td>0.312684</td>\n",
       "    </tr>\n",
       "    <tr>\n",
       "      <th>Cultural</th>\n",
       "      <td>0.133721</td>\n",
       "      <td>0.203488</td>\n",
       "      <td>0.116279</td>\n",
       "      <td>0.209302</td>\n",
       "      <td>0.063953</td>\n",
       "      <td>0.273256</td>\n",
       "    </tr>\n",
       "    <tr>\n",
       "      <th>Shopping</th>\n",
       "      <td>0.056940</td>\n",
       "      <td>0.359431</td>\n",
       "      <td>0.206406</td>\n",
       "      <td>0.056940</td>\n",
       "      <td>0.067616</td>\n",
       "      <td>0.252669</td>\n",
       "    </tr>\n",
       "    <tr>\n",
       "      <th>Sport</th>\n",
       "      <td>0.328125</td>\n",
       "      <td>0.179688</td>\n",
       "      <td>0.164062</td>\n",
       "      <td>0.101562</td>\n",
       "      <td>0.062500</td>\n",
       "      <td>0.164062</td>\n",
       "    </tr>\n",
       "    <tr>\n",
       "      <th>Structure</th>\n",
       "      <td>0.085246</td>\n",
       "      <td>0.298361</td>\n",
       "      <td>0.265574</td>\n",
       "      <td>0.193443</td>\n",
       "      <td>0.078689</td>\n",
       "      <td>0.078689</td>\n",
       "    </tr>\n",
       "  </tbody>\n",
       "</table>\n",
       "</div>"
      ],
      "text/plain": [
       "           Amusement     Beach  Cultural  Shopping     Sport  Structure\n",
       "Amusement   0.091503  0.130719  0.333333  0.111111  0.228758   0.104575\n",
       "Beach       0.053097  0.126844  0.179941  0.271386  0.056047   0.312684\n",
       "Cultural    0.133721  0.203488  0.116279  0.209302  0.063953   0.273256\n",
       "Shopping    0.056940  0.359431  0.206406  0.056940  0.067616   0.252669\n",
       "Sport       0.328125  0.179688  0.164062  0.101562  0.062500   0.164062\n",
       "Structure   0.085246  0.298361  0.265574  0.193443  0.078689   0.078689"
      ]
     },
     "execution_count": 556,
     "metadata": {},
     "output_type": "execute_result"
    }
   ],
   "source": [
    "for r in transmat_cat.index:\n",
    "    rowsum = transmat_cat.ix[r].sum()\n",
    "    if rowsum == 0: continue  # deal with lack of data\n",
    "    transmat_cat.loc[r] /= rowsum\n",
    "transmat_cat"
   ]
  },
  {
   "cell_type": "markdown",
   "metadata": {},
   "source": [
    "Compute the log of transition probabilities with smooth factor $\\epsilon=10^{-12}$."
   ]
  },
  {
   "cell_type": "code",
   "execution_count": 557,
   "metadata": {
    "collapsed": false
   },
   "outputs": [
    {
     "data": {
      "text/html": [
       "<div>\n",
       "<table border=\"1\" class=\"dataframe\">\n",
       "  <thead>\n",
       "    <tr style=\"text-align: right;\">\n",
       "      <th></th>\n",
       "      <th>Amusement</th>\n",
       "      <th>Beach</th>\n",
       "      <th>Cultural</th>\n",
       "      <th>Shopping</th>\n",
       "      <th>Sport</th>\n",
       "      <th>Structure</th>\n",
       "    </tr>\n",
       "  </thead>\n",
       "  <tbody>\n",
       "    <tr>\n",
       "      <th>Amusement</th>\n",
       "      <td>-1.038563</td>\n",
       "      <td>-0.883661</td>\n",
       "      <td>-0.477121</td>\n",
       "      <td>-0.954243</td>\n",
       "      <td>-0.640623</td>\n",
       "      <td>-0.980571</td>\n",
       "    </tr>\n",
       "    <tr>\n",
       "      <th>Beach</th>\n",
       "      <td>-1.274927</td>\n",
       "      <td>-0.896731</td>\n",
       "      <td>-0.744870</td>\n",
       "      <td>-0.566412</td>\n",
       "      <td>-1.251446</td>\n",
       "      <td>-0.504894</td>\n",
       "    </tr>\n",
       "    <tr>\n",
       "      <th>Cultural</th>\n",
       "      <td>-0.873801</td>\n",
       "      <td>-0.691460</td>\n",
       "      <td>-0.934498</td>\n",
       "      <td>-0.679226</td>\n",
       "      <td>-1.194136</td>\n",
       "      <td>-0.563431</td>\n",
       "    </tr>\n",
       "    <tr>\n",
       "      <th>Shopping</th>\n",
       "      <td>-1.244586</td>\n",
       "      <td>-0.444385</td>\n",
       "      <td>-0.685278</td>\n",
       "      <td>-1.244586</td>\n",
       "      <td>-1.169953</td>\n",
       "      <td>-0.597448</td>\n",
       "    </tr>\n",
       "    <tr>\n",
       "      <th>Sport</th>\n",
       "      <td>-0.483961</td>\n",
       "      <td>-0.745482</td>\n",
       "      <td>-0.784991</td>\n",
       "      <td>-0.993267</td>\n",
       "      <td>-1.204120</td>\n",
       "      <td>-0.784991</td>\n",
       "    </tr>\n",
       "    <tr>\n",
       "      <th>Structure</th>\n",
       "      <td>-1.069326</td>\n",
       "      <td>-0.525258</td>\n",
       "      <td>-0.575815</td>\n",
       "      <td>-0.713448</td>\n",
       "      <td>-1.104089</td>\n",
       "      <td>-1.104089</td>\n",
       "    </tr>\n",
       "  </tbody>\n",
       "</table>\n",
       "</div>"
      ],
      "text/plain": [
       "           Amusement     Beach  Cultural  Shopping     Sport  Structure\n",
       "Amusement  -1.038563 -0.883661 -0.477121 -0.954243 -0.640623  -0.980571\n",
       "Beach      -1.274927 -0.896731 -0.744870 -0.566412 -1.251446  -0.504894\n",
       "Cultural   -0.873801 -0.691460 -0.934498 -0.679226 -1.194136  -0.563431\n",
       "Shopping   -1.244586 -0.444385 -0.685278 -1.244586 -1.169953  -0.597448\n",
       "Sport      -0.483961 -0.745482 -0.784991 -0.993267 -1.204120  -0.784991\n",
       "Structure  -1.069326 -0.525258 -0.575815 -0.713448 -1.104089  -1.104089"
      ]
     },
     "execution_count": 557,
     "metadata": {},
     "output_type": "execute_result"
    }
   ],
   "source": [
    "log10_transmat_cat = np.log10(transmat_cat.copy() + 1e-12)\n",
    "log10_transmat_cat"
   ]
  },
  {
   "cell_type": "markdown",
   "metadata": {},
   "source": [
    "# 4. Trajectory Recommendation"
   ]
  },
  {
   "cell_type": "markdown",
   "metadata": {},
   "source": [
    "## 4.1 Choose Travelling Sequences for Training and Testing"
   ]
  },
  {
   "cell_type": "markdown",
   "metadata": {},
   "source": [
    "Trajectories with length greater than `3` are used in the paper."
   ]
  },
  {
   "cell_type": "code",
   "execution_count": 558,
   "metadata": {
    "collapsed": false
   },
   "outputs": [
    {
     "data": {
      "text/plain": [
       "<matplotlib.axes._subplots.AxesSubplot at 0x7ff1beef2c50>"
      ]
     },
     "execution_count": 558,
     "metadata": {},
     "output_type": "execute_result"
    },
    {
     "data": {
      "image/png": "[encoded data removed]",
      "text/plain": [
       "<matplotlib.figure.Figure at 0x7ff1beecc400>"
      ]
     },
     "metadata": {},
     "output_type": "display_data"
    }
   ],
   "source": [
    "seq_ge3 = seq_len[seq_len['seqLen'] >= 3]\n",
    "seq_ge3['seqLen'].hist(bins=20)"
   ]
  },
  {
   "cell_type": "markdown",
   "metadata": {},
   "source": [
    "Split travelling sequences into training set and testing set using leave-one-out for each user.  \n",
    "*For testing purpose, users with less than two travelling sequences are not considered in this experiment.*"
   ]
  },
  {
   "cell_type": "code",
   "execution_count": 559,
   "metadata": {
    "collapsed": true
   },
   "outputs": [],
   "source": [
    "train_set = []\n",
    "test_set = []"
   ]
  },
  {
   "cell_type": "code",
   "execution_count": 560,
   "metadata": {
    "collapsed": false
   },
   "outputs": [],
   "source": [
    "user_seqs = seq_ge3[['userID', 'seqID']].groupby('userID')"
   ]
  },
  {
   "cell_type": "code",
   "execution_count": 561,
   "metadata": {
    "collapsed": false
   },
   "outputs": [],
   "source": [
    "for user, indices in user_seqs.groups.items():\n",
    "    if len(indices) < 2: continue\n",
    "    idx = random.choice(indices)\n",
    "    test_set.append(seq_ge3.loc[idx, 'seqID'])\n",
    "    train_set.extend([seq_ge3.loc[x, 'seqID'] for x in indices if x != idx])"
   ]
  },
  {
   "cell_type": "code",
   "execution_count": 562,
   "metadata": {
    "collapsed": false
   },
   "outputs": [
    {
     "name": "stdout",
     "output_type": "stream",
     "text": [
      "#seq in trainset: 139\n",
      "#seq in testset: 44\n"
     ]
    },
    {
     "data": {
      "text/plain": [
       "<matplotlib.axes._subplots.AxesSubplot at 0x7ff19ba1bcc0>"
      ]
     },
     "execution_count": 562,
     "metadata": {},
     "output_type": "execute_result"
    },
    {
     "data": {
      "image/png": "[encoded data removed]",
      "text/plain": [
       "<matplotlib.figure.Figure at 0x7ff1a009b518>"
      ]
     },
     "metadata": {},
     "output_type": "display_data"
    }
   ],
   "source": [
    "print('#seq in trainset:', len(train_set))\n",
    "print('#seq in testset:', len(test_set))\n",
    "seq_ge3[seq_ge3['seqID'].isin(train_set)]['seqLen'].hist(bins=20)\n",
    "#data = np.array(seqs1['seqLen'])\n",
    "#hist, bins = np.histogram(data, bins=3)\n",
    "#print(hist)"
   ]
  },
  {
   "cell_type": "markdown",
   "metadata": {},
   "source": [
    "#### Sanity check: the total number of travelling sequences used in training and testing"
   ]
  },
  {
   "cell_type": "code",
   "execution_count": 563,
   "metadata": {
    "collapsed": false
   },
   "outputs": [
    {
     "name": "stdout",
     "output_type": "stream",
     "text": [
      "total #seq for experiment: 183\n"
     ]
    }
   ],
   "source": [
    "seq_exp = seq_ge3[['userID', 'seqID']].copy()\n",
    "seq_exp = seq_exp.groupby('userID').agg(np.size)\n",
    "seq_exp.reset_index(inplace=True)\n",
    "seq_exp.rename(columns={'seqID':'#seq'}, inplace=True)\n",
    "seq_exp = seq_exp[seq_exp['#seq'] > 1] # user with more than 1 sequences\n",
    "print('total #seq for experiment:', seq_exp['#seq'].sum())\n",
    "#seq_exp.head()"
   ]
  },
  {
   "cell_type": "markdown",
   "metadata": {},
   "source": [
    "## 4.2 Compute POI popularity and user interest using training set"
   ]
  },
  {
   "cell_type": "markdown",
   "metadata": {},
   "source": [
    "Compute average POI visit duration, POI popularity as defined at the [top of the notebook](#sec1.1)."
   ]
  },
  {
   "cell_type": "code",
   "execution_count": 564,
   "metadata": {
    "collapsed": true
   },
   "outputs": [],
   "source": [
    "poi_info = seq_all[seq_all['seqID'].isin(train_set)]\n",
    "poi_info = poi_info[['poiID', 'poiDuration(sec)']].copy()"
   ]
  },
  {
   "cell_type": "code",
   "execution_count": 565,
   "metadata": {
    "collapsed": false
   },
   "outputs": [
    {
     "name": "stdout",
     "output_type": "stream",
     "text": [
      "#poi: 23\n",
      "#poi after extension: 29\n"
     ]
    },
    {
     "data": {
      "text/html": [
       "<div>\n",
       "<table border=\"1\" class=\"dataframe\">\n",
       "  <thead>\n",
       "    <tr style=\"text-align: right;\">\n",
       "      <th></th>\n",
       "      <th>avgDuration(sec)</th>\n",
       "      <th>popularity</th>\n",
       "      <th>poiTheme</th>\n",
       "      <th>poiLon</th>\n",
       "      <th>poiLat</th>\n",
       "    </tr>\n",
       "    <tr>\n",
       "      <th>poiID</th>\n",
       "      <th></th>\n",
       "      <th></th>\n",
       "      <th></th>\n",
       "      <th></th>\n",
       "      <th></th>\n",
       "    </tr>\n",
       "  </thead>\n",
       "  <tbody>\n",
       "    <tr>\n",
       "      <th>1</th>\n",
       "      <td>5045.600000</td>\n",
       "      <td>10</td>\n",
       "      <td>Sport</td>\n",
       "      <td>-79.379243</td>\n",
       "      <td>43.643183</td>\n",
       "    </tr>\n",
       "    <tr>\n",
       "      <th>2</th>\n",
       "      <td>3957.833333</td>\n",
       "      <td>6</td>\n",
       "      <td>Sport</td>\n",
       "      <td>-79.418634</td>\n",
       "      <td>43.632772</td>\n",
       "    </tr>\n",
       "    <tr>\n",
       "      <th>3</th>\n",
       "      <td>1003.428571</td>\n",
       "      <td>14</td>\n",
       "      <td>Sport</td>\n",
       "      <td>-79.380045</td>\n",
       "      <td>43.662175</td>\n",
       "    </tr>\n",
       "    <tr>\n",
       "      <th>4</th>\n",
       "      <td>3126.444444</td>\n",
       "      <td>9</td>\n",
       "      <td>Sport</td>\n",
       "      <td>-79.389290</td>\n",
       "      <td>43.641297</td>\n",
       "    </tr>\n",
       "    <tr>\n",
       "      <th>6</th>\n",
       "      <td>1826.384615</td>\n",
       "      <td>13</td>\n",
       "      <td>Cultural</td>\n",
       "      <td>-79.392396</td>\n",
       "      <td>43.653662</td>\n",
       "    </tr>\n",
       "  </tbody>\n",
       "</table>\n",
       "</div>"
      ],
      "text/plain": [
       "       avgDuration(sec)  popularity  poiTheme     poiLon     poiLat\n",
       "poiID                                                              \n",
       "1           5045.600000          10     Sport -79.379243  43.643183\n",
       "2           3957.833333           6     Sport -79.418634  43.632772\n",
       "3           1003.428571          14     Sport -79.380045  43.662175\n",
       "4           3126.444444           9     Sport -79.389290  43.641297\n",
       "6           1826.384615          13  Cultural -79.392396  43.653662"
      ]
     },
     "execution_count": 565,
     "metadata": {},
     "output_type": "execute_result"
    }
   ],
   "source": [
    "poi_info = poi_info.groupby('poiID').agg([np.mean, np.size])\n",
    "poi_info.columns = poi_info.columns.droplevel()\n",
    "poi_info.reset_index(inplace=True)\n",
    "poi_info.rename(columns={'mean':'avgDuration(sec)', 'size':'popularity'}, inplace=True)\n",
    "poi_info.set_index('poiID', inplace=True)\n",
    "print('#poi:', poi_info.shape[0])\n",
    "if poi_info.shape[0] < poi_all.shape[0]:\n",
    "    extra_index = list(set(poi_all.index) - set(poi_info.index))\n",
    "    extra_poi = pd.DataFrame(data=np.zeros((len(extra_index), 2), dtype=np.float64), \\\n",
    "                             index=extra_index, columns=['avgDuration(sec)', 'popularity'])\n",
    "    poi_info = poi_info.append(extra_poi)\n",
    "    print('#poi after extension:', poi_info.shape[0])\n",
    "poi_info['poiTheme'] = poi_all.loc[poi_info.index, 'poiTheme']\n",
    "poi_info['poiLon'] = poi_all.loc[poi_info.index, 'poiLon']\n",
    "poi_info['poiLat'] = poi_all.loc[poi_info.index, 'poiLat']\n",
    "poi_info.head()"
   ]
  },
  {
   "cell_type": "code",
   "execution_count": 566,
   "metadata": {
    "collapsed": false
   },
   "outputs": [],
   "source": [
    "#poi_info2 = poi_info[['poiTheme']]\n",
    "#poi_info2.loc[1].iloc[0]"
   ]
  },
  {
   "cell_type": "markdown",
   "metadata": {},
   "source": [
    "Compute time/frequency based user interest as defined at the \n",
    "[top of the notebook](#sec1.1)."
   ]
  },
  {
   "cell_type": "code",
   "execution_count": 567,
   "metadata": {
    "collapsed": true
   },
   "outputs": [],
   "source": [
    "user_interest = seq_all[seq_all['seqID'].isin(train_set)]\n",
    "user_interest = user_interest[['userID', 'poiID', 'poiDuration(sec)']].copy()"
   ]
  },
  {
   "cell_type": "code",
   "execution_count": 568,
   "metadata": {
    "collapsed": false
   },
   "outputs": [
    {
     "data": {
      "text/html": [
       "<div>\n",
       "<table border=\"1\" class=\"dataframe\">\n",
       "  <thead>\n",
       "    <tr style=\"text-align: right;\">\n",
       "      <th></th>\n",
       "      <th>userID</th>\n",
       "      <th>poiID</th>\n",
       "      <th>poiDuration(sec)</th>\n",
       "      <th>timeRatio</th>\n",
       "    </tr>\n",
       "  </thead>\n",
       "  <tbody>\n",
       "    <tr>\n",
       "      <th>71</th>\n",
       "      <td>10502709@N05</td>\n",
       "      <td>22</td>\n",
       "      <td>2164</td>\n",
       "      <td>2991.687500</td>\n",
       "    </tr>\n",
       "    <tr>\n",
       "      <th>72</th>\n",
       "      <td>10502709@N05</td>\n",
       "      <td>23</td>\n",
       "      <td>5133</td>\n",
       "      <td>2725.558824</td>\n",
       "    </tr>\n",
       "    <tr>\n",
       "      <th>73</th>\n",
       "      <td>10502709@N05</td>\n",
       "      <td>28</td>\n",
       "      <td>17388</td>\n",
       "      <td>2062.137931</td>\n",
       "    </tr>\n",
       "    <tr>\n",
       "      <th>77</th>\n",
       "      <td>10502709@N05</td>\n",
       "      <td>21</td>\n",
       "      <td>0</td>\n",
       "      <td>2595.469697</td>\n",
       "    </tr>\n",
       "    <tr>\n",
       "      <th>78</th>\n",
       "      <td>10502709@N05</td>\n",
       "      <td>22</td>\n",
       "      <td>0</td>\n",
       "      <td>2991.687500</td>\n",
       "    </tr>\n",
       "  </tbody>\n",
       "</table>\n",
       "</div>"
      ],
      "text/plain": [
       "          userID  poiID  poiDuration(sec)    timeRatio\n",
       "71  10502709@N05     22              2164  2991.687500\n",
       "72  10502709@N05     23              5133  2725.558824\n",
       "73  10502709@N05     28             17388  2062.137931\n",
       "77  10502709@N05     21                 0  2595.469697\n",
       "78  10502709@N05     22                 0  2991.687500"
      ]
     },
     "execution_count": 568,
     "metadata": {},
     "output_type": "execute_result"
    }
   ],
   "source": [
    "user_interest['timeRatio'] = [poi_info.loc[x, 'avgDuration(sec)'] for x in user_interest['poiID']]\n",
    "#user_interest[user_interest['poiID'].isin({9, 10, 12, 18, 20, 26})]\n",
    "#user_interest[user_interest['timeRatio'] < 1]\n",
    "user_interest.head()"
   ]
  },
  {
   "cell_type": "code",
   "execution_count": 569,
   "metadata": {
    "collapsed": false
   },
   "outputs": [
    {
     "data": {
      "text/html": [
       "<div>\n",
       "<table border=\"1\" class=\"dataframe\">\n",
       "  <thead>\n",
       "    <tr style=\"text-align: right;\">\n",
       "      <th></th>\n",
       "      <th>userID</th>\n",
       "      <th>poiID</th>\n",
       "      <th>poiDuration(sec)</th>\n",
       "      <th>timeRatio</th>\n",
       "    </tr>\n",
       "  </thead>\n",
       "  <tbody>\n",
       "    <tr>\n",
       "      <th>71</th>\n",
       "      <td>10502709@N05</td>\n",
       "      <td>22</td>\n",
       "      <td>2164</td>\n",
       "      <td>0.723338</td>\n",
       "    </tr>\n",
       "    <tr>\n",
       "      <th>72</th>\n",
       "      <td>10502709@N05</td>\n",
       "      <td>23</td>\n",
       "      <td>5133</td>\n",
       "      <td>1.883284</td>\n",
       "    </tr>\n",
       "    <tr>\n",
       "      <th>73</th>\n",
       "      <td>10502709@N05</td>\n",
       "      <td>28</td>\n",
       "      <td>17388</td>\n",
       "      <td>8.432026</td>\n",
       "    </tr>\n",
       "    <tr>\n",
       "      <th>77</th>\n",
       "      <td>10502709@N05</td>\n",
       "      <td>21</td>\n",
       "      <td>0</td>\n",
       "      <td>0.000000</td>\n",
       "    </tr>\n",
       "    <tr>\n",
       "      <th>78</th>\n",
       "      <td>10502709@N05</td>\n",
       "      <td>22</td>\n",
       "      <td>0</td>\n",
       "      <td>0.000000</td>\n",
       "    </tr>\n",
       "  </tbody>\n",
       "</table>\n",
       "</div>"
      ],
      "text/plain": [
       "          userID  poiID  poiDuration(sec)  timeRatio\n",
       "71  10502709@N05     22              2164   0.723338\n",
       "72  10502709@N05     23              5133   1.883284\n",
       "73  10502709@N05     28             17388   8.432026\n",
       "77  10502709@N05     21                 0   0.000000\n",
       "78  10502709@N05     22                 0   0.000000"
      ]
     },
     "execution_count": 569,
     "metadata": {},
     "output_type": "execute_result"
    }
   ],
   "source": [
    "user_interest['timeRatio'] = user_interest['poiDuration(sec)'] / user_interest['timeRatio']\n",
    "user_interest.head()"
   ]
  },
  {
   "cell_type": "code",
   "execution_count": 570,
   "metadata": {
    "collapsed": true
   },
   "outputs": [],
   "source": [
    "user_interest['poiTheme'] = [poi_all.loc[x, 'poiTheme'] for x in user_interest['poiID']]\n",
    "user_interest.drop(['poiID', 'poiDuration(sec)'], axis=1, inplace=True)"
   ]
  },
  {
   "cell_type": "markdown",
   "metadata": {},
   "source": [
    "<a id='switch'></a>"
   ]
  },
  {
   "cell_type": "markdown",
   "metadata": {},
   "source": [
    "**Sum defined in paper, but sum of (time ratio) * (avg duration) will become extremely large in some cases, which is unrealistic, switch between the two to have a look at the effects.**"
   ]
  },
  {
   "cell_type": "code",
   "execution_count": 571,
   "metadata": {
    "collapsed": false
   },
   "outputs": [],
   "source": [
    "#user_interest = user_interest.groupby(['userID', 'poiTheme']).agg([np.sum, np.size]) # the sum\n",
    "user_interest = user_interest.groupby(['userID', 'poiTheme']).agg([np.mean, np.size]) # try the mean value"
   ]
  },
  {
   "cell_type": "code",
   "execution_count": 572,
   "metadata": {
    "collapsed": false
   },
   "outputs": [
    {
     "data": {
      "text/html": [
       "<div>\n",
       "<table border=\"1\" class=\"dataframe\">\n",
       "  <thead>\n",
       "    <tr style=\"text-align: right;\">\n",
       "      <th></th>\n",
       "      <th></th>\n",
       "      <th>timeBased</th>\n",
       "      <th>freqBased</th>\n",
       "    </tr>\n",
       "    <tr>\n",
       "      <th>userID</th>\n",
       "      <th>poiTheme</th>\n",
       "      <th></th>\n",
       "      <th></th>\n",
       "    </tr>\n",
       "  </thead>\n",
       "  <tbody>\n",
       "    <tr>\n",
       "      <th rowspan=\"3\" valign=\"top\">10502709@N05</th>\n",
       "      <th>Beach</th>\n",
       "      <td>0.241113</td>\n",
       "      <td>3</td>\n",
       "    </tr>\n",
       "    <tr>\n",
       "      <th>Shopping</th>\n",
       "      <td>0.941642</td>\n",
       "      <td>2</td>\n",
       "    </tr>\n",
       "    <tr>\n",
       "      <th>Structure</th>\n",
       "      <td>4.297239</td>\n",
       "      <td>2</td>\n",
       "    </tr>\n",
       "    <tr>\n",
       "      <th rowspan=\"2\" valign=\"top\">10627620@N06</th>\n",
       "      <th>Beach</th>\n",
       "      <td>0.071663</td>\n",
       "      <td>1</td>\n",
       "    </tr>\n",
       "    <tr>\n",
       "      <th>Shopping</th>\n",
       "      <td>0.067876</td>\n",
       "      <td>1</td>\n",
       "    </tr>\n",
       "  </tbody>\n",
       "</table>\n",
       "</div>"
      ],
      "text/plain": [
       "                        timeBased  freqBased\n",
       "userID       poiTheme                       \n",
       "10502709@N05 Beach       0.241113          3\n",
       "             Shopping    0.941642          2\n",
       "             Structure   4.297239          2\n",
       "10627620@N06 Beach       0.071663          1\n",
       "             Shopping    0.067876          1"
      ]
     },
     "execution_count": 572,
     "metadata": {},
     "output_type": "execute_result"
    }
   ],
   "source": [
    "user_interest.columns = user_interest.columns.droplevel()\n",
    "#user_interest.rename(columns={'sum':'timeBased', 'size':'freqBased'}, inplace=True)\n",
    "user_interest.rename(columns={'mean':'timeBased', 'size':'freqBased'}, inplace=True)\n",
    "user_interest.reset_index(inplace=True)\n",
    "user_interest.set_index(['userID', 'poiTheme'], inplace=True)\n",
    "user_interest.head()"
   ]
  },
  {
   "cell_type": "code",
   "execution_count": 573,
   "metadata": {
    "collapsed": false
   },
   "outputs": [],
   "source": [
    "#user_interest.columns.shape[0]"
   ]
  },
  {
   "cell_type": "markdown",
   "metadata": {},
   "source": [
    "## 4.3 Generate ILP"
   ]
  },
  {
   "cell_type": "code",
   "execution_count": 574,
   "metadata": {
    "collapsed": true
   },
   "outputs": [],
   "source": [
    "def calc_dist(longitude1, latitude1, longitude2, latitude2):\n",
    "    \"\"\"Calculate the distance (unit: km) between two places on earth\"\"\"\n",
    "    # convert degrees to radians\n",
    "    lon1 = math.radians(longitude1)\n",
    "    lat1 = math.radians(latitude1)\n",
    "    lon2 = math.radians(longitude2)\n",
    "    lat2 = math.radians(latitude2)\n",
    "    radius = 6371.009 # mean earth radius is 6371.009km, en.wikipedia.org/wiki/Earth_radius#Mean_radius\n",
    "    # The haversine formula, en.wikipedia.org/wiki/Great-circle_distance\n",
    "    dlon = math.fabs(lon1 - lon2)\n",
    "    dlat = math.fabs(lat1 - lat2)\n",
    "    return 2 * radius * math.asin(math.sqrt(\\\n",
    "               (math.sin(0.5*dlat))**2 + math.cos(lat1) * math.cos(lat2) * (math.sin(0.5*dlon))**2 ))"
   ]
  },
  {
   "cell_type": "code",
   "execution_count": 575,
   "metadata": {
    "collapsed": true
   },
   "outputs": [],
   "source": [
    "poi_dist_mat = pd.DataFrame(data=np.zeros((poi_info.shape[0], poi_info.shape[0]), dtype=np.float64), \\\n",
    "                            index=poi_info.index, columns=poi_info.index)\n",
    "for i in range(poi_info.index.shape[0]):\n",
    "    for j in range(i+1, poi_info.index.shape[0]):\n",
    "        r = poi_info.index[i]\n",
    "        c = poi_info.index[j]\n",
    "        dist = calc_dist(poi_info.loc[r, 'poiLon'], poi_info.loc[r, 'poiLat'], \\\n",
    "                         poi_info.loc[c, 'poiLon'], poi_info.loc[c, 'poiLat'])\n",
    "        assert(dist > 0.)\n",
    "        poi_dist_mat.loc[r, c] = dist\n",
    "        poi_dist_mat.loc[c, r] = dist"
   ]
  },
  {
   "cell_type": "code",
   "execution_count": 576,
   "metadata": {
    "collapsed": true
   },
   "outputs": [],
   "source": [
    "def calc_seq_budget(user, seq, poi_info, poi_dist_mat, user_interest):\n",
    "    \"\"\"Calculate the travel budget for the given travelling sequence\"\"\"\n",
    "    assert(len(seq) > 1)\n",
    "    #assert(user_interest.columns.shape[0] == 1) # tailored for time-based/freq-based\n",
    "    #print(user_interest.shape)\n",
    "    budget = 0. # travel budget\n",
    "    for i in range(len(seq)-1):\n",
    "        px = seq[i]\n",
    "        py = seq[i+1]\n",
    "        assert(px in poi_info.index)\n",
    "        assert(py in poi_info.index)\n",
    "        budget += 60 * 60 * poi_dist_mat.loc[px, py] / speed  # travel time (seconds)\n",
    "        caty = poi_info.loc[py, 'poiTheme']\n",
    "        avgtime = poi_info.loc[py, 'avgDuration(sec)']\n",
    "        userint = 0\n",
    "        if (user, caty) in user_interest.index: userint = user_interest.loc[user, caty] # for testing set\n",
    "        budget += userint * avgtime  # expected visit duration\n",
    "    return budget"
   ]
  },
  {
   "cell_type": "code",
   "execution_count": 577,
   "metadata": {
    "collapsed": false
   },
   "outputs": [],
   "source": [
    "def generate_ILP(lpFilename, user, budget, startPoi, endPoi, poi_info, poi_dist_mat, eta, speed, user_interest):\n",
    "    \"\"\"Recommend a trajectory given an existing travel sequence S_N, \n",
    "       the first/last POI and travel budget calculated based on S_N\n",
    "    \"\"\"\n",
    "    assert(0 <= eta <= 1)\n",
    "    assert(budget > 0)\n",
    "    #assert(user_interest.columns.shape[0] == 1) # tailored for time-based/freq-based\n",
    "    #print(user_interest.shape)\n",
    "    p0 = str(startPoi)\n",
    "    pN = str(endPoi)\n",
    "    N = poi_info.index.shape[0]\n",
    "    \n",
    "    # The MIP problem\n",
    "    # REF: pythonhosted.org/PuLP/index.html\n",
    "    # create a string list for each POI\n",
    "    pois = [str(p) for p in poi_info.index]\n",
    "\n",
    "    # create problem\n",
    "    prob = pulp.LpProblem('TourRecommendation', pulp.LpMaximize)\n",
    "\n",
    "    # visit_i_j = 1 means POI i and j are visited in sequence\n",
    "    visit_vars = pulp.LpVariable.dicts('visit', (pois, pois), 0, 1, pulp.LpInteger)\n",
    "\n",
    "    # a dictionary contains all dummy variables\n",
    "    dummy_vars = pulp.LpVariable.dicts('u', [x for x in pois if x != p0], 2, N, pulp.LpInteger)\n",
    "\n",
    "    # add objective\n",
    "    objlist = []\n",
    "    for pi in [x for x in pois if x not in {p0, pN}]:\n",
    "        for pj in [y for y in pois if y != p0]:\n",
    "            cati = poi_info.loc[int(pi), 'poiTheme']\n",
    "            userint = 0\n",
    "            if (user, cati) in user_interest.index: userint = user_interest.loc[user, cati]\n",
    "            objlist.append(visit_vars[pi][pj] * (eta * userint + (1.-eta) * poi_info.loc[int(pi), 'popularity']))\n",
    "    prob += pulp.lpSum(objlist), 'Objective'\n",
    "    #prob += pulp.lpSum([visit_vars[pi][pj] * (\\\n",
    "    #                    eta * user_interest.loc[user, poi_info.loc[int(pi), 'poiTheme']] + \\\n",
    "    #                    (1. - eta) * poi_info.loc[int(pi), 'popularity']) \\\n",
    "    #                    for pi in pois if pi != p0 and pi != pN \\\n",
    "    #                    for pj in pois if pj != p0 \\\n",
    "    #                   ]), 'Objective'\n",
    "    \n",
    "    # add constraints\n",
    "    # each constraint should be in ONE line\n",
    "    prob += pulp.lpSum([visit_vars[p0][pj] for pj in pois if pj != p0]) == 1, 'StartAtp0' # starts at the first POI\n",
    "    prob += pulp.lpSum([visit_vars[pi][pN] for pi in pois if pi != pN]) == 1, 'EndAtpN'   # ends at the last POI\n",
    "    for pk in [x for x in pois if x not in {p0, pN}]:\n",
    "        prob += pulp.lpSum([visit_vars[pi][pk] for pi in pois if pi != pN]) == \\\n",
    "                pulp.lpSum([visit_vars[pk][pj] for pj in pois if pj != p0]), \\\n",
    "                'Connected_' + pk                                                         # the itinerary is connected\n",
    "        prob += pulp.lpSum([visit_vars[pi][pk] for pi in pois if pi != pN]) <= 1, \\\n",
    "                'LeaveAtMostOnce_' + pk                                                   # LEAVE POIk at most once\n",
    "        prob += pulp.lpSum([visit_vars[pk][pj] for pj in pois if pj != p0]) <= 1, \\\n",
    "                'EnterAtMostOnce_' + pk                                                   # ENTER POIk at most once\n",
    "    \n",
    "    # travel cost within budget\n",
    "    costlist = []\n",
    "    for pi in [x for x in pois if x != pN]:\n",
    "        for pj in [y for y in pois if y != p0]:\n",
    "            catj = poi_info.loc[int(pj), 'poiTheme']\n",
    "            traveltime = 60 * 60 * poi_dist_mat.loc[int(pi), int(pj)] / speed # seconds\n",
    "            userint = 0\n",
    "            if (user, catj) in user_interest.index: userint = user_interest.loc[user, catj]\n",
    "            costlist.append(visit_vars[pi][pj] * (traveltime + userint * poi_info.loc[int(pj), 'avgDuration(sec)']))\n",
    "    prob += pulp.lpSum(costlist) <= budget, 'WithinBudget'\n",
    "    #prob += pulp.lpSum([visit_vars[pi][pj] * (\\\n",
    "    #                    poi_dist_mat.loc[int(pi), int(pj)] / speed + \\\n",
    "    #                    user_interest.loc[user, poi_info.loc[int(pj), 'poiTheme']] * \\\n",
    "    #                    poi_info.loc[int(pj), 'avgDuration(sec)']) \\\n",
    "    #                    for pi in pois if pi != pN \\\n",
    "    #                    for pj in pois if pj != p0 \\\n",
    "    #                    ]) <= budget, 'WithinBudget'\n",
    "    \n",
    "    for pi in [x for x in pois if x != p0]:\n",
    "        for pj in [y for y in pois if y != p0]:\n",
    "            prob += dummy_vars[pi] - dummy_vars[pj] + 1 <= \\\n",
    "                    (N - 1) * (1 - visit_vars[pi][pj]), \\\n",
    "                    'SubTourElimination_' + str(pi) + '_' + str(pj)               # TSP sub-tour elimination\n",
    "\n",
    "    # write problem data to an .lp file\n",
    "    prob.writeLP(lpFilename)"
   ]
  },
  {
   "cell_type": "code",
   "execution_count": 578,
   "metadata": {
    "collapsed": true
   },
   "outputs": [],
   "source": [
    "def extract_seq(seqid_set, seq_all):\n",
    "    \"\"\"Extract the actual sequences (i.e. a list of POI) from a set of sequence ID\"\"\"\n",
    "    seq_dict = dict()\n",
    "    for seqid in seqid_set:\n",
    "        seqi = seq_all[seq_all['seqID'] == seqid].copy()\n",
    "        seqi.sort(columns=['arrivalTime'], ascending=True, inplace=True)\n",
    "        seq_dict[seqid] = seqi['poiID'].tolist()\n",
    "    return seq_dict"
   ]
  },
  {
   "cell_type": "markdown",
   "metadata": {},
   "source": [
    "### 4.3.1 Generate ILPs for training set"
   ]
  },
  {
   "cell_type": "code",
   "execution_count": 579,
   "metadata": {
    "collapsed": true
   },
   "outputs": [],
   "source": [
    "train_seqs = extract_seq(train_set, seq_all)"
   ]
  },
  {
   "cell_type": "code",
   "execution_count": 580,
   "metadata": {
    "collapsed": false
   },
   "outputs": [],
   "source": [
    "lpDir = os.path.join(data_dir, 'lp_' + suffix)\n",
    "if not os.path.exists(lpDir):\n",
    "    print('Please create directory \"' + lpDir + '\"')"
   ]
  },
  {
   "cell_type": "code",
   "execution_count": 581,
   "metadata": {
    "collapsed": true
   },
   "outputs": [],
   "source": [
    "eta = 0.5\n",
    "#eta = 1\n",
    "time_based = True"
   ]
  },
  {
   "cell_type": "code",
   "execution_count": 582,
   "metadata": {
    "collapsed": false
   },
   "outputs": [],
   "source": [
    "#traj[traj['seqID'] == 708]"
   ]
  },
  {
   "cell_type": "code",
   "execution_count": 583,
   "metadata": {
    "collapsed": false
   },
   "outputs": [],
   "source": [
    "#seq_all[seq_all['seqID'] == 708]"
   ]
  },
  {
   "cell_type": "code",
   "execution_count": 584,
   "metadata": {
    "collapsed": false
   },
   "outputs": [],
   "source": [
    "#user_interest.loc['20741443@N00', :]"
   ]
  },
  {
   "cell_type": "code",
   "execution_count": 585,
   "metadata": {
    "collapsed": false
   },
   "outputs": [
    {
     "name": "stdout",
     "output_type": "stream",
     "text": [
      "generating ILP data/data-ijcai15/lp_Toro/67.lp for user 10502709@N05 sequence [28, 23, 22] budget 3790.61\n",
      "generating ILP data/data-ijcai15/lp_Toro/71.lp for user 10502709@N05 sequence [22, 28, 23, 21] budget 12676.1\n",
      "generating ILP data/data-ijcai15/lp_Toro/100.lp for user 10627620@N06 sequence [21, 23, 30] budget 4559.21\n",
      "generating ILP data/data-ijcai15/lp_Toro/155.lp for user 11191102@N07 sequence [16, 4, 22] budget 2216.6\n",
      "generating ILP data/data-ijcai15/lp_Toro/162.lp for user 11191102@N07 sequence [7, 30, 22] budget 1802.19\n",
      "generating ILP data/data-ijcai15/lp_Toro/316.lp for user 13907834@N00 sequence [21, 27, 11] budget 2359.33\n",
      "generating ILP data/data-ijcai15/lp_Toro/379.lp for user 14391210@N00 sequence [30, 22, 6] budget 2680.19\n",
      "generating ILP data/data-ijcai15/lp_Toro/454.lp for user 14878709@N00 sequence [16, 21, 23, 8, 28, 22, 27] budget 26544.12\n",
      "generating ILP data/data-ijcai15/lp_Toro/523.lp for user 16693950@N00 sequence [16, 22, 23] budget 8715.83\n",
      "generating ILP data/data-ijcai15/lp_Toro/525.lp for user 16693950@N00 sequence [22, 8, 30, 7, 28, 23, 21, 16] budget 23150.4\n",
      "generating ILP data/data-ijcai15/lp_Toro/619.lp for user 18412989@N00 sequence [23, 22, 16] budget 1333.41\n",
      "generating ILP data/data-ijcai15/lp_Toro/624.lp for user 18412989@N00 sequence [7, 23, 1] budget 18014.63\n",
      "generating ILP data/data-ijcai15/lp_Toro/686.lp for user 20456447@N03 sequence [22, 30, 7, 1, 8, 16, 21] budget 6506.96\n",
      "generating ILP data/data-ijcai15/lp_Toro/688.lp for user 20456447@N03 sequence [3, 29, 6, 22] budget 4099.53\n",
      "generating ILP data/data-ijcai15/lp_Toro/708.lp for user 20741443@N00 sequence [7, 23, 28, 21, 30] budget 11635.47\n",
      "generating ILP data/data-ijcai15/lp_Toro/712.lp for user 20741443@N00 sequence [7, 30, 23] budget 7148.2\n",
      "generating ILP data/data-ijcai15/lp_Toro/716.lp for user 20741443@N00 sequence [21, 7, 1] budget 15270.49\n",
      "generating ILP data/data-ijcai15/lp_Toro/722.lp for user 20741443@N00 sequence [7, 22, 23] budget 5285.56\n",
      "generating ILP data/data-ijcai15/lp_Toro/729.lp for user 20741443@N00 sequence [23, 21, 22, 7, 28] budget 11495.32\n",
      "generating ILP data/data-ijcai15/lp_Toro/730.lp for user 20741443@N00 sequence [7, 28, 23] budget 5209.45\n",
      "generating ILP data/data-ijcai15/lp_Toro/731.lp for user 20741443@N00 sequence [21, 23, 22] budget 4824.64\n",
      "generating ILP data/data-ijcai15/lp_Toro/744.lp for user 20741443@N00 sequence [28, 21, 30] budget 6304.43\n",
      "generating ILP data/data-ijcai15/lp_Toro/745.lp for user 20741443@N00 sequence [30, 21, 6] budget 5442.44\n",
      "generating ILP data/data-ijcai15/lp_Toro/753.lp for user 20741443@N00 sequence [30, 28, 23, 7] budget 10649.89\n",
      "generating ILP data/data-ijcai15/lp_Toro/763.lp for user 20741443@N00 sequence [28, 23, 21] budget 4491.87\n",
      "generating ILP data/data-ijcai15/lp_Toro/775.lp for user 20741443@N00 sequence [22, 21, 30] budget 6338.22\n",
      "generating ILP data/data-ijcai15/lp_Toro/778.lp for user 20741443@N00 sequence [7, 28, 30] budget 6445.07\n",
      "generating ILP data/data-ijcai15/lp_Toro/783.lp for user 20741443@N00 sequence [7, 30, 21, 23, 22] budget 10995.62\n",
      "generating ILP data/data-ijcai15/lp_Toro/786.lp for user 20741443@N00 sequence [7, 23, 21, 28] budget 7213.92\n",
      "generating ILP data/data-ijcai15/lp_Toro/788.lp for user 20741443@N00 sequence [28, 23, 21, 11, 22] budget 10798.07\n",
      "generating ILP data/data-ijcai15/lp_Toro/790.lp for user 20741443@N00 sequence [28, 23, 21] budget 4491.87\n",
      "generating ILP data/data-ijcai15/lp_Toro/807.lp for user 20741443@N00 sequence [30, 22, 7] budget 7724.2\n",
      "generating ILP data/data-ijcai15/lp_Toro/809.lp for user 20741443@N00 sequence [7, 30, 21, 23, 28] budget 11049.04\n",
      "generating ILP data/data-ijcai15/lp_Toro/814.lp for user 20741443@N00 sequence [30, 7, 28, 23] budget 10152.88\n",
      "generating ILP data/data-ijcai15/lp_Toro/816.lp for user 20741443@N00 sequence [23, 28, 30] budget 6062.71\n",
      "generating ILP data/data-ijcai15/lp_Toro/821.lp for user 20741443@N00 sequence [23, 28, 22] budget 3818.64\n",
      "generating ILP data/data-ijcai15/lp_Toro/822.lp for user 20741443@N00 sequence [7, 23, 28, 30] budget 9395.34\n",
      "generating ILP data/data-ijcai15/lp_Toro/825.lp for user 20741443@N00 sequence [23, 22, 28] budget 3934.8\n",
      "generating ILP data/data-ijcai15/lp_Toro/843.lp for user 20741443@N00 sequence [23, 16, 30] budget 8731.26\n",
      "generating ILP data/data-ijcai15/lp_Toro/852.lp for user 20741443@N00 sequence [1, 30, 7] budget 8618.13\n",
      "generating ILP data/data-ijcai15/lp_Toro/867.lp for user 20741443@N00 sequence [8, 30, 7] budget 8828.0\n",
      "generating ILP data/data-ijcai15/lp_Toro/870.lp for user 20741443@N00 sequence [28, 3, 21] budget 4852.43\n",
      "generating ILP data/data-ijcai15/lp_Toro/879.lp for user 20741443@N00 sequence [7, 23, 21] budget 4995.81\n",
      "generating ILP data/data-ijcai15/lp_Toro/880.lp for user 20741443@N00 sequence [7, 22, 30] budget 6469.65\n",
      "generating ILP data/data-ijcai15/lp_Toro/883.lp for user 20741443@N00 sequence [21, 23, 30] budget 7112.91\n",
      "generating ILP data/data-ijcai15/lp_Toro/884.lp for user 20741443@N00 sequence [23, 21, 28, 30] budget 7945.59\n",
      "generating ILP data/data-ijcai15/lp_Toro/898.lp for user 20741443@N00 sequence [8, 30, 16] budget 7987.32\n",
      "generating ILP data/data-ijcai15/lp_Toro/904.lp for user 20741443@N00 sequence [22, 23, 30] budget 7178.1\n",
      "generating ILP data/data-ijcai15/lp_Toro/905.lp for user 20741443@N00 sequence [7, 23, 28, 30, 21, 22, 11] budget 17140.52\n",
      "generating ILP data/data-ijcai15/lp_Toro/911.lp for user 20741443@N00 sequence [29, 23, 21] budget 5466.45\n",
      "generating ILP data/data-ijcai15/lp_Toro/920.lp for user 20741443@N00 sequence [30, 7, 21] budget 7302.97\n",
      "generating ILP data/data-ijcai15/lp_Toro/923.lp for user 20741443@N00 sequence [21, 7, 30] budget 9293.38\n",
      "generating ILP data/data-ijcai15/lp_Toro/928.lp for user 20741443@N00 sequence [29, 27, 21] budget 3845.88\n",
      "generating ILP data/data-ijcai15/lp_Toro/929.lp for user 20741443@N00 sequence [7, 21, 28, 23] budget 7406.34\n",
      "generating ILP data/data-ijcai15/lp_Toro/962.lp for user 20741443@N00 sequence [21, 23, 28] budget 4878.06\n",
      "generating ILP data/data-ijcai15/lp_Toro/963.lp for user 20741443@N00 sequence [30, 28, 23] budget 5288.77\n",
      "generating ILP data/data-ijcai15/lp_Toro/965.lp for user 20741443@N00 sequence [30, 7, 21] budget 7302.97\n",
      "generating ILP data/data-ijcai15/lp_Toro/969.lp for user 20741443@N00 sequence [28, 21, 3] budget 4261.87\n",
      "generating ILP data/data-ijcai15/lp_Toro/979.lp for user 20741443@N00 sequence [7, 22, 23, 29] budget 9375.0\n",
      "generating ILP data/data-ijcai15/lp_Toro/980.lp for user 20741443@N00 sequence [24, 7, 28] budget 7971.65\n",
      "generating ILP data/data-ijcai15/lp_Toro/988.lp for user 20741443@N00 sequence [24, 7, 23, 28] budget 10921.93\n",
      "generating ILP data/data-ijcai15/lp_Toro/1117.lp for user 23908938@N02 sequence [4, 30, 22] budget 1780.47\n",
      "generating ILP data/data-ijcai15/lp_Toro/1118.lp for user 23908938@N02 sequence [7, 30, 16, 28] budget 14222.15\n",
      "generating ILP data/data-ijcai15/lp_Toro/1123.lp for user 23987663@N00 sequence [11, 22, 23, 21] budget 2770.2\n",
      "generating ILP data/data-ijcai15/lp_Toro/1135.lp for user 23987663@N00 sequence [23, 22, 28] budget 2745.52\n",
      "generating ILP data/data-ijcai15/lp_Toro/1225.lp for user 24854893@N00 sequence [16, 17, 19] budget 5280.7\n",
      "generating ILP data/data-ijcai15/lp_Toro/1237.lp for user 24854893@N00 sequence [30, 24, 25, 11] budget 4638.74\n",
      "generating ILP data/data-ijcai15/lp_Toro/1421.lp for user 28288718@N03 sequence [30, 27, 21] budget 4198.19\n",
      "generating ILP data/data-ijcai15/lp_Toro/1423.lp for user 28288718@N03 sequence [21, 28, 30] budget 1200.15\n",
      "generating ILP data/data-ijcai15/lp_Toro/1524.lp for user 29352917@N00 sequence [29, 30, 16] budget 10570.26\n",
      "generating ILP data/data-ijcai15/lp_Toro/1525.lp for user 29352917@N00 sequence [6, 25, 23] budget 2281.72\n",
      "generating ILP data/data-ijcai15/lp_Toro/1591.lp for user 30624156@N00 sequence [16, 8, 30, 7] budget 4242.67\n",
      "generating ILP data/data-ijcai15/lp_Toro/1598.lp for user 30624156@N00 sequence [28, 7, 30, 22, 27] budget 6673.88\n",
      "generating ILP data/data-ijcai15/lp_Toro/1865.lp for user 33473816@N00 sequence [7, 27, 30] budget 5058.68\n",
      "generating ILP data/data-ijcai15/lp_Toro/1877.lp for user 33547369@N00 sequence [23, 21, 22] budget 6195.07\n",
      "generating ILP data/data-ijcai15/lp_Toro/1918.lp for user 34211328@N00 sequence [30, 24, 4] budget 6681.45\n",
      "generating ILP data/data-ijcai15/lp_Toro/1933.lp for user 34211328@N00 sequence [2, 17, 14] budget 11751.77\n",
      "generating ILP data/data-ijcai15/lp_Toro/1934.lp for user 34211328@N00 sequence [8, 16, 7] budget 9887.76\n",
      "generating ILP data/data-ijcai15/lp_Toro/1937.lp for user 34211328@N00 sequence [17, 2, 14] budget 7092.11\n",
      "generating ILP data/data-ijcai15/lp_Toro/1938.lp for user 34211328@N00 sequence [17, 14, 27, 11] budget 6900.79\n",
      "generating ILP data/data-ijcai15/lp_Toro/1940.lp for user 34211328@N00 sequence [11, 29, 6, 23, 22] budget 11350.41\n",
      "generating ILP data/data-ijcai15/lp_Toro/1949.lp for user 34211328@N00 sequence [8, 16, 13] budget 12207.38\n",
      "generating ILP data/data-ijcai15/lp_Toro/1968.lp for user 34211328@N00 sequence [7, 30, 22, 21, 23] budget 9010.19\n",
      "generating ILP data/data-ijcai15/lp_Toro/1969.lp for user 34211328@N00 sequence [7, 28, 29] budget 9907.63\n",
      "generating ILP data/data-ijcai15/lp_Toro/2196.lp for user 35468159247@N01 sequence [24, 16, 30, 6, 21] budget 3650.56\n",
      "generating ILP data/data-ijcai15/lp_Toro/2207.lp for user 35764233@N00 sequence [23, 13, 21, 1, 22] budget 12659.11\n",
      "generating ILP data/data-ijcai15/lp_Toro/2331.lp for user 37517876@N07 sequence [11, 27, 23] budget 2910.56\n",
      "generating ILP data/data-ijcai15/lp_Toro/2338.lp for user 37517876@N07 sequence [1, 30, 7] budget 8380.91\n",
      "generating ILP data/data-ijcai15/lp_Toro/2340.lp for user 37517876@N07 sequence [24, 28, 22, 21] budget 9497.41\n",
      "generating ILP data/data-ijcai15/lp_Toro/2461.lp for user 39460517@N03 sequence [2, 14, 17] budget 7573.73\n",
      "generating ILP data/data-ijcai15/lp_Toro/2466.lp for user 39460517@N03 sequence [22, 28, 23, 21] budget 9572.01\n",
      "generating ILP data/data-ijcai15/lp_Toro/2471.lp for user 39460517@N03 sequence [22, 28, 21] budget 8989.44\n",
      "generating ILP data/data-ijcai15/lp_Toro/2497.lp for user 39587684@N00 sequence [25, 1, 7] budget 2387.4\n",
      "generating ILP data/data-ijcai15/lp_Toro/2499.lp for user 39587684@N00 sequence [23, 28, 22] budget 2773.03\n",
      "generating ILP data/data-ijcai15/lp_Toro/2705.lp for user 43139087@N00 sequence [21, 23, 28, 22, 7] budget 4233.86\n",
      "generating ILP data/data-ijcai15/lp_Toro/3037.lp for user 47501960@N00 sequence [23, 28, 3] budget 8602.89\n",
      "generating ILP data/data-ijcai15/lp_Toro/3401.lp for user 49503002894@N01 sequence [22, 8, 3] budget 30730.46\n",
      "generating ILP data/data-ijcai15/lp_Toro/3402.lp for user 49503002894@N01 sequence [8, 19, 22] budget 20043.02\n",
      "generating ILP data/data-ijcai15/lp_Toro/3856.lp for user 58919362@N00 sequence [30, 7, 23, 21] budget 4468.09\n",
      "generating ILP data/data-ijcai15/lp_Toro/3932.lp for user 60597745@N00 sequence [22, 28, 4] budget 9716.0\n",
      "generating ILP data/data-ijcai15/lp_Toro/3967.lp for user 61377999@N03 sequence [6, 21, 22] budget 1469.68\n",
      "generating ILP data/data-ijcai15/lp_Toro/3968.lp for user 61377999@N03 sequence [22, 16, 4] budget 7999.69\n",
      "generating ILP data/data-ijcai15/lp_Toro/4351.lp for user 69754957@N00 sequence [11, 23, 3, 30, 7, 16, 4, 1, 2] budget 36894.44\n",
      "generating ILP data/data-ijcai15/lp_Toro/4451.lp for user 71482738@N00 sequence [21, 6, 22, 28] budget 14520.65\n",
      "generating ILP data/data-ijcai15/lp_Toro/4580.lp for user 75450299@N07 sequence [22, 28, 21] budget 7705.51\n",
      "generating ILP data/data-ijcai15/lp_Toro/4756.lp for user 7776449@N06 sequence [22, 29, 11] budget 8530.28\n",
      "generating ILP data/data-ijcai15/lp_Toro/4782.lp for user 78015320@N00 sequence [16, 8, 28, 22, 6] budget 2855.54\n",
      "generating ILP data/data-ijcai15/lp_Toro/4973.lp for user 81471618@N06 sequence [11, 19, 15] budget 8214.48\n",
      "generating ILP data/data-ijcai15/lp_Toro/5183.lp for user 84987970@N00 sequence [3, 21, 22, 25] budget 13612.62\n",
      "generating ILP data/data-ijcai15/lp_Toro/5207.lp for user 84987970@N00 sequence [4, 2, 17] budget 13419.73\n",
      "generating ILP data/data-ijcai15/lp_Toro/5214.lp for user 84987970@N00 sequence [7, 22, 23, 3, 29] budget 19860.24\n",
      "generating ILP data/data-ijcai15/lp_Toro/5215.lp for user 84987970@N00 sequence [21, 22, 3] budget 7730.74\n",
      "generating ILP data/data-ijcai15/lp_Toro/5228.lp for user 84987970@N00 sequence [3, 21, 23] budget 11065.24\n",
      "generating ILP data/data-ijcai15/lp_Toro/5237.lp for user 84987970@N00 sequence [3, 30, 22] budget 14689.95\n",
      "generating ILP data/data-ijcai15/lp_Toro/5250.lp for user 84987970@N00 sequence [30, 23, 21, 22, 6, 16] budget 21783.92\n",
      "generating ILP data/data-ijcai15/lp_Toro/5253.lp for user 84987970@N00 sequence [21, 23, 1] budget 9402.18\n",
      "generating ILP data/data-ijcai15/lp_Toro/5254.lp for user 84987970@N00 sequence [6, 22, 28, 21, 23, 30, 7] budget 29418.07\n",
      "generating ILP data/data-ijcai15/lp_Toro/5256.lp for user 84987970@N00 sequence [21, 22, 23] budget 11743.16\n",
      "generating ILP data/data-ijcai15/lp_Toro/5263.lp for user 84987970@N00 sequence [3, 21, 23, 28, 7, 30, 22] budget 29435.74\n",
      "generating ILP data/data-ijcai15/lp_Toro/5276.lp for user 84987970@N00 sequence [6, 4, 30, 7, 28, 21] budget 20883.65\n",
      "generating ILP data/data-ijcai15/lp_Toro/5277.lp for user 84987970@N00 sequence [29, 22, 28, 23, 21, 27] budget 22854.88\n",
      "generating ILP data/data-ijcai15/lp_Toro/5278.lp for user 84987970@N00 sequence [21, 23, 28, 6] budget 10375.35\n",
      "generating ILP data/data-ijcai15/lp_Toro/5282.lp for user 84987970@N00 sequence [22, 29, 24, 11] budget 15645.32\n",
      "generating ILP data/data-ijcai15/lp_Toro/5287.lp for user 84987970@N00 sequence [28, 22, 21] budget 11309.43\n",
      "generating ILP data/data-ijcai15/lp_Toro/5294.lp for user 84987970@N00 sequence [2, 17, 14] budget 9284.25\n",
      "generating ILP data/data-ijcai15/lp_Toro/5301.lp for user 84987970@N00 sequence [7, 28, 22, 30] budget 17289.83\n",
      "generating ILP data/data-ijcai15/lp_Toro/5324.lp for user 84987970@N00 sequence [22, 28, 23, 3] budget 10532.91\n",
      "generating ILP data/data-ijcai15/lp_Toro/5325.lp for user 84987970@N00 sequence [24, 15, 19] budget 3760.75\n",
      "generating ILP data/data-ijcai15/lp_Toro/5328.lp for user 84987970@N00 sequence [23, 22, 21] budget 11434.18\n",
      "generating ILP data/data-ijcai15/lp_Toro/5337.lp for user 84987970@N00 sequence [22, 21, 3, 23, 28] budget 16346.64\n",
      "generating ILP data/data-ijcai15/lp_Toro/5343.lp for user 84987970@N00 sequence [22, 30, 21] budget 13341.73\n",
      "generating ILP data/data-ijcai15/lp_Toro/5539.lp for user 9025385@N07 sequence [30, 7, 24, 16] budget 1751.68\n",
      "generating ILP data/data-ijcai15/lp_Toro/5648.lp for user 93241698@N00 sequence [22, 28, 23] budget 558.03\n",
      "generating ILP data/data-ijcai15/lp_Toro/5747.lp for user 9449875@N03 sequence [28, 21, 23] budget 3174.28\n",
      "generating ILP data/data-ijcai15/lp_Toro/5927.lp for user 98715075@N00 sequence [1, 30, 4] budget 1471.23\n",
      "generating ILP data/data-ijcai15/lp_Toro/5947.lp for user 9911655@N08 sequence [25, 29, 8] budget 7622.8\n",
      "generating ILP data/data-ijcai15/lp_Toro/5963.lp for user 99127884@N00 sequence [21, 23, 28] budget 551.58\n",
      "generating ILP data/data-ijcai15/lp_Toro/6011.lp for user 9985167@N04 sequence [22, 28, 21] budget 2682.73\n",
      "generating ILP data/data-ijcai15/lp_Toro/6018.lp for user 9985167@N04 sequence [28, 23, 21] budget 4326.58\n"
     ]
    }
   ],
   "source": [
    "for seqid in sorted(train_seqs.keys()):\n",
    "    if not os.path.exists(lpDir): \n",
    "        print('Please create directory \"' + lpDir + '\"')\n",
    "        break\n",
    "    seq = train_seqs[seqid]\n",
    "    lpFile = os.path.join(lpDir, str(seqid) + '.lp')\n",
    "    user = seq_user.loc[seqid].iloc[0]\n",
    "    the_user_interest = None\n",
    "    if time_based == True:\n",
    "        the_user_interest = user_interest['timeBased'].copy()\n",
    "    else: \n",
    "        the_user_interest = user_interest['freqBased'].copy()\n",
    "    budget = calc_seq_budget(user, seq, poi_info, poi_dist_mat, the_user_interest)\n",
    "    print('generating ILP', lpFile, 'for user', user, 'sequence', seq, 'budget', round(budget, 2))\n",
    "    generate_ILP(lpFile, user, budget, seq[0], seq[-1], poi_info, poi_dist_mat, eta, speed, the_user_interest)"
   ]
  },
  {
   "cell_type": "markdown",
   "metadata": {},
   "source": [
    "### 4.3.2 Generate ILPs for testing set"
   ]
  },
  {
   "cell_type": "code",
   "execution_count": 586,
   "metadata": {
    "collapsed": true
   },
   "outputs": [],
   "source": [
    "test_seqs = extract_seq(test_set, seq_all)"
   ]
  },
  {
   "cell_type": "code",
   "execution_count": 587,
   "metadata": {
    "collapsed": false
   },
   "outputs": [
    {
     "name": "stdout",
     "output_type": "stream",
     "text": [
      "generating ILP data/data-ijcai15/lp_Toro/58.lp for user 10502709@N05 sequence [7, 11, 27] budget 2795.14\n",
      "generating ILP data/data-ijcai15/lp_Toro/99.lp for user 10627620@N06 sequence [3, 23, 27] budget 2831.06\n",
      "generating ILP data/data-ijcai15/lp_Toro/157.lp for user 11191102@N07 sequence [27, 23, 11] budget 3718.39\n",
      "generating ILP data/data-ijcai15/lp_Toro/315.lp for user 13907834@N00 sequence [16, 4, 8] budget 1277.07\n",
      "generating ILP data/data-ijcai15/lp_Toro/380.lp for user 14391210@N00 sequence [30, 22, 28, 23] budget 2088.65\n",
      "generating ILP data/data-ijcai15/lp_Toro/453.lp for user 14878709@N00 sequence [23, 28, 16] budget 15637.73\n",
      "generating ILP data/data-ijcai15/lp_Toro/524.lp for user 16693950@N00 sequence [25, 19, 15] budget 5246.03\n",
      "generating ILP data/data-ijcai15/lp_Toro/623.lp for user 18412989@N00 sequence [21, 23, 24] budget 5036.3\n",
      "generating ILP data/data-ijcai15/lp_Toro/687.lp for user 20456447@N03 sequence [7, 16, 4, 8] budget 2421.19\n",
      "generating ILP data/data-ijcai15/lp_Toro/813.lp for user 20741443@N00 sequence [8, 30, 28, 23] budget 9173.34\n",
      "generating ILP data/data-ijcai15/lp_Toro/1121.lp for user 23908938@N02 sequence [16, 11, 13] budget 8362.73\n",
      "generating ILP data/data-ijcai15/lp_Toro/1128.lp for user 23987663@N00 sequence [10, 21, 28, 22] budget 4873.97\n",
      "generating ILP data/data-ijcai15/lp_Toro/1247.lp for user 24854893@N00 sequence [25, 16, 24] budget 2129.43\n",
      "generating ILP data/data-ijcai15/lp_Toro/1424.lp for user 28288718@N03 sequence [30, 23, 28] budget 1063.0\n",
      "generating ILP data/data-ijcai15/lp_Toro/1523.lp for user 29352917@N00 sequence [16, 23, 28, 22] budget 4515.02\n",
      "generating ILP data/data-ijcai15/lp_Toro/1592.lp for user 30624156@N00 sequence [21, 23, 22, 28] budget 2431.14\n",
      "generating ILP data/data-ijcai15/lp_Toro/1835.lp for user 33473816@N00 sequence [22, 8, 30] budget 1492.33\n",
      "generating ILP data/data-ijcai15/lp_Toro/1875.lp for user 33547369@N00 sequence [22, 28, 23] budget 9628.03\n",
      "generating ILP data/data-ijcai15/lp_Toro/1931.lp for user 34211328@N00 sequence [21, 23, 22] budget 1566.79\n",
      "generating ILP data/data-ijcai15/lp_Toro/2198.lp for user 35468159247@N01 sequence [23, 21, 22] budget 691.07\n",
      "generating ILP data/data-ijcai15/lp_Toro/2209.lp for user 35764233@N00 sequence [21, 16, 22] budget 2461.21\n",
      "generating ILP data/data-ijcai15/lp_Toro/2334.lp for user 37517876@N07 sequence [21, 6, 7, 1] budget 10663.36\n",
      "generating ILP data/data-ijcai15/lp_Toro/2472.lp for user 39460517@N03 sequence [21, 23, 22, 28] budget 10951.89\n",
      "generating ILP data/data-ijcai15/lp_Toro/2496.lp for user 39587684@N00 sequence [30, 8, 7] budget 1231.96\n",
      "generating ILP data/data-ijcai15/lp_Toro/2703.lp for user 43139087@N00 sequence [24, 30, 7] budget 3424.77\n",
      "generating ILP data/data-ijcai15/lp_Toro/3040.lp for user 47501960@N00 sequence [23, 27, 21] budget 3392.95\n",
      "generating ILP data/data-ijcai15/lp_Toro/3403.lp for user 49503002894@N01 sequence [8, 16, 22] budget 13953.64\n",
      "generating ILP data/data-ijcai15/lp_Toro/3851.lp for user 58919362@N00 sequence [30, 24, 22] budget 3512.33\n",
      "generating ILP data/data-ijcai15/lp_Toro/3935.lp for user 60597745@N00 sequence [13, 4, 16] budget 12341.46\n",
      "generating ILP data/data-ijcai15/lp_Toro/3969.lp for user 61377999@N03 sequence [7, 11, 25] budget 3693.22\n",
      "generating ILP data/data-ijcai15/lp_Toro/4354.lp for user 69754957@N00 sequence [29, 21, 3, 30] budget 19329.2\n",
      "generating ILP data/data-ijcai15/lp_Toro/4450.lp for user 71482738@N00 sequence [16, 8, 30, 11, 25] budget 56244.05\n",
      "generating ILP data/data-ijcai15/lp_Toro/4578.lp for user 75450299@N07 sequence [25, 6, 22, 21, 28] budget 11238.31\n",
      "generating ILP data/data-ijcai15/lp_Toro/4758.lp for user 7776449@N06 sequence [21, 23, 6, 25, 27] budget 12372.76\n",
      "generating ILP data/data-ijcai15/lp_Toro/4783.lp for user 78015320@N00 sequence [6, 13, 11] budget 4784.01\n",
      "generating ILP data/data-ijcai15/lp_Toro/4972.lp for user 81471618@N06 sequence [28, 23, 21] budget 10819.46\n",
      "generating ILP data/data-ijcai15/lp_Toro/5180.lp for user 84987970@N00 sequence [22, 28, 23, 21] budget 14345.63\n",
      "generating ILP data/data-ijcai15/lp_Toro/5541.lp for user 9025385@N07 sequence [30, 16, 4, 1, 7] budget 1942.81\n",
      "generating ILP data/data-ijcai15/lp_Toro/5649.lp for user 93241698@N00 sequence [23, 22, 16] budget 1570.41\n",
      "generating ILP data/data-ijcai15/lp_Toro/5751.lp for user 9449875@N03 sequence [14, 2, 17] budget 356.33\n",
      "generating ILP data/data-ijcai15/lp_Toro/5932.lp for user 98715075@N00 sequence [22, 23, 21] budget 553.74\n",
      "generating ILP data/data-ijcai15/lp_Toro/5959.lp for user 9911655@N08 sequence [28, 21, 30] budget 5343.48\n",
      "generating ILP data/data-ijcai15/lp_Toro/5964.lp for user 99127884@N00 sequence [11, 29, 6, 22, 28, 7, 30, 1, 15] budget 7249.42\n",
      "generating ILP data/data-ijcai15/lp_Toro/6028.lp for user 9985167@N04 sequence [23, 30, 22, 28, 3] budget 5135.14\n"
     ]
    }
   ],
   "source": [
    "for seqid in sorted(test_seqs.keys()):\n",
    "    if not os.path.exists(lpDir): \n",
    "        print('Please create directory \"' + lpDir + '\"')\n",
    "        break\n",
    "    seq = test_seqs[seqid]\n",
    "    lpFile = os.path.join(lpDir, str(seqid) + '.lp')\n",
    "    user = seq_user.loc[seqid].iloc[0]\n",
    "    the_user_interest = None\n",
    "    if time_based == True:\n",
    "        the_user_interest = user_interest['timeBased'].copy()\n",
    "    else: \n",
    "        the_user_interest = user_interest['freqBased'].copy()\n",
    "    budget = calc_seq_budget(user, seq, poi_info, poi_dist_mat, the_user_interest)\n",
    "    print('generating ILP', lpFile, 'for user', user, 'sequence', seq, 'budget', round(budget, 2))\n",
    "    generate_ILP(lpFile, user, budget, seq[0], seq[-1], poi_info, poi_dist_mat, eta, speed, the_user_interest)"
   ]
  },
  {
   "cell_type": "markdown",
   "metadata": {},
   "source": [
    "## 4.4 Evaluation"
   ]
  },
  {
   "cell_type": "code",
   "execution_count": 588,
   "metadata": {
    "collapsed": true
   },
   "outputs": [],
   "source": [
    "def load_solution_gurobi(fsol, startPoi, endPoi):\n",
    "    \"\"\"Load recommended itinerary from MIP solution file by GUROBI\"\"\"\n",
    "    seqterm = [] \n",
    "    with open(fsol, 'r') as f:\n",
    "        for line in f:\n",
    "            if re.search('^visit_', line):      # e.g. visit_0_7 1\\n\n",
    "                item = line.strip().split(' ')  #      visit_21_16 1.56406801399038e-09\\n\n",
    "                if round(float(item[1])) == 1:\n",
    "                    fromto = item[0].split('_')\n",
    "                    seqterm.append((int(fromto[1]), int(fromto[2])))\n",
    "    p0 = startPoi\n",
    "    pN = endPoi\n",
    "    recseq = [p0]\n",
    "    while True:\n",
    "        px = recseq[-1]\n",
    "        for term in seqterm:\n",
    "            if term[0] == px:\n",
    "                recseq.append(term[1])\n",
    "                if term[1] == pN: \n",
    "                    return recseq\n",
    "                else:\n",
    "                    seqterm.remove(term)\n",
    "                    break"
   ]
  },
  {
   "cell_type": "code",
   "execution_count": 589,
   "metadata": {
    "collapsed": true
   },
   "outputs": [],
   "source": [
    "def calc_recall_precision_F1score(seq_act, seq_rec):\n",
    "    assert(len(seq_act) > 0)\n",
    "    assert(len(seq_rec) > 0)\n",
    "    actset = set(seq_act)\n",
    "    recset = set(seq_rec)\n",
    "    intersect = actset & recset\n",
    "    recall = len(intersect) / len(seq_act)\n",
    "    precision = len(intersect) / len(seq_rec)\n",
    "    F1score = 2. * precision * recall / (precision + recall)\n",
    "    return recall, precision, F1score"
   ]
  },
  {
   "cell_type": "markdown",
   "metadata": {},
   "source": [
    "### 4.4.1 Evaluation on training set"
   ]
  },
  {
   "cell_type": "code",
   "execution_count": 590,
   "metadata": {
    "collapsed": true
   },
   "outputs": [],
   "source": [
    "train_seqs_rec = dict()"
   ]
  },
  {
   "cell_type": "code",
   "execution_count": 591,
   "metadata": {
    "collapsed": false
   },
   "outputs": [],
   "source": [
    "solDir = os.path.join(data_dir, os.path.join('lp_' + suffix, 'eta05_time'))\n",
    "#solDir = os.path.join(data_dir, os.path.join('lp_' + suffix, 'eta10_time'))\n",
    "if not os.path.exists(solDir):\n",
    "    print('Directory for solution files', solDir, 'does not exist.')"
   ]
  },
  {
   "cell_type": "code",
   "execution_count": 592,
   "metadata": {
    "collapsed": false
   },
   "outputs": [
    {
     "name": "stdout",
     "output_type": "stream",
     "text": [
      "Sequence 67 Actual: [28, 23, 22] , Recommended: [28, 7, 21, 22]\n",
      "Sequence 71 Actual: [22, 28, 23, 21] , Recommended: [22, 23, 7, 1, 16, 8, 24, 4, 6, 11, 27, 3, 21]\n",
      "Sequence 100 Actual: [21, 23, 30] , Recommended: [21, 23, 30]\n",
      "Sequence 155 Actual: [16, 4, 22] , Recommended: [16, 30, 28, 22]\n",
      "Sequence 162 Actual: [7, 30, 22] , Recommended: [7, 28, 22]\n",
      "Sequence 316 Actual: [21, 27, 11] , Recommended: [21, 22, 29, 11]\n",
      "Sequence 379 Actual: [30, 22, 6] , Recommended: [30, 1, 28, 23, 6]\n",
      "Sequence 454 Actual: [16, 21, 23, 8, 28, 22, 27] , Recommended: [16, 4, 1, 30, 7, 22, 28, 23, 21, 3, 29, 11, 27]\n",
      "Sequence 523 Actual: [16, 22, 23] , Recommended: [16, 4, 24, 1, 30, 28, 23]\n",
      "Sequence 525 Actual: [22, 8, 30, 7, 28, 23, 21, 16] , Recommended: [22, 6, 27, 3, 21, 23, 28, 7, 30, 1, 24, 4, 16]\n",
      "Sequence 619 Actual: [23, 22, 16] , Recommended: [23, 22, 16]\n",
      "Sequence 624 Actual: [7, 23, 1] , Recommended: [7, 28, 21, 22, 8, 16, 30, 1]\n",
      "Sequence 686 Actual: [22, 30, 7, 1, 8, 16, 21] , Recommended: [22, 8, 16, 30, 7, 28, 23, 3, 21]\n",
      "Sequence 688 Actual: [3, 29, 6, 22] , Recommended: [3, 23, 28, 22]\n",
      "Sequence 708 Actual: [7, 23, 28, 21, 30] , Recommended: [7, 21, 23, 22, 30]\n",
      "Sequence 712 Actual: [7, 30, 23] , Recommended: [7, 22, 21, 23]\n",
      "Sequence 716 Actual: [21, 7, 1] , Recommended: [21, 23, 22, 1]\n",
      "Sequence 722 Actual: [7, 22, 23] , Recommended: [7, 21, 23]\n",
      "Sequence 729 Actual: [23, 21, 22, 7, 28] , Recommended: [23, 21, 22, 30, 28]\n",
      "Sequence 730 Actual: [7, 28, 23] , Recommended: [7, 28, 23]\n",
      "Sequence 731 Actual: [21, 23, 22] , Recommended: [21, 23, 22]\n",
      "Sequence 744 Actual: [28, 21, 30] , Recommended: [28, 21, 30]\n",
      "Sequence 745 Actual: [30, 21, 6] , Recommended: [30, 21, 6]\n",
      "Sequence 753 Actual: [30, 28, 23, 7] , Recommended: [30, 21, 22, 7]\n",
      "Sequence 763 Actual: [28, 23, 21] , Recommended: [28, 23, 21]\n",
      "Sequence 775 Actual: [22, 21, 30] , Recommended: [22, 21, 30]\n",
      "Sequence 778 Actual: [7, 28, 30] , Recommended: [7, 28, 30]\n",
      "Sequence 783 Actual: [7, 30, 21, 23, 22] , Recommended: [7, 21, 23, 28, 22]\n",
      "Sequence 786 Actual: [7, 23, 21, 28] , Recommended: [7, 23, 21, 28]\n",
      "Sequence 788 Actual: [28, 23, 21, 11, 22] , Recommended: [28, 3, 23, 21, 22]\n",
      "Sequence 790 Actual: [28, 23, 21] , Recommended: [28, 23, 21]\n",
      "Sequence 807 Actual: [30, 22, 7] , Recommended: [30, 22, 7]\n",
      "Sequence 809 Actual: [7, 30, 21, 23, 28] , Recommended: [7, 23, 21, 22, 28]\n",
      "Sequence 814 Actual: [30, 7, 28, 23] , Recommended: [30, 28, 22, 21, 23]\n",
      "Sequence 816 Actual: [23, 28, 30] , Recommended: [23, 28, 30]\n",
      "Sequence 821 Actual: [23, 28, 22] , Recommended: [23, 21, 22]\n",
      "Sequence 822 Actual: [7, 23, 28, 30] , Recommended: [7, 22, 21, 30]\n",
      "Sequence 825 Actual: [23, 22, 28] , Recommended: [23, 21, 28]\n",
      "Sequence 843 Actual: [23, 16, 30] , Recommended: [23, 21, 22, 30]\n",
      "Sequence 852 Actual: [1, 30, 7] , Recommended: [1, 21, 7]\n",
      "Sequence 867 Actual: [8, 30, 7] , Recommended: [8, 21, 7]\n",
      "Sequence 870 Actual: [28, 3, 21] , Recommended: [28, 23, 21]\n",
      "Sequence 879 Actual: [7, 23, 21] , Recommended: [7, 23, 21]\n",
      "Sequence 880 Actual: [7, 22, 30] , Recommended: [7, 22, 30]\n",
      "Sequence 883 Actual: [21, 23, 30] , Recommended: [21, 23, 30]\n",
      "Sequence 884 Actual: [23, 21, 28, 30] , Recommended: [23, 21, 22, 30]\n",
      "Sequence 898 Actual: [8, 30, 16] , Recommended: [8, 21, 16]\n",
      "Sequence 904 Actual: [22, 23, 30] , Recommended: [22, 23, 30]\n",
      "Sequence 905 Actual: [7, 23, 28, 30, 21, 22, 11] , Recommended: [7, 30, 22, 28, 23, 21, 27, 11]\n",
      "Sequence 911 Actual: [29, 23, 21] , Recommended: [29, 23, 21]\n",
      "Sequence 920 Actual: [30, 7, 21] , Recommended: [30, 22, 23, 21]\n",
      "Sequence 923 Actual: [21, 7, 30] , Recommended: [21, 22, 23, 30]\n",
      "Sequence 928 Actual: [29, 27, 21] , Recommended: [29, 27, 21]\n",
      "Sequence 929 Actual: [7, 21, 28, 23] , Recommended: [7, 22, 21, 23]\n",
      "Sequence 962 Actual: [21, 23, 28] , Recommended: [21, 23, 28]\n",
      "Sequence 963 Actual: [30, 28, 23] , Recommended: [30, 28, 23]\n",
      "Sequence 965 Actual: [30, 7, 21] , Recommended: [30, 22, 23, 21]\n",
      "Sequence 969 Actual: [28, 21, 3] , Recommended: [28, 21, 3]\n",
      "Sequence 979 Actual: [7, 22, 23, 29] , Recommended: [7, 23, 21, 29]\n",
      "Sequence 980 Actual: [24, 7, 28] , Recommended: [24, 22, 23, 28]\n",
      "Sequence 988 Actual: [24, 7, 23, 28] , Recommended: [24, 23, 21, 22, 28]\n",
      "Sequence 1117 Actual: [4, 30, 22] , Recommended: [4, 23, 22]\n",
      "Sequence 1118 Actual: [7, 30, 16, 28] , Recommended: [7, 30, 22, 6, 29, 11, 27, 3, 21, 23, 28]\n",
      "Sequence 1123 Actual: [11, 22, 23, 21] , Recommended: [11, 22, 23, 21]\n",
      "Sequence 1135 Actual: [23, 22, 28] , Recommended: [23, 22, 28]\n",
      "Sequence 1225 Actual: [16, 17, 19] , Recommended: [16, 22, 21, 23, 1, 24, 19]\n",
      "Sequence 1237 Actual: [30, 24, 25, 11] , Recommended: [30, 1, 16, 22, 23, 21, 3, 11]\n",
      "Sequence 1421 Actual: [30, 27, 21] , Recommended: [30, 16, 4, 8, 24, 1, 7, 22, 28, 23, 21]\n",
      "Sequence 1423 Actual: [21, 28, 30] , Recommended: [21, 23, 30]\n",
      "Sequence 1524 Actual: [29, 30, 16] , Recommended: [29, 3, 21, 23, 28, 22, 1, 24, 4, 16]\n",
      "Sequence 1525 Actual: [6, 25, 23] , Recommended: [6, 21, 22, 23]\n",
      "Sequence 1591 Actual: [16, 8, 30, 7] , Recommended: [16, 22, 21, 23, 28, 7]\n",
      "Sequence 1598 Actual: [28, 7, 30, 22, 27] , Recommended: [28, 22, 16, 4, 8, 24, 1, 7, 23, 21, 3, 11, 27]\n",
      "Sequence 1865 Actual: [7, 27, 30] , Recommended: [7, 23, 21, 28, 22, 6, 4, 16, 8, 24, 1, 30]\n",
      "Sequence 1877 Actual: [23, 21, 22] , Recommended: [23, 7, 1, 8, 16, 30, 28, 22]\n",
      "Sequence 1918 Actual: [30, 24, 4] , Recommended: [30, 24, 4]\n",
      "Sequence 1933 Actual: [2, 17, 14] , Recommended: [2, 3, 21, 23, 22, 14]\n",
      "Sequence 1934 Actual: [8, 16, 7] , Recommended: [8, 21, 23, 7]\n",
      "Sequence 1937 Actual: [17, 2, 14] , Recommended: [17, 22, 14]\n",
      "Sequence 1938 Actual: [17, 14, 27, 11] , Recommended: [17, 14, 27, 11]\n",
      "Sequence 1940 Actual: [11, 29, 6, 23, 22] , Recommended: [11, 27, 25, 3, 21, 23, 28, 22]\n",
      "Sequence 1949 Actual: [8, 16, 13] , Recommended: [8, 22, 23, 21, 27, 13]\n",
      "Sequence 1968 Actual: [7, 30, 22, 21, 23] , Recommended: [7, 28, 22, 21, 3, 23]\n",
      "Sequence 1969 Actual: [7, 28, 29] , Recommended: [7, 22, 23, 21, 29]\n",
      "Sequence 2196 Actual: [24, 16, 30, 6, 21] , Recommended: [24, 16, 30, 7, 28, 22, 21]\n",
      "Sequence 2207 Actual: [23, 13, 21, 1, 22] , Recommended: [23, 28, 7, 30, 1, 16, 4, 25, 29, 27, 3, 21, 22]\n",
      "Sequence 2331 Actual: [11, 27, 23] , Recommended: [11, 3, 23]\n",
      "Sequence 2338 Actual: [1, 30, 7] , Recommended: [1, 23, 7]\n",
      "Sequence 2340 Actual: [24, 28, 22, 21] , Recommended: [24, 1, 30, 28, 23, 21]\n",
      "Sequence 2461 Actual: [2, 14, 17] , Recommended: [2, 14, 17]\n",
      "Sequence 2466 Actual: [22, 28, 23, 21] , Recommended: [22, 28, 23, 21]\n",
      "Sequence 2471 Actual: [22, 28, 21] , Recommended: [22, 28, 21]\n",
      "Sequence 2497 Actual: [25, 1, 7] , Recommended: [25, 6, 22, 7]\n",
      "Sequence 2499 Actual: [23, 28, 22] , Recommended: [23, 21, 7, 1, 22]\n",
      "Sequence 2705 Actual: [21, 23, 28, 22, 7] , Recommended: [21, 23, 28, 22, 7]\n",
      "Sequence 3037 Actual: [23, 28, 3] , Recommended: [23, 22, 21, 3]\n",
      "Sequence 3401 Actual: [22, 8, 3] , Recommended: [22, 21, 23, 28, 30, 1, 24, 16, 4, 17, 14, 2, 25, 29, 11, 27, 10, 3]\n",
      "Sequence 3402 Actual: [8, 19, 22] , Recommended: [8, 4, 16, 24, 1, 30, 23, 28, 3, 27, 29, 22]\n",
      "Sequence 3856 Actual: [30, 7, 23, 21] , Recommended: [30, 22, 28, 23, 21]\n",
      "Sequence 3932 Actual: [22, 28, 4] , Recommended: [22, 28, 4]\n",
      "Sequence 3967 Actual: [6, 21, 22] , Recommended: [6, 28, 23, 22]\n",
      "Sequence 3968 Actual: [22, 16, 4] , Recommended: [22, 6, 25, 29, 11, 27, 3, 21, 23, 28, 7, 30, 1, 24, 8, 4]\n",
      "Sequence 4351 Actual: [11, 23, 3, 30, 7, 16, 4, 1, 2] , Recommended: [11, 27, 3, 21, 23, 22, 28, 7, 1, 24, 4, 16, 8, 6, 25, 14, 2]\n",
      "Sequence 4451 Actual: [21, 6, 22, 28] , Recommended: [21, 3, 27, 29, 25, 2, 14, 17, 4, 16, 24, 1, 30, 22, 23, 28]\n",
      "Sequence 4580 Actual: [22, 28, 21] , Recommended: [22, 6, 4, 16, 8, 24, 1, 7, 23, 3, 21]\n",
      "Sequence 4756 Actual: [22, 29, 11] , Recommended: [22, 21, 11]\n",
      "Sequence 4782 Actual: [16, 8, 28, 22, 6] , Recommended: [16, 28, 23, 21, 22, 6]\n",
      "Sequence 4973 Actual: [11, 19, 15] , Recommended: [11, 29, 3, 23, 28, 7, 30, 1, 8, 4, 24, 15]\n",
      "Sequence 5183 Actual: [3, 21, 22, 25] , Recommended: [3, 21, 28, 7, 25]\n",
      "Sequence 5207 Actual: [4, 2, 17] , Recommended: [4, 6, 14, 17]\n",
      "Sequence 5214 Actual: [7, 22, 23, 3, 29] , Recommended: [7, 23, 28, 3, 27, 11, 29]\n",
      "Sequence 5215 Actual: [21, 22, 3] , Recommended: [21, 28, 7, 3]\n",
      "Sequence 5228 Actual: [3, 21, 23] , Recommended: [3, 27, 11, 7, 23]\n",
      "Sequence 5237 Actual: [3, 30, 22] , Recommended: [3, 6, 7, 28, 22]\n",
      "Sequence 5250 Actual: [30, 23, 21, 22, 6, 16] , Recommended: [30, 28, 3, 21, 23, 7, 16]\n",
      "Sequence 5253 Actual: [21, 23, 1] , Recommended: [21, 28, 7, 1]\n",
      "Sequence 5254 Actual: [6, 22, 28, 21, 23, 30, 7] , Recommended: [6, 11, 27, 3, 21, 23, 28, 22, 16, 7]\n",
      "Sequence 5256 Actual: [21, 22, 23] , Recommended: [21, 7, 28, 23]\n",
      "Sequence 5263 Actual: [3, 21, 23, 28, 7, 30, 22] , Recommended: [3, 27, 11, 6, 16, 7, 28, 23, 21, 22]\n",
      "Sequence 5276 Actual: [6, 4, 30, 7, 28, 21] , Recommended: [6, 11, 27, 3, 7, 28, 23, 21]\n",
      "Sequence 5277 Actual: [29, 22, 28, 23, 21, 27] , Recommended: [29, 3, 21, 23, 7, 28, 6, 25, 11, 27]\n",
      "Sequence 5278 Actual: [21, 23, 28, 6] , Recommended: [21, 3, 23, 7, 6]\n",
      "Sequence 5282 Actual: [22, 29, 24, 11] , Recommended: [22, 6, 7, 28, 21, 3, 27, 11]\n",
      "Sequence 5287 Actual: [28, 22, 21] , Recommended: [28, 7, 6, 3, 21]\n",
      "Sequence 5294 Actual: [2, 17, 14] , Recommended: [2, 7, 6, 14]\n",
      "Sequence 5301 Actual: [7, 28, 22, 30] , Recommended: [7, 28, 23, 30]\n",
      "Sequence 5324 Actual: [22, 28, 23, 3] , Recommended: [22, 28, 7, 6, 11, 27, 3]\n",
      "Sequence 5325 Actual: [24, 15, 19] , Recommended: [24, 15, 19]\n",
      "Sequence 5328 Actual: [23, 22, 21] , Recommended: [23, 7, 28, 21]\n",
      "Sequence 5337 Actual: [22, 21, 3, 23, 28] , Recommended: [22, 6, 11, 27, 3, 21, 7, 28]\n",
      "Sequence 5343 Actual: [22, 30, 21] , Recommended: [22, 7, 28, 3, 21]\n",
      "Sequence 5539 Actual: [30, 7, 24, 16] , Recommended: [30, 7, 1, 8, 4, 16]\n",
      "Sequence 5648 Actual: [22, 28, 23] , Recommended: [22, 28, 23]\n",
      "Sequence 5747 Actual: [28, 21, 23] , Recommended: [28, 21, 23]\n",
      "Sequence 5927 Actual: [1, 30, 4] , Recommended: [1, 30, 4]\n",
      "Sequence 5947 Actual: [25, 29, 8] , Recommended: [25, 6, 3, 21, 22, 7, 1, 16, 4, 8]\n",
      "Sequence 5963 Actual: [21, 23, 28] , Recommended: [21, 23, 28]\n",
      "Sequence 6011 Actual: [22, 28, 21] , Recommended: [22, 28, 21]\n",
      "Sequence 6018 Actual: [28, 23, 21] , Recommended: [28, 30, 7, 21]\n"
     ]
    }
   ],
   "source": [
    "for seqid in sorted(train_seqs.keys()):\n",
    "    if not os.path.exists(solDir):\n",
    "        print('Directory for solution files', solDir, 'does not exist.')\n",
    "        break\n",
    "    seq = train_seqs[seqid]\n",
    "    solFile = os.path.join(solDir, str(seqid) + '.lp.sol')\n",
    "    recseq = load_solution_gurobi(solFile, seq[0], seq[-1])\n",
    "    train_seqs_rec[seqid] = recseq\n",
    "    print('Sequence', seqid, 'Actual:', seq, ', Recommended:', recseq)"
   ]
  },
  {
   "cell_type": "code",
   "execution_count": 593,
   "metadata": {
    "collapsed": true
   },
   "outputs": [],
   "source": [
    "recall = []\n",
    "precision = []\n",
    "F1score = []\n",
    "for seqid in train_seqs.keys():\n",
    "    r, p, F1 = calc_recall_precision_F1score(train_seqs[seqid], train_seqs_rec[seqid])\n",
    "    recall.append(r)\n",
    "    precision.append(p)\n",
    "    F1score.append(F1)"
   ]
  },
  {
   "cell_type": "code",
   "execution_count": 594,
   "metadata": {
    "collapsed": false
   },
   "outputs": [
    {
     "name": "stdout",
     "output_type": "stream",
     "text": [
      "Recall: 0.78 , 0.15\n",
      "Precision: 0.63 , 0.15\n",
      "F1-score: 0.68 , 0.15\n"
     ]
    }
   ],
   "source": [
    "print('Recall:', round(np.mean(recall), 2), ',', round(np.std(recall), 2))\n",
    "print('Precision:', round(np.mean(precision), 2), ',', round(np.std(recall), 2))\n",
    "print('F1-score:', round(np.mean(F1score), 2), ',', round(np.std(recall), 2))"
   ]
  },
  {
   "cell_type": "markdown",
   "metadata": {},
   "source": [
    "### 4.4.2 Evaluation on testing set"
   ]
  },
  {
   "cell_type": "markdown",
   "metadata": {},
   "source": [
    "Results from paper (Toronto data, time-based uesr interest, eta=0.5):  \n",
    " - Recall: 0.779&plusmn;0.10\n",
    " - Precision: 0.706&plusmn;0.013\n",
    " - F1-score: 0.732&plusmn;0.012"
   ]
  },
  {
   "cell_type": "code",
   "execution_count": 595,
   "metadata": {
    "collapsed": true
   },
   "outputs": [],
   "source": [
    "test_seqs_rec = dict()"
   ]
  },
  {
   "cell_type": "code",
   "execution_count": 596,
   "metadata": {
    "collapsed": true
   },
   "outputs": [],
   "source": [
    "solDirTest = os.path.join(data_dir, os.path.join('lp_' + suffix, 'eta05_time.test'))\n",
    "if not os.path.exists(solDirTest):\n",
    "    print('Directory for solution files', solDirTest, 'does not exist.')"
   ]
  },
  {
   "cell_type": "code",
   "execution_count": 597,
   "metadata": {
    "collapsed": false
   },
   "outputs": [
    {
     "name": "stdout",
     "output_type": "stream",
     "text": [
      "Sequence 58 Actual: [7, 11, 27] , Recommended: [7, 3, 27]\n",
      "Sequence 99 Actual: [3, 23, 27] , Recommended: [3, 21, 11, 27]\n",
      "Sequence 157 Actual: [27, 23, 11] , Recommended: [27, 23, 11]\n",
      "Sequence 315 Actual: [16, 4, 8] , Recommended: [16, 4, 8]\n",
      "Sequence 380 Actual: [30, 22, 28, 23] , Recommended: [30, 22, 28, 23]\n",
      "Sequence 453 Actual: [23, 28, 16] , Recommended: [23, 22, 16]\n",
      "Sequence 524 Actual: [25, 19, 15] , Recommended: [25, 23, 1, 24, 15]\n",
      "Sequence 623 Actual: [21, 23, 24] , Recommended: [21, 6, 22, 28, 7, 30, 8, 16, 24]\n",
      "Sequence 687 Actual: [7, 16, 4, 8] , Recommended: [7, 28, 23, 30, 8]\n",
      "Sequence 813 Actual: [8, 30, 28, 23] , Recommended: [8, 22, 21, 23]\n",
      "Sequence 1121 Actual: [16, 11, 13] , Recommended: [16, 22, 28, 23, 21, 29, 13]\n",
      "Sequence 1128 Actual: [10, 21, 28, 22] , Recommended: [10, 21, 23, 7, 22]\n",
      "Sequence 1247 Actual: [25, 16, 24] , Recommended: [25, 16, 24]\n",
      "Sequence 1424 Actual: [30, 23, 28] , Recommended: [30, 23, 28]\n",
      "Sequence 1523 Actual: [16, 23, 28, 22] , Recommended: [16, 4, 24, 1, 23, 21, 3, 22]\n",
      "Sequence 1592 Actual: [21, 23, 22, 28] , Recommended: [21, 23, 22, 28]\n",
      "Sequence 1835 Actual: [22, 8, 30] , Recommended: [22, 23, 28, 7, 30]\n",
      "Sequence 1875 Actual: [22, 28, 23] , Recommended: [22, 28, 23]\n",
      "Sequence 1931 Actual: [21, 23, 22] , Recommended: [21, 23, 22]\n",
      "Sequence 2198 Actual: [23, 21, 22] , Recommended: [23, 21, 22]\n",
      "Sequence 2209 Actual: [21, 16, 22] , Recommended: [21, 23, 28, 22]\n",
      "Sequence 2334 Actual: [21, 6, 7, 1] , Recommended: [21, 23, 28, 22, 16, 30, 1]\n",
      "Sequence 2472 Actual: [21, 23, 22, 28] , Recommended: [21, 3, 27, 11, 29, 6, 16, 4, 8, 24, 1, 30, 7, 23, 28]\n",
      "Sequence 2496 Actual: [30, 8, 7] , Recommended: [30, 8, 7]\n",
      "Sequence 2703 Actual: [24, 30, 7] , Recommended: [24, 30, 7]\n",
      "Sequence 3040 Actual: [23, 27, 21] , Recommended: [23, 28, 22, 30, 7, 21]\n",
      "Sequence 3403 Actual: [8, 16, 22] , Recommended: [8, 16, 22]\n",
      "Sequence 3851 Actual: [30, 24, 22] , Recommended: [30, 16, 28, 23, 22]\n",
      "Sequence 3935 Actual: [13, 4, 16] , Recommended: [13, 27, 11, 29, 25, 6, 22, 21, 23, 28, 7, 30, 24, 8, 16]\n",
      "Sequence 3969 Actual: [7, 11, 25] , Recommended: [7, 1, 30, 28, 23, 21, 22, 6, 25]\n",
      "Sequence 4354 Actual: [29, 21, 3, 30] , Recommended: [29, 3, 21, 23, 22, 30]\n",
      "Sequence 4450 Actual: [16, 8, 30, 11, 25] , Recommended: [16, 4, 17, 14, 2, 19, 15, 24, 1, 30, 7, 28, 22, 23, 21, 10, 3, 27, 11, 29, 25]\n",
      "Sequence 4578 Actual: [25, 6, 22, 21, 28] , Recommended: [25, 6, 16, 8, 7, 21, 23, 28]\n",
      "Sequence 4758 Actual: [21, 23, 6, 25, 27] , Recommended: [21, 23, 28, 22, 30, 1, 24, 16, 4, 14, 17, 2, 25, 29, 3, 27]\n",
      "Sequence 4783 Actual: [6, 13, 11] , Recommended: [6, 22, 30, 7, 28, 23, 21, 11]\n",
      "Sequence 4972 Actual: [28, 23, 21] , Recommended: [28, 23, 21]\n",
      "Sequence 5180 Actual: [22, 28, 23, 21] , Recommended: [22, 28, 7, 6, 3, 21]\n",
      "Sequence 5541 Actual: [30, 16, 4, 1, 7] , Recommended: [30, 22, 23, 7]\n",
      "Sequence 5649 Actual: [23, 22, 16] , Recommended: [23, 28, 8, 16]\n",
      "Sequence 5751 Actual: [14, 2, 17] , Recommended: [14, 2, 17]\n",
      "Sequence 5932 Actual: [22, 23, 21] , Recommended: [22, 23, 21]\n",
      "Sequence 5959 Actual: [28, 21, 30] , Recommended: [28, 22, 1, 30]\n",
      "Sequence 5964 Actual: [11, 29, 6, 22, 28, 7, 30, 1, 15] , Recommended: [11, 29, 21, 23, 28, 7, 30, 8, 24, 15]\n",
      "Sequence 6028 Actual: [23, 30, 22, 28, 3] , Recommended: [23, 7, 1, 30, 28, 21, 3]\n"
     ]
    }
   ],
   "source": [
    "for seqid in sorted(test_seqs.keys()):\n",
    "    if not os.path.exists(solDirTest):\n",
    "        print('Directory for solution files', solDirTest, 'does not exist.')\n",
    "        break\n",
    "    seq = test_seqs[seqid]\n",
    "    solFile = os.path.join(solDirTest, str(seqid) + '.lp.sol')\n",
    "    recseq = load_solution_gurobi(solFile, seq[0], seq[-1])\n",
    "    test_seqs_rec[seqid] = recseq\n",
    "    print('Sequence', seqid, 'Actual:', seq, ', Recommended:', recseq)"
   ]
  },
  {
   "cell_type": "code",
   "execution_count": 598,
   "metadata": {
    "collapsed": true
   },
   "outputs": [],
   "source": [
    "recallT = []\n",
    "precisionT = []\n",
    "F1scoreT = []\n",
    "for seqid in test_seqs.keys():\n",
    "    r, p, F1 = calc_recall_precision_F1score(test_seqs[seqid], test_seqs_rec[seqid])\n",
    "    recallT.append(r)\n",
    "    precisionT.append(p)\n",
    "    F1scoreT.append(F1)"
   ]
  },
  {
   "cell_type": "code",
   "execution_count": 599,
   "metadata": {
    "collapsed": false
   },
   "outputs": [
    {
     "name": "stdout",
     "output_type": "stream",
     "text": [
      "Recall: 0.79 , 0.18\n",
      "Precision: 0.62 , 0.18\n",
      "F1-score: 0.67 , 0.18\n"
     ]
    }
   ],
   "source": [
    "print('Recall:', round(np.mean(recallT), 2), ',', round(np.std(recallT), 2))\n",
    "print('Precision:', round(np.mean(precisionT), 2), ',', round(np.std(recallT), 2))\n",
    "print('F1-score:', round(np.mean(F1scoreT), 2), ',', round(np.std(recallT), 2))"
   ]
  },
  {
   "cell_type": "markdown",
   "metadata": {},
   "source": [
    "## 4.5 Issues [&#8648;](#toc)"
   ]
  },
  {
   "cell_type": "markdown",
   "metadata": {},
   "source": [
    "1. Possible inconsistency:\n",
    " - The paper stated *\"We evaluate PERSTOUR and the baselines using leave-one-out cross-validation [Kohavi,1995] (i.e., when evaluating a specific travel sequence of a user, we use this user's other travel sequences for training our algorithms\"*\n",
    " - I am not sure if this means when evaluate a travel sequence for a user,\n",
    "   - all other sequences of this user as well as all sequences of other users are used for training, or\n",
    "   - use leave-one-out for each user to construct a testing set (the approach in this notebook)\n",
    "   \n",
    "1. Large budget leads to unrealistic recommended trajectory.\n",
    "  - large budget mainly comes from user interest times the average POI visit duration, since user interest is cumulative (i.e. sum, as defined at the top of the notebook)\n",
    "  - we try to use averaging instead of cumulative (which seems more realistic, max budget 15 hours vs. max 170 hours).\n",
    "\n",
    "1. Is it necessary to consider visiting a certain POI more than one times? This paper ignores this setting.\n",
    "\n",
    "1. Dealing with edge case $\\bar{V}(p) = 0$\n",
    " \n",
    " It appears when POIs at which just one photo was taken for each visited user (including some user just took/uploaded two or more photos with the same timestamp), the case does appear in this [dataset](https://sites.google.com/site/limkwanhui/datacode#ijcai15).\n",
    "\n",
    " For all users $U$, POI $p$, arrival time $p^a$ and depature time $p^d$, The Average POI Visit Duration is defined as: \n",
    "$\\bar{V}(p) = \\frac{1}{n}\\sum_{u \\in U}\\sum_{p_x \\in S_u}(t_{p_x}^d - t_{p_x}^a)\\delta(p_x = p), \\forall p \\in P$\n",
    "\n",
    " and Time-based User Interest is defined as:\n",
    "$Int_u^Time(c) = \\sum_{p_x \\in S_u} \\frac{t_{p_x}^d - t_{p_x}^a}{\\bar{V}(p_x)} \\delta(Cat_{p_x} = c), \\forall c \\in C$\n",
    "\n",
    " Up to now, two strategies have been tried:\n",
    "  * let the term $\\frac{t_{p_x}^d - t_{p_x}^a}{\\bar{V}(p_x)} = K$, where $K$ is a constant (e.g. 2). This approach seems to work, but the effects of different constants should be tested\n",
    "  * discard all photo records in [dataset](https://sites.google.com/site/limkwanhui/datacode#ijcai15) related to the edge case. This approach suffers from throwing too much information, makes the useful dataset too small (at about 1% of the original dataset sometimes)\n",
    "\n",
    "1. [CBC](https://projects.coin-or.org/Cbc) is too slow for large sequences (length >= 4)\n",
    " * use [Gurobi](http://www.gurobi.com) on CECS servers"
   ]
  }
 ],
 "metadata": {
  "kernelspec": {
   "display_name": "Python 3",
   "language": "python",
   "name": "python3"
  },
  "language_info": {
   "codemirror_mode": {
    "name": "ipython",
    "version": 3
   },
   "file_extension": ".py",
   "mimetype": "text/x-python",
   "name": "python",
   "nbconvert_exporter": "python",
   "pygments_lexer": "ipython3",
   "version": "3.4.3"
  }
 },
 "nbformat": 4,
 "nbformat_minor": 0
}
