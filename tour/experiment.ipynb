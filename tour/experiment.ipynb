{
 "cells": [
  {
   "cell_type": "markdown",
   "metadata": {},
   "source": [
    "Methods and Experiments\n",
    "============="
   ]
  },
  {
   "cell_type": "markdown",
   "metadata": {},
   "source": [
    "1. [Experimental Setup](#sec1)\n",
    " 1. [Basic Definitions](#sec1.1)\n",
    "1. [Computation Steps](#sec2)\n",
    "1. [Compute Experimental Data](#sec3)\n",
    " 1. [Load Trajectory Data](#sec3.1)\n",
    " 1. [Compute POI Info](#sec3.2)\n",
    " 1. [Construct Travelling Sequences](#sec3.3)\n",
    " 1. [Choose Travelling Sequences for experiment](#sec3.4)\n",
    " 1. [Compute transition matrix using training set](#sec3.5)\n",
    " 1. [Compute POI popularity and user interest using training set](#sec3.6)\n",
    " 1. [Enumerate Trajectories with length {3, 4, 5}](#sec3.7)\n",
    " 1. [Compute Features (scores) for each enumerated sequence](#sec3.8)\n",
    "1. [Experiments with training set](#sec4)\n",
    " 1. [Experiment with random weights](#sec4.1)\n",
    " 1. [Experiment with single feature](#sec4.2)\n",
    " 1. [Search weights using coordinate-wise grid search](#sec4.3)\n",
    "1. [Apply search results to testing set](#sec5)"
   ]
  },
  {
   "cell_type": "markdown",
   "metadata": {},
   "source": [
    "<a id='sec1'></a>"
   ]
  },
  {
   "cell_type": "markdown",
   "metadata": {},
   "source": [
    "## 1. Experimental Setup"
   ]
  },
  {
   "cell_type": "markdown",
   "metadata": {},
   "source": [
    "Enumerate all trajectories for each user given the trajectory length (e.g. 3, 4, 5) and the (start, end) POIs.\n",
    "\n",
    "For each trajectory, compute a score based on the features below:\n",
    " * User Interest (time-based)\n",
    " * User Interest (frequency-based)\n",
    " * POI Popularity\n",
    " * Travelling Cost (distance/time) \n",
    " * Trajectory probability based on the transition probabilities between different POI categories and the following rules for choosing a specific POI within certain category:\n",
    "  * The Nearest Neighbor of the current POI\n",
    "  * The most Popular POI\n",
    "  * A random POI choosing with probability proportional to the reciprocal of its distance to current POI\n",
    "  * A random POI choosing with probability proportional to its popularity\n",
    "\n",
    "To avoid numerical underflow, use the log of of probabilities instead of the probabilities themselves, \n",
    "to avoid zero probabilities, add a smooth value $\\epsilon = 10^{-12}$ for each probability.\n",
    "\n",
    "Plot the scores of generated and actual trajectories for each (user, trajectoryLength, startPOI, endPOI) tuple with some degree of transparency (alpha).\n",
    "\n",
    "Recommend trajectory with the highest score and measure the performance of recommendation using recall, precision and F1-score.\n",
    "\n",
    "Optimise parameters in the score function by learning, in this specific case, the cost function could be based on recall, precision or F1-score, we can also control the estimation of transition matrix."
   ]
  },
  {
   "cell_type": "markdown",
   "metadata": {},
   "source": [
    "<a id='sec1.1'></a>"
   ]
  },
  {
   "cell_type": "markdown",
   "metadata": {},
   "source": [
    "### 1.1 Basic definitions"
   ]
  },
  {
   "cell_type": "markdown",
   "metadata": {},
   "source": [
    "For user $u$ and POI $p$, define\n",
    "\n",
    "* **Travel History**: \n",
    "\\begin{equation*}\n",
    "S_u = \\{(p_1, t_{p_1}^a, t_{p_1}^d), \\dots, (p_n, t_{p_n}^a, t_{p_n}^d)\\}\n",
    "\\end{equation*}\n",
    "where $t_{p_i}^a$ is the arrival time and $t_{p_i}^d$ the departure time of user $u$ at POI $p_i$\n",
    "\n",
    "* **Travel Sequences**: split $S_u$ if\n",
    "\\begin{equation*}\n",
    "|t_{p_i}^d - t_{p_{i+1}}^a| > \\tau ~(\\text{e.g.}~ \\tau = 8 ~\\text{hours})\n",
    "\\end{equation*}\n",
    "\n",
    "* **POI Popularity**:\n",
    "\\begin{equation*}\n",
    "Pop(p) = \\sum_{u \\in U} \\sum_{p_i \\in S_u} \\delta(p_i == p)\n",
    "\\end{equation*}\n",
    "\n",
    "* **Average POI Visit Duration**: \n",
    "\\begin{equation*}\n",
    "\\bar{V}(p) = \\frac{1}{N} \\sum_{u \\in U} \\sum_{p_i \\in S_u} (t_{p_i}^d - t_{p_i}^a) \\delta(p_i == p)\n",
    "\\end{equation*}\n",
    "where $N$ is \\#visits of POI $p$ by all users\n",
    "      \n",
    "Define the interest of user $u$ in POI category $c$ as\n",
    "\n",
    "* **Time based User Interest**:\n",
    "\\begin{equation*}\n",
    "Int^{Time}(u, c) = \\sum_{p_i \\in S_u} \\frac{(t_{p_i}^d - t_{p_i}^a)}{\\bar{V}(p_i)} \\delta(Cat_{p_i} == c)\n",
    "\\end{equation*}\n",
    "where $Cat_{p_i}$ is the category of POI $p_i$  \n",
    "we also tried this one\n",
    "\\begin{equation*}\n",
    "Int^{Time}(u, c) = \\frac{1}{n} \\sum_{p_i \\in S_u} \\frac{(t_{p_i}^d - t_{p_i}^a)}{\\bar{V}(p_i)} \\delta(Cat_{p_i} == c)\n",
    "\\end{equation*}\n",
    "where $n$ is the number of visit of category $c$ by user $u$ (i.e. the frequency base user interest defined below).\n",
    "\n",
    "\n",
    "* **Frequency based User Interest**:\n",
    "\\begin{equation*}\n",
    "Int^{Freq}(u, c) = \\sum_{p_i \\in S_u} \\delta(Cat_{p_i} == c)\n",
    "\\end{equation*}"
   ]
  },
  {
   "cell_type": "markdown",
   "metadata": {},
   "source": [
    "<a id='sec2'></a>"
   ]
  },
  {
   "cell_type": "markdown",
   "metadata": {},
   "source": [
    "## 2. Computation Steps"
   ]
  },
  {
   "cell_type": "markdown",
   "metadata": {},
   "source": [
    "1. Split actual trajectories input two parts, one for training, the other for testing.  \n",
    "   Concretely, For each user, consider all the trajectories with length `3`, `4` and `5`, pick one for testing set and put all others into training set.\n",
    "   \n",
    "1. Use trajectories in training set to compute (MLE) a transition matrix where element `[i, j]` denotes the transition probability from POI category `i` to POI category `j`.\n",
    "\n",
    "1. For each trajectory $T$ in training set, enumerate all possible trajectories that satisfy the following requirements:\n",
    " * The trajectory length is the same as that of $T$\n",
    " * The start/end POI are the same as those of $T$\n",
    " * No sub-tour exists\n",
    " \n",
    "1. Compute the `8` scores [described above](#sec1) as features, rescale each score into range `[-1, 1]`, compute the weighted sum of these score to get a single score.  \n",
    "~~(weights are normalised so that they are in range `[0, 1]` and their sum is `1`)~~  \n",
    "(*the values in parameter/weight vector are now drawn from range `[-1, 1]`, and the sum now doesn't necessarily to be 1.*)\n",
    " \n",
    "1. Choose the trajectory with the highest score $T^*$ and compute F1 score as follows:  \n",
    " * recall = $\\frac{|T^* \\cap T|}{|T|}$  \n",
    " * precision = $\\frac{|T^* \\cap T|}{T^*}$  \n",
    " * F1-score = $\\frac{2 \\times \\text{recall} \\times \\text{precision}}{\\text{recall} + \\text{precision}}$\n",
    " \n",
    "1. Compute the mean F1 score for all trajectory $T$ in the training set.\n",
    "\n",
    "1. Use coordinate-wise grid search to find an good weight vector such that the mean F1 score is as large as possible."
   ]
  },
  {
   "cell_type": "markdown",
   "metadata": {},
   "source": [
    "<a id='sec3'></a>"
   ]
  },
  {
   "cell_type": "markdown",
   "metadata": {},
   "source": [
    "## 3. Compute Experimental Data"
   ]
  },
  {
   "cell_type": "markdown",
   "metadata": {},
   "source": [
    "**NOTE: Before running this notebook, please run script `src/ijcai15_setup.py` to setup data properly.**"
   ]
  },
  {
   "cell_type": "markdown",
   "metadata": {},
   "source": [
    "<a id='sec3.1'></a>"
   ]
  },
  {
   "cell_type": "markdown",
   "metadata": {},
   "source": [
    "### 3.1 Load Trajectory Data"
   ]
  },
  {
   "cell_type": "code",
   "execution_count": 229,
   "metadata": {
    "collapsed": true
   },
   "outputs": [],
   "source": [
    "%matplotlib inline\n",
    "\n",
    "import os\n",
    "import math\n",
    "import random\n",
    "import pickle\n",
    "import pandas as pd\n",
    "import numpy as np\n",
    "import numpy.matlib\n",
    "from datetime import datetime\n",
    "from joblib import Parallel, delayed\n",
    "import matplotlib.pyplot as plt"
   ]
  },
  {
   "cell_type": "code",
   "execution_count": 230,
   "metadata": {
    "collapsed": true
   },
   "outputs": [],
   "source": [
    "nfeatures = 8 # number of features\n",
    "EPS = 1e-12 # smooth, deal with 0 probability\n",
    "random.seed(123456789) # control random choice when splitting training/testing set"
   ]
  },
  {
   "cell_type": "code",
   "execution_count": 231,
   "metadata": {
    "collapsed": true
   },
   "outputs": [],
   "source": [
    "data_dir = 'data/data-ijcai15'\n",
    "#fvisit = os.path.join(data_dir, 'userVisits-Osak.csv')\n",
    "#fcoord = os.path.join(data_dir, 'photoCoords-Osak.csv')\n",
    "#fvisit = os.path.join(data_dir, 'userVisits-Glas.csv')\n",
    "#fcoord = os.path.join(data_dir, 'photoCoords-Glas.csv')\n",
    "#fvisit = os.path.join(data_dir, 'userVisits-Edin.csv')\n",
    "#fcoord = os.path.join(data_dir, 'photoCoords-Edin.csv')\n",
    "fvisit = os.path.join(data_dir, 'userVisits-Toro.csv')\n",
    "fcoord = os.path.join(data_dir, 'photoCoords-Toro.csv')"
   ]
  },
  {
   "cell_type": "code",
   "execution_count": 232,
   "metadata": {
    "collapsed": true
   },
   "outputs": [],
   "source": [
    "suffix = fvisit.split('-')[-1].split('.')[0]"
   ]
  },
  {
   "cell_type": "code",
   "execution_count": 233,
   "metadata": {
    "collapsed": true
   },
   "outputs": [],
   "source": [
    "fpoi = os.path.join(data_dir, 'poi-' + suffix + '.csv')  \n",
    "fseq = os.path.join(data_dir, 'seq-' + suffix + '.csv')\n",
    "ftrain = os.path.join(data_dir, 'trainset-' + suffix + '.pkl')\n",
    "ftest  = os.path.join(data_dir, 'testset-' + suffix + '.pkl')\n",
    "ffeatures_train = os.path.join(data_dir, 'featuresTrain-' + suffix + '.pkl')\n",
    "ffeatures_test  = os.path.join(data_dir, 'featuresTest-' + suffix + '.pkl')"
   ]
  },
  {
   "cell_type": "code",
   "execution_count": 234,
   "metadata": {
    "collapsed": false
   },
   "outputs": [
    {
     "data": {
      "text/html": [
       "<div>\n",
       "<table border=\"1\" class=\"dataframe\">\n",
       "  <thead>\n",
       "    <tr style=\"text-align: right;\">\n",
       "      <th></th>\n",
       "      <th>photoID</th>\n",
       "      <th>userID</th>\n",
       "      <th>dateTaken</th>\n",
       "      <th>poiID</th>\n",
       "      <th>poiTheme</th>\n",
       "      <th>poiFreq</th>\n",
       "      <th>seqID</th>\n",
       "    </tr>\n",
       "  </thead>\n",
       "  <tbody>\n",
       "    <tr>\n",
       "      <th>0</th>\n",
       "      <td>7941504100</td>\n",
       "      <td>10007579@N00</td>\n",
       "      <td>1346844688</td>\n",
       "      <td>30</td>\n",
       "      <td>Structure</td>\n",
       "      <td>1538</td>\n",
       "      <td>1</td>\n",
       "    </tr>\n",
       "    <tr>\n",
       "      <th>1</th>\n",
       "      <td>4886005532</td>\n",
       "      <td>10012675@N05</td>\n",
       "      <td>1142731848</td>\n",
       "      <td>6</td>\n",
       "      <td>Cultural</td>\n",
       "      <td>986</td>\n",
       "      <td>2</td>\n",
       "    </tr>\n",
       "    <tr>\n",
       "      <th>2</th>\n",
       "      <td>4886006468</td>\n",
       "      <td>10012675@N05</td>\n",
       "      <td>1142732248</td>\n",
       "      <td>6</td>\n",
       "      <td>Cultural</td>\n",
       "      <td>986</td>\n",
       "      <td>2</td>\n",
       "    </tr>\n",
       "    <tr>\n",
       "      <th>3</th>\n",
       "      <td>4885404441</td>\n",
       "      <td>10012675@N05</td>\n",
       "      <td>1142732373</td>\n",
       "      <td>6</td>\n",
       "      <td>Cultural</td>\n",
       "      <td>986</td>\n",
       "      <td>2</td>\n",
       "    </tr>\n",
       "    <tr>\n",
       "      <th>4</th>\n",
       "      <td>4886008334</td>\n",
       "      <td>10012675@N05</td>\n",
       "      <td>1142732445</td>\n",
       "      <td>6</td>\n",
       "      <td>Cultural</td>\n",
       "      <td>986</td>\n",
       "      <td>2</td>\n",
       "    </tr>\n",
       "  </tbody>\n",
       "</table>\n",
       "</div>"
      ],
      "text/plain": [
       "      photoID        userID   dateTaken  poiID   poiTheme  poiFreq  seqID\n",
       "0  7941504100  10007579@N00  1346844688     30  Structure     1538      1\n",
       "1  4886005532  10012675@N05  1142731848      6   Cultural      986      2\n",
       "2  4886006468  10012675@N05  1142732248      6   Cultural      986      2\n",
       "3  4885404441  10012675@N05  1142732373      6   Cultural      986      2\n",
       "4  4886008334  10012675@N05  1142732445      6   Cultural      986      2"
      ]
     },
     "execution_count": 234,
     "metadata": {},
     "output_type": "execute_result"
    }
   ],
   "source": [
    "visits = pd.read_csv(fvisit, sep=';')\n",
    "visits.head()"
   ]
  },
  {
   "cell_type": "code",
   "execution_count": 235,
   "metadata": {
    "collapsed": false
   },
   "outputs": [
    {
     "data": {
      "text/html": [
       "<div>\n",
       "<table border=\"1\" class=\"dataframe\">\n",
       "  <thead>\n",
       "    <tr style=\"text-align: right;\">\n",
       "      <th></th>\n",
       "      <th>photoID</th>\n",
       "      <th>photoLon</th>\n",
       "      <th>photoLat</th>\n",
       "    </tr>\n",
       "  </thead>\n",
       "  <tbody>\n",
       "    <tr>\n",
       "      <th>0</th>\n",
       "      <td>7941504100</td>\n",
       "      <td>-79.380844</td>\n",
       "      <td>43.645641</td>\n",
       "    </tr>\n",
       "    <tr>\n",
       "      <th>1</th>\n",
       "      <td>4886005532</td>\n",
       "      <td>-79.391525</td>\n",
       "      <td>43.654335</td>\n",
       "    </tr>\n",
       "    <tr>\n",
       "      <th>2</th>\n",
       "      <td>4886006468</td>\n",
       "      <td>-79.391525</td>\n",
       "      <td>43.654335</td>\n",
       "    </tr>\n",
       "    <tr>\n",
       "      <th>3</th>\n",
       "      <td>4885404441</td>\n",
       "      <td>-79.391525</td>\n",
       "      <td>43.654335</td>\n",
       "    </tr>\n",
       "    <tr>\n",
       "      <th>4</th>\n",
       "      <td>4886008334</td>\n",
       "      <td>-79.391525</td>\n",
       "      <td>43.654335</td>\n",
       "    </tr>\n",
       "  </tbody>\n",
       "</table>\n",
       "</div>"
      ],
      "text/plain": [
       "      photoID   photoLon   photoLat\n",
       "0  7941504100 -79.380844  43.645641\n",
       "1  4886005532 -79.391525  43.654335\n",
       "2  4886006468 -79.391525  43.654335\n",
       "3  4885404441 -79.391525  43.654335\n",
       "4  4886008334 -79.391525  43.654335"
      ]
     },
     "execution_count": 235,
     "metadata": {},
     "output_type": "execute_result"
    }
   ],
   "source": [
    "coords = pd.read_csv(fcoord, sep=';')\n",
    "coords.head()"
   ]
  },
  {
   "cell_type": "code",
   "execution_count": 236,
   "metadata": {
    "collapsed": false
   },
   "outputs": [
    {
     "data": {
      "text/html": [
       "<div>\n",
       "<table border=\"1\" class=\"dataframe\">\n",
       "  <thead>\n",
       "    <tr style=\"text-align: right;\">\n",
       "      <th></th>\n",
       "      <th>photoID</th>\n",
       "      <th>userID</th>\n",
       "      <th>dateTaken</th>\n",
       "      <th>poiID</th>\n",
       "      <th>poiTheme</th>\n",
       "      <th>poiFreq</th>\n",
       "      <th>seqID</th>\n",
       "      <th>photoLon</th>\n",
       "      <th>photoLat</th>\n",
       "    </tr>\n",
       "  </thead>\n",
       "  <tbody>\n",
       "    <tr>\n",
       "      <th>0</th>\n",
       "      <td>7941504100</td>\n",
       "      <td>10007579@N00</td>\n",
       "      <td>1346844688</td>\n",
       "      <td>30</td>\n",
       "      <td>Structure</td>\n",
       "      <td>1538</td>\n",
       "      <td>1</td>\n",
       "      <td>-79.380844</td>\n",
       "      <td>43.645641</td>\n",
       "    </tr>\n",
       "    <tr>\n",
       "      <th>1</th>\n",
       "      <td>4886005532</td>\n",
       "      <td>10012675@N05</td>\n",
       "      <td>1142731848</td>\n",
       "      <td>6</td>\n",
       "      <td>Cultural</td>\n",
       "      <td>986</td>\n",
       "      <td>2</td>\n",
       "      <td>-79.391525</td>\n",
       "      <td>43.654335</td>\n",
       "    </tr>\n",
       "    <tr>\n",
       "      <th>2</th>\n",
       "      <td>4886006468</td>\n",
       "      <td>10012675@N05</td>\n",
       "      <td>1142732248</td>\n",
       "      <td>6</td>\n",
       "      <td>Cultural</td>\n",
       "      <td>986</td>\n",
       "      <td>2</td>\n",
       "      <td>-79.391525</td>\n",
       "      <td>43.654335</td>\n",
       "    </tr>\n",
       "    <tr>\n",
       "      <th>3</th>\n",
       "      <td>4885404441</td>\n",
       "      <td>10012675@N05</td>\n",
       "      <td>1142732373</td>\n",
       "      <td>6</td>\n",
       "      <td>Cultural</td>\n",
       "      <td>986</td>\n",
       "      <td>2</td>\n",
       "      <td>-79.391525</td>\n",
       "      <td>43.654335</td>\n",
       "    </tr>\n",
       "    <tr>\n",
       "      <th>4</th>\n",
       "      <td>4886008334</td>\n",
       "      <td>10012675@N05</td>\n",
       "      <td>1142732445</td>\n",
       "      <td>6</td>\n",
       "      <td>Cultural</td>\n",
       "      <td>986</td>\n",
       "      <td>2</td>\n",
       "      <td>-79.391525</td>\n",
       "      <td>43.654335</td>\n",
       "    </tr>\n",
       "  </tbody>\n",
       "</table>\n",
       "</div>"
      ],
      "text/plain": [
       "      photoID        userID   dateTaken  poiID   poiTheme  poiFreq  seqID  \\\n",
       "0  7941504100  10007579@N00  1346844688     30  Structure     1538      1   \n",
       "1  4886005532  10012675@N05  1142731848      6   Cultural      986      2   \n",
       "2  4886006468  10012675@N05  1142732248      6   Cultural      986      2   \n",
       "3  4885404441  10012675@N05  1142732373      6   Cultural      986      2   \n",
       "4  4886008334  10012675@N05  1142732445      6   Cultural      986      2   \n",
       "\n",
       "    photoLon   photoLat  \n",
       "0 -79.380844  43.645641  \n",
       "1 -79.391525  43.654335  \n",
       "2 -79.391525  43.654335  \n",
       "3 -79.391525  43.654335  \n",
       "4 -79.391525  43.654335  "
      ]
     },
     "execution_count": 236,
     "metadata": {},
     "output_type": "execute_result"
    }
   ],
   "source": [
    "# merge data frames according to column 'photoID'\n",
    "assert(visits.shape[0] == coords.shape[0])\n",
    "traj = pd.merge(visits, coords, on='photoID')\n",
    "traj.head()"
   ]
  },
  {
   "cell_type": "code",
   "execution_count": 237,
   "metadata": {
    "collapsed": false
   },
   "outputs": [
    {
     "data": {
      "text/html": [
       "<div>\n",
       "<table border=\"1\" class=\"dataframe\">\n",
       "  <thead>\n",
       "    <tr style=\"text-align: right;\">\n",
       "      <th></th>\n",
       "      <th>photoLon</th>\n",
       "      <th>photoLat</th>\n",
       "    </tr>\n",
       "  </thead>\n",
       "  <tbody>\n",
       "    <tr>\n",
       "      <th>min</th>\n",
       "      <td>-79.465088</td>\n",
       "      <td>43.618523</td>\n",
       "    </tr>\n",
       "    <tr>\n",
       "      <th>max</th>\n",
       "      <td>-79.180336</td>\n",
       "      <td>43.822018</td>\n",
       "    </tr>\n",
       "    <tr>\n",
       "      <th>range</th>\n",
       "      <td>0.284752</td>\n",
       "      <td>0.203495</td>\n",
       "    </tr>\n",
       "  </tbody>\n",
       "</table>\n",
       "</div>"
      ],
      "text/plain": [
       "        photoLon   photoLat\n",
       "min   -79.465088  43.618523\n",
       "max   -79.180336  43.822018\n",
       "range   0.284752   0.203495"
      ]
     },
     "execution_count": 237,
     "metadata": {},
     "output_type": "execute_result"
    }
   ],
   "source": [
    "pd.DataFrame([traj[['photoLon', 'photoLat']].min(), traj[['photoLon', 'photoLat']].max(), \\\n",
    "             traj[['photoLon', 'photoLat']].max() - traj[['photoLon', 'photoLat']].min()], \\\n",
    "             index = ['min', 'max', 'range'])"
   ]
  },
  {
   "cell_type": "code",
   "execution_count": 238,
   "metadata": {
    "collapsed": false
   },
   "outputs": [
    {
     "data": {
      "text/plain": [
       "<matplotlib.collections.PathCollection at 0x7fda7e294c88>"
      ]
     },
     "execution_count": 238,
     "metadata": {},
     "output_type": "execute_result"
    },
    {
     "data": {
      "image/png": "[encoded data removed]",
      "text/plain": [
       "<matplotlib.figure.Figure at 0x7fda6c6a2390>"
      ]
     },
     "metadata": {},
     "output_type": "display_data"
    }
   ],
   "source": [
    "plt.figure(figsize=[15, 5])\n",
    "plt.xlabel('Longitude')\n",
    "plt.ylabel('Latitude')\n",
    "plt.scatter(traj['photoLon'], traj['photoLat'], marker='+')"
   ]
  },
  {
   "cell_type": "code",
   "execution_count": 239,
   "metadata": {
    "collapsed": false
   },
   "outputs": [
    {
     "data": {
      "text/html": [
       "<div>\n",
       "<table border=\"1\" class=\"dataframe\">\n",
       "  <thead>\n",
       "    <tr style=\"text-align: right;\">\n",
       "      <th></th>\n",
       "      <th>Toro</th>\n",
       "    </tr>\n",
       "  </thead>\n",
       "  <tbody>\n",
       "    <tr>\n",
       "      <th>#photo</th>\n",
       "      <td>39419.000000</td>\n",
       "    </tr>\n",
       "    <tr>\n",
       "      <th>#user</th>\n",
       "      <td>1395.000000</td>\n",
       "    </tr>\n",
       "    <tr>\n",
       "      <th>#poi</th>\n",
       "      <td>29.000000</td>\n",
       "    </tr>\n",
       "    <tr>\n",
       "      <th>#seq</th>\n",
       "      <td>6057.000000</td>\n",
       "    </tr>\n",
       "    <tr>\n",
       "      <th>#photo/user</th>\n",
       "      <td>28.257348</td>\n",
       "    </tr>\n",
       "    <tr>\n",
       "      <th>#seq/user</th>\n",
       "      <td>4.341935</td>\n",
       "    </tr>\n",
       "  </tbody>\n",
       "</table>\n",
       "</div>"
      ],
      "text/plain": [
       "                     Toro\n",
       "#photo       39419.000000\n",
       "#user         1395.000000\n",
       "#poi            29.000000\n",
       "#seq          6057.000000\n",
       "#photo/user     28.257348\n",
       "#seq/user        4.341935"
      ]
     },
     "execution_count": 239,
     "metadata": {},
     "output_type": "execute_result"
    }
   ],
   "source": [
    "num_photo = traj['photoID'].unique().shape[0]\n",
    "num_user = traj['userID'].unique().shape[0]\n",
    "num_poi = traj['poiID'].unique().shape[0]\n",
    "num_seq = traj['seqID'].unique().shape[0]\n",
    "pd.DataFrame([num_photo, num_user, num_poi, num_seq, num_photo/num_user, num_seq/num_user], \\\n",
    "             index = ['#photo', '#user', '#poi', '#seq', '#photo/user', '#seq/user'], columns=[str(suffix)])"
   ]
  },
  {
   "cell_type": "markdown",
   "metadata": {},
   "source": [
    "<a id='sec3.2'></a>"
   ]
  },
  {
   "cell_type": "markdown",
   "metadata": {},
   "source": [
    "### 3.2 Compute POI Info"
   ]
  },
  {
   "cell_type": "markdown",
   "metadata": {},
   "source": [
    "Compute POI (Longitude, Latitude) as the average coordinates of the assigned photos."
   ]
  },
  {
   "cell_type": "code",
   "execution_count": 240,
   "metadata": {
    "collapsed": false
   },
   "outputs": [],
   "source": [
    "poi_coords = traj[['poiID', 'photoLon', 'photoLat']].groupby('poiID').mean()\n",
    "poi_coords.reset_index(inplace=True)\n",
    "poi_coords.rename(columns={'photoLon':'poiLon', 'photoLat':'poiLat'}, inplace=True)\n",
    "#poi_coords"
   ]
  },
  {
   "cell_type": "markdown",
   "metadata": {},
   "source": [
    "Extract POI category and visiting frequency."
   ]
  },
  {
   "cell_type": "code",
   "execution_count": 241,
   "metadata": {
    "collapsed": false
   },
   "outputs": [],
   "source": [
    "poi_catfreq = traj[['poiID', 'poiTheme', 'poiFreq']].groupby('poiID').first()\n",
    "poi_catfreq.reset_index(inplace=True)\n",
    "#poi_catfreq"
   ]
  },
  {
   "cell_type": "code",
   "execution_count": 242,
   "metadata": {
    "collapsed": false
   },
   "outputs": [],
   "source": [
    "poi_all = pd.merge(poi_catfreq, poi_coords, on='poiID')\n",
    "poi_all.set_index('poiID', inplace=True)\n",
    "#poi_all"
   ]
  },
  {
   "cell_type": "markdown",
   "metadata": {},
   "source": [
    "Save POI info to file."
   ]
  },
  {
   "cell_type": "code",
   "execution_count": 243,
   "metadata": {
    "collapsed": false
   },
   "outputs": [],
   "source": [
    "poi_all.to_csv(fpoi, index=True)\n",
    "#poi_all2 = pd.read_csv(fpoi, index_col=0)\n",
    "#poi_all2"
   ]
  },
  {
   "cell_type": "markdown",
   "metadata": {},
   "source": [
    "<a id='sec3.3'></a>"
   ]
  },
  {
   "cell_type": "markdown",
   "metadata": {},
   "source": [
    "### 3.3 Construct Travelling Sequences"
   ]
  },
  {
   "cell_type": "code",
   "execution_count": 244,
   "metadata": {
    "collapsed": false
   },
   "outputs": [],
   "source": [
    "seq_all = traj[['userID', 'seqID', 'poiID', 'dateTaken']].copy()\\\n",
    "          .groupby(['userID', 'seqID', 'poiID']).agg([np.min, np.max])\n",
    "#seq_all.head()"
   ]
  },
  {
   "cell_type": "code",
   "execution_count": 245,
   "metadata": {
    "collapsed": false
   },
   "outputs": [
    {
     "data": {
      "text/html": [
       "<div>\n",
       "<table border=\"1\" class=\"dataframe\">\n",
       "  <thead>\n",
       "    <tr style=\"text-align: right;\">\n",
       "      <th></th>\n",
       "      <th></th>\n",
       "      <th></th>\n",
       "      <th>amin</th>\n",
       "      <th>amax</th>\n",
       "    </tr>\n",
       "    <tr>\n",
       "      <th>userID</th>\n",
       "      <th>seqID</th>\n",
       "      <th>poiID</th>\n",
       "      <th></th>\n",
       "      <th></th>\n",
       "    </tr>\n",
       "  </thead>\n",
       "  <tbody>\n",
       "    <tr>\n",
       "      <th>10007579@N00</th>\n",
       "      <th>1</th>\n",
       "      <th>30</th>\n",
       "      <td>1346844688</td>\n",
       "      <td>1346844688</td>\n",
       "    </tr>\n",
       "    <tr>\n",
       "      <th rowspan=\"3\" valign=\"top\">10012675@N05</th>\n",
       "      <th>2</th>\n",
       "      <th>6</th>\n",
       "      <td>1142731848</td>\n",
       "      <td>1142732445</td>\n",
       "    </tr>\n",
       "    <tr>\n",
       "      <th>3</th>\n",
       "      <th>6</th>\n",
       "      <td>1142916492</td>\n",
       "      <td>1142916492</td>\n",
       "    </tr>\n",
       "    <tr>\n",
       "      <th>4</th>\n",
       "      <th>13</th>\n",
       "      <td>1319327174</td>\n",
       "      <td>1319332848</td>\n",
       "    </tr>\n",
       "    <tr>\n",
       "      <th>10014440@N06</th>\n",
       "      <th>5</th>\n",
       "      <th>24</th>\n",
       "      <td>1196128621</td>\n",
       "      <td>1196128878</td>\n",
       "    </tr>\n",
       "  </tbody>\n",
       "</table>\n",
       "</div>"
      ],
      "text/plain": [
       "                                amin        amax\n",
       "userID       seqID poiID                        \n",
       "10007579@N00 1     30     1346844688  1346844688\n",
       "10012675@N05 2     6      1142731848  1142732445\n",
       "             3     6      1142916492  1142916492\n",
       "             4     13     1319327174  1319332848\n",
       "10014440@N06 5     24     1196128621  1196128878"
      ]
     },
     "execution_count": 245,
     "metadata": {},
     "output_type": "execute_result"
    }
   ],
   "source": [
    "seq_all.columns = seq_all.columns.droplevel()\n",
    "seq_all.head()"
   ]
  },
  {
   "cell_type": "code",
   "execution_count": 246,
   "metadata": {
    "collapsed": false
   },
   "outputs": [
    {
     "data": {
      "text/html": [
       "<div>\n",
       "<table border=\"1\" class=\"dataframe\">\n",
       "  <thead>\n",
       "    <tr style=\"text-align: right;\">\n",
       "      <th></th>\n",
       "      <th>userID</th>\n",
       "      <th>seqID</th>\n",
       "      <th>poiID</th>\n",
       "      <th>amin</th>\n",
       "      <th>amax</th>\n",
       "    </tr>\n",
       "  </thead>\n",
       "  <tbody>\n",
       "    <tr>\n",
       "      <th>0</th>\n",
       "      <td>10007579@N00</td>\n",
       "      <td>1</td>\n",
       "      <td>30</td>\n",
       "      <td>1346844688</td>\n",
       "      <td>1346844688</td>\n",
       "    </tr>\n",
       "    <tr>\n",
       "      <th>1</th>\n",
       "      <td>10012675@N05</td>\n",
       "      <td>2</td>\n",
       "      <td>6</td>\n",
       "      <td>1142731848</td>\n",
       "      <td>1142732445</td>\n",
       "    </tr>\n",
       "    <tr>\n",
       "      <th>2</th>\n",
       "      <td>10012675@N05</td>\n",
       "      <td>3</td>\n",
       "      <td>6</td>\n",
       "      <td>1142916492</td>\n",
       "      <td>1142916492</td>\n",
       "    </tr>\n",
       "    <tr>\n",
       "      <th>3</th>\n",
       "      <td>10012675@N05</td>\n",
       "      <td>4</td>\n",
       "      <td>13</td>\n",
       "      <td>1319327174</td>\n",
       "      <td>1319332848</td>\n",
       "    </tr>\n",
       "    <tr>\n",
       "      <th>4</th>\n",
       "      <td>10014440@N06</td>\n",
       "      <td>5</td>\n",
       "      <td>24</td>\n",
       "      <td>1196128621</td>\n",
       "      <td>1196128878</td>\n",
       "    </tr>\n",
       "  </tbody>\n",
       "</table>\n",
       "</div>"
      ],
      "text/plain": [
       "         userID  seqID  poiID        amin        amax\n",
       "0  10007579@N00      1     30  1346844688  1346844688\n",
       "1  10012675@N05      2      6  1142731848  1142732445\n",
       "2  10012675@N05      3      6  1142916492  1142916492\n",
       "3  10012675@N05      4     13  1319327174  1319332848\n",
       "4  10014440@N06      5     24  1196128621  1196128878"
      ]
     },
     "execution_count": 246,
     "metadata": {},
     "output_type": "execute_result"
    }
   ],
   "source": [
    "seq_all.reset_index(inplace=True)\n",
    "seq_all.head()"
   ]
  },
  {
   "cell_type": "code",
   "execution_count": 247,
   "metadata": {
    "collapsed": false
   },
   "outputs": [
    {
     "data": {
      "text/html": [
       "<div>\n",
       "<table border=\"1\" class=\"dataframe\">\n",
       "  <thead>\n",
       "    <tr style=\"text-align: right;\">\n",
       "      <th></th>\n",
       "      <th>userID</th>\n",
       "      <th>seqID</th>\n",
       "      <th>poiID</th>\n",
       "      <th>arrivalTime</th>\n",
       "      <th>departureTime</th>\n",
       "      <th>poiDuration(sec)</th>\n",
       "    </tr>\n",
       "  </thead>\n",
       "  <tbody>\n",
       "    <tr>\n",
       "      <th>0</th>\n",
       "      <td>10007579@N00</td>\n",
       "      <td>1</td>\n",
       "      <td>30</td>\n",
       "      <td>1346844688</td>\n",
       "      <td>1346844688</td>\n",
       "      <td>0</td>\n",
       "    </tr>\n",
       "    <tr>\n",
       "      <th>1</th>\n",
       "      <td>10012675@N05</td>\n",
       "      <td>2</td>\n",
       "      <td>6</td>\n",
       "      <td>1142731848</td>\n",
       "      <td>1142732445</td>\n",
       "      <td>597</td>\n",
       "    </tr>\n",
       "    <tr>\n",
       "      <th>2</th>\n",
       "      <td>10012675@N05</td>\n",
       "      <td>3</td>\n",
       "      <td>6</td>\n",
       "      <td>1142916492</td>\n",
       "      <td>1142916492</td>\n",
       "      <td>0</td>\n",
       "    </tr>\n",
       "    <tr>\n",
       "      <th>3</th>\n",
       "      <td>10012675@N05</td>\n",
       "      <td>4</td>\n",
       "      <td>13</td>\n",
       "      <td>1319327174</td>\n",
       "      <td>1319332848</td>\n",
       "      <td>5674</td>\n",
       "    </tr>\n",
       "    <tr>\n",
       "      <th>4</th>\n",
       "      <td>10014440@N06</td>\n",
       "      <td>5</td>\n",
       "      <td>24</td>\n",
       "      <td>1196128621</td>\n",
       "      <td>1196128878</td>\n",
       "      <td>257</td>\n",
       "    </tr>\n",
       "  </tbody>\n",
       "</table>\n",
       "</div>"
      ],
      "text/plain": [
       "         userID  seqID  poiID  arrivalTime  departureTime  poiDuration(sec)\n",
       "0  10007579@N00      1     30   1346844688     1346844688                 0\n",
       "1  10012675@N05      2      6   1142731848     1142732445               597\n",
       "2  10012675@N05      3      6   1142916492     1142916492                 0\n",
       "3  10012675@N05      4     13   1319327174     1319332848              5674\n",
       "4  10014440@N06      5     24   1196128621     1196128878               257"
      ]
     },
     "execution_count": 247,
     "metadata": {},
     "output_type": "execute_result"
    }
   ],
   "source": [
    "seq_all.rename(columns={'amin':'arrivalTime', 'amax':'departureTime'}, inplace=True)\n",
    "seq_all['poiDuration(sec)'] = seq_all['departureTime'] - seq_all['arrivalTime']\n",
    "#print('Found %d sequences' % len(seq_all))\n",
    "#pickle.dump(seq_all, open('all_trajectories.pkl', 'bw'))\n",
    "seq_all.head()"
   ]
  },
  {
   "cell_type": "markdown",
   "metadata": {},
   "source": [
    "Save travelling sequences to file."
   ]
  },
  {
   "cell_type": "code",
   "execution_count": 248,
   "metadata": {
    "collapsed": false
   },
   "outputs": [],
   "source": [
    "seq_all.to_csv(fseq, index=False)\n",
    "#seq_all2 = pd.read_csv(fseq)\n",
    "#seq_all2.head()"
   ]
  },
  {
   "cell_type": "code",
   "execution_count": 249,
   "metadata": {
    "collapsed": false
   },
   "outputs": [
    {
     "data": {
      "text/html": [
       "<div>\n",
       "<table border=\"1\" class=\"dataframe\">\n",
       "  <thead>\n",
       "    <tr style=\"text-align: right;\">\n",
       "      <th></th>\n",
       "      <th>userID</th>\n",
       "    </tr>\n",
       "    <tr>\n",
       "      <th>seqID</th>\n",
       "      <th></th>\n",
       "    </tr>\n",
       "  </thead>\n",
       "  <tbody>\n",
       "    <tr>\n",
       "      <th>1</th>\n",
       "      <td>10007579@N00</td>\n",
       "    </tr>\n",
       "    <tr>\n",
       "      <th>2</th>\n",
       "      <td>10012675@N05</td>\n",
       "    </tr>\n",
       "    <tr>\n",
       "      <th>3</th>\n",
       "      <td>10012675@N05</td>\n",
       "    </tr>\n",
       "    <tr>\n",
       "      <th>4</th>\n",
       "      <td>10012675@N05</td>\n",
       "    </tr>\n",
       "    <tr>\n",
       "      <th>5</th>\n",
       "      <td>10014440@N06</td>\n",
       "    </tr>\n",
       "  </tbody>\n",
       "</table>\n",
       "</div>"
      ],
      "text/plain": [
       "             userID\n",
       "seqID              \n",
       "1      10007579@N00\n",
       "2      10012675@N05\n",
       "3      10012675@N05\n",
       "4      10012675@N05\n",
       "5      10014440@N06"
      ]
     },
     "execution_count": 249,
     "metadata": {},
     "output_type": "execute_result"
    }
   ],
   "source": [
    "#seq_all = pickle.load(open('all_trajectories.pkl'))\n",
    "seq_user = seq_all[['seqID', 'userID']].copy()\n",
    "seq_user = seq_user.groupby('seqID').first()\n",
    "#type(seq_user)\n",
    "#seq_user.loc[1].iloc[0]\n",
    "#seq_user.reset_index(inplace=True)\n",
    "#seq_user.set_index('seqID', inplace=True)\n",
    "seq_user.head()"
   ]
  },
  {
   "cell_type": "markdown",
   "metadata": {},
   "source": [
    "<a id='sec3.4'></a>"
   ]
  },
  {
   "cell_type": "markdown",
   "metadata": {},
   "source": [
    "### 3.4 Choose Travelling Sequences for experiment"
   ]
  },
  {
   "cell_type": "markdown",
   "metadata": {},
   "source": [
    "Trajectories with length `{3, 4, 5}` are used in our experiment."
   ]
  },
  {
   "cell_type": "code",
   "execution_count": 250,
   "metadata": {
    "collapsed": false
   },
   "outputs": [
    {
     "data": {
      "image/png": "[encoded data removed]",
      "text/plain": [
       "<matplotlib.figure.Figure at 0x7fda7769b7f0>"
      ]
     },
     "metadata": {},
     "output_type": "display_data"
    }
   ],
   "source": [
    "seq_len = seq_all[['userID', 'seqID', 'poiID']].copy()\n",
    "seq_len = seq_len.groupby(['userID', 'seqID']).agg(np.size)\n",
    "seq_len.reset_index(inplace=True)\n",
    "seq_len.rename(columns={'poiID':'seqLen'}, inplace=True)\n",
    "#seq_len.head()\n",
    "ax = seq_len['seqLen'].hist(bins=20)\n",
    "ax.set_yscale('log')"
   ]
  },
  {
   "cell_type": "code",
   "execution_count": 251,
   "metadata": {
    "collapsed": false
   },
   "outputs": [
    {
     "data": {
      "text/plain": [
       "<matplotlib.axes._subplots.AxesSubplot at 0x7fda6c7c9f60>"
      ]
     },
     "execution_count": 251,
     "metadata": {},
     "output_type": "execute_result"
    },
    {
     "data": {
      "image/png": "[encoded data removed]",
      "text/plain": [
       "<matplotlib.figure.Figure at 0x7fda7b0b3e80>"
      ]
     },
     "metadata": {},
     "output_type": "display_data"
    }
   ],
   "source": [
    "seq_345 = seq_len[seq_len['seqLen'].isin({3, 4, 5})]\n",
    "seq_345['seqLen'].hist(bins=9)"
   ]
  },
  {
   "cell_type": "markdown",
   "metadata": {},
   "source": [
    "Split travelling sequences into training set and testing set using leave-one-out for each user.  \n",
    "*For testing purpose, users with less than two travelling sequences are not considered in this experiment.*"
   ]
  },
  {
   "cell_type": "code",
   "execution_count": 252,
   "metadata": {
    "collapsed": true
   },
   "outputs": [],
   "source": [
    "train_set = []\n",
    "test_set = []"
   ]
  },
  {
   "cell_type": "code",
   "execution_count": 253,
   "metadata": {
    "collapsed": false
   },
   "outputs": [],
   "source": [
    "user_seqs = seq_345[['userID', 'seqID']].groupby('userID')"
   ]
  },
  {
   "cell_type": "code",
   "execution_count": 254,
   "metadata": {
    "collapsed": false
   },
   "outputs": [],
   "source": [
    "for user, indices in user_seqs.groups.items():\n",
    "    if len(indices) < 2: continue\n",
    "    idx = random.choice(indices)\n",
    "    test_set.append(seq_345.loc[idx, 'seqID'])\n",
    "    train_set.extend([seq_345.loc[x, 'seqID'] for x in indices if x != idx])"
   ]
  },
  {
   "cell_type": "code",
   "execution_count": 255,
   "metadata": {
    "collapsed": false
   },
   "outputs": [
    {
     "name": "stdout",
     "output_type": "stream",
     "text": [
      "#seq in trainset: 128\n",
      "#seq in testset: 41\n"
     ]
    },
    {
     "data": {
      "text/plain": [
       "<matplotlib.axes._subplots.AxesSubplot at 0x7fda7be289e8>"
      ]
     },
     "execution_count": 255,
     "metadata": {},
     "output_type": "execute_result"
    },
    {
     "data": {
      "image/png": "[encoded data removed]",
      "text/plain": [
       "<matplotlib.figure.Figure at 0x7fda7769b588>"
      ]
     },
     "metadata": {},
     "output_type": "display_data"
    }
   ],
   "source": [
    "print('#seq in trainset:', len(train_set))\n",
    "print('#seq in testset:', len(test_set))\n",
    "seq_345[seq_345['seqID'].isin(train_set)]['seqLen'].hist(bins=9)\n",
    "#data = np.array(seqs1['seqLen'])\n",
    "#hist, bins = np.histogram(data, bins=3)\n",
    "#print(hist)"
   ]
  },
  {
   "cell_type": "markdown",
   "metadata": {},
   "source": [
    "#### Sanity check: the total number of travelling sequences used in experiment."
   ]
  },
  {
   "cell_type": "code",
   "execution_count": 256,
   "metadata": {
    "collapsed": false
   },
   "outputs": [
    {
     "name": "stdout",
     "output_type": "stream",
     "text": [
      "total #seq for experiment: 169\n"
     ]
    }
   ],
   "source": [
    "seq_exp = seq_345[['userID', 'seqID']].copy()\n",
    "seq_exp = seq_exp.groupby('userID').agg(np.size)\n",
    "seq_exp.reset_index(inplace=True)\n",
    "seq_exp.rename(columns={'seqID':'#seq'}, inplace=True)\n",
    "seq_exp = seq_exp[seq_exp['#seq'] > 1] # user with more than 1 sequences\n",
    "print('total #seq for experiment:', seq_exp['#seq'].sum())\n",
    "#seq_exp.head()"
   ]
  },
  {
   "cell_type": "code",
   "execution_count": 257,
   "metadata": {
    "collapsed": false
   },
   "outputs": [
    {
     "name": "stdout",
     "output_type": "stream",
     "text": [
      "86 sequences with length 3, 29 sequences with length 4, 13 sequences with length 5\n",
      "F1-score by random guessing is 0.602\n"
     ]
    }
   ],
   "source": [
    "seq_t = seq_345[seq_345['seqID'].isin(train_set)]\n",
    "nseq3 = seq_t[seq_t['seqLen'] == 3].shape[0]\n",
    "nseq4 = seq_t[seq_t['seqLen'] == 4].shape[0]\n",
    "nseq5 = seq_t[seq_t['seqLen'] == 5].shape[0]\n",
    "nseq345 = nseq3 + nseq4 + nseq5\n",
    "randF1 = (2/3) * (nseq3 / nseq345) + (2/4) * (nseq4 / nseq345) + (2/5) * (nseq5 / nseq345)\n",
    "print('%d sequences with length 3, %d sequences with length 4, %d sequences with length 5' % (nseq3, nseq4, nseq5))\n",
    "print('F1-score by random guessing is %.3f' % randF1)"
   ]
  },
  {
   "cell_type": "markdown",
   "metadata": {},
   "source": [
    "Save training/testing set to file."
   ]
  },
  {
   "cell_type": "code",
   "execution_count": 258,
   "metadata": {
    "collapsed": true
   },
   "outputs": [],
   "source": [
    "pickle.dump(train_set, open(ftrain, 'wb'))\n",
    "pickle.dump(test_set, open(ftest, 'wb'))"
   ]
  },
  {
   "cell_type": "markdown",
   "metadata": {},
   "source": [
    "<a id='sec3.5'></a>"
   ]
  },
  {
   "cell_type": "markdown",
   "metadata": {},
   "source": [
    "### 3.5 Compute transition matrix using training set"
   ]
  },
  {
   "cell_type": "markdown",
   "metadata": {},
   "source": [
    "Compute transition probabilities between different kind of POI categories."
   ]
  },
  {
   "cell_type": "code",
   "execution_count": 259,
   "metadata": {
    "collapsed": false
   },
   "outputs": [
    {
     "data": {
      "text/plain": [
       "['Amusement', 'Beach', 'Cultural', 'Shopping', 'Sport', 'Structure']"
      ]
     },
     "execution_count": 259,
     "metadata": {},
     "output_type": "execute_result"
    }
   ],
   "source": [
    "poi_cats = traj['poiTheme'].unique().tolist()\n",
    "poi_cats.sort()\n",
    "poi_cats"
   ]
  },
  {
   "cell_type": "code",
   "execution_count": 260,
   "metadata": {
    "collapsed": false
   },
   "outputs": [],
   "source": [
    "ncats = len(poi_cats)\n",
    "trans_mat = pd.DataFrame(data=np.zeros((ncats, ncats), dtype=np.float64), index=poi_cats, columns=poi_cats)\n",
    "#trans_mat"
   ]
  },
  {
   "cell_type": "markdown",
   "metadata": {},
   "source": [
    "Count the transition number for each possible transition."
   ]
  },
  {
   "cell_type": "code",
   "execution_count": 261,
   "metadata": {
    "collapsed": false,
    "scrolled": true
   },
   "outputs": [
    {
     "data": {
      "text/html": [
       "<div>\n",
       "<table border=\"1\" class=\"dataframe\">\n",
       "  <thead>\n",
       "    <tr style=\"text-align: right;\">\n",
       "      <th></th>\n",
       "      <th>Amusement</th>\n",
       "      <th>Beach</th>\n",
       "      <th>Cultural</th>\n",
       "      <th>Shopping</th>\n",
       "      <th>Sport</th>\n",
       "      <th>Structure</th>\n",
       "    </tr>\n",
       "  </thead>\n",
       "  <tbody>\n",
       "    <tr>\n",
       "      <th>Amusement</th>\n",
       "      <td>5</td>\n",
       "      <td>3</td>\n",
       "      <td>3</td>\n",
       "      <td>2</td>\n",
       "      <td>5</td>\n",
       "      <td>3</td>\n",
       "    </tr>\n",
       "    <tr>\n",
       "      <th>Beach</th>\n",
       "      <td>4</td>\n",
       "      <td>12</td>\n",
       "      <td>10</td>\n",
       "      <td>19</td>\n",
       "      <td>3</td>\n",
       "      <td>26</td>\n",
       "    </tr>\n",
       "    <tr>\n",
       "      <th>Cultural</th>\n",
       "      <td>2</td>\n",
       "      <td>13</td>\n",
       "      <td>5</td>\n",
       "      <td>12</td>\n",
       "      <td>3</td>\n",
       "      <td>19</td>\n",
       "    </tr>\n",
       "    <tr>\n",
       "      <th>Shopping</th>\n",
       "      <td>4</td>\n",
       "      <td>27</td>\n",
       "      <td>8</td>\n",
       "      <td>6</td>\n",
       "      <td>5</td>\n",
       "      <td>18</td>\n",
       "    </tr>\n",
       "    <tr>\n",
       "      <th>Sport</th>\n",
       "      <td>6</td>\n",
       "      <td>3</td>\n",
       "      <td>2</td>\n",
       "      <td>2</td>\n",
       "      <td>1</td>\n",
       "      <td>5</td>\n",
       "    </tr>\n",
       "    <tr>\n",
       "      <th>Structure</th>\n",
       "      <td>2</td>\n",
       "      <td>21</td>\n",
       "      <td>16</td>\n",
       "      <td>24</td>\n",
       "      <td>4</td>\n",
       "      <td>8</td>\n",
       "    </tr>\n",
       "  </tbody>\n",
       "</table>\n",
       "</div>"
      ],
      "text/plain": [
       "           Amusement  Beach  Cultural  Shopping  Sport  Structure\n",
       "Amusement          5      3         3         2      5          3\n",
       "Beach              4     12        10        19      3         26\n",
       "Cultural           2     13         5        12      3         19\n",
       "Shopping           4     27         8         6      5         18\n",
       "Sport              6      3         2         2      1          5\n",
       "Structure          2     21        16        24      4          8"
      ]
     },
     "execution_count": 261,
     "metadata": {},
     "output_type": "execute_result"
    }
   ],
   "source": [
    "#train_set = [4, 13, 32, 33, 34, 99, 101]\n",
    "#seq_all[seq_all['seqID'] == train_set[0]]\n",
    "for seqid in train_set:\n",
    "    seqi = seq_all[seq_all['seqID'] == seqid].copy()\n",
    "    seqi.sort(columns=['arrivalTime'], ascending=True, inplace=True)\n",
    "    for j in range(len(seqi.index)-1):\n",
    "        idx1 = seqi.index[j]\n",
    "        idx2 = seqi.index[j+1]\n",
    "        poi1 = seqi.loc[idx1, 'poiID']\n",
    "        poi2 = seqi.loc[idx2, 'poiID']\n",
    "        cat1 = poi_all.loc[poi1, 'poiTheme']\n",
    "        cat2 = poi_all.loc[poi2, 'poiTheme']\n",
    "        trans_mat.loc[cat1, cat2] += 1\n",
    "trans_mat"
   ]
  },
  {
   "cell_type": "markdown",
   "metadata": {},
   "source": [
    "Normalise each row to get an estimate of transition probabilities (MLE)."
   ]
  },
  {
   "cell_type": "code",
   "execution_count": 262,
   "metadata": {
    "collapsed": false
   },
   "outputs": [
    {
     "data": {
      "text/html": [
       "<div>\n",
       "<table border=\"1\" class=\"dataframe\">\n",
       "  <thead>\n",
       "    <tr style=\"text-align: right;\">\n",
       "      <th></th>\n",
       "      <th>Amusement</th>\n",
       "      <th>Beach</th>\n",
       "      <th>Cultural</th>\n",
       "      <th>Shopping</th>\n",
       "      <th>Sport</th>\n",
       "      <th>Structure</th>\n",
       "    </tr>\n",
       "  </thead>\n",
       "  <tbody>\n",
       "    <tr>\n",
       "      <th>Amusement</th>\n",
       "      <td>0.238095</td>\n",
       "      <td>0.142857</td>\n",
       "      <td>0.142857</td>\n",
       "      <td>0.095238</td>\n",
       "      <td>0.238095</td>\n",
       "      <td>0.142857</td>\n",
       "    </tr>\n",
       "    <tr>\n",
       "      <th>Beach</th>\n",
       "      <td>0.054054</td>\n",
       "      <td>0.162162</td>\n",
       "      <td>0.135135</td>\n",
       "      <td>0.256757</td>\n",
       "      <td>0.040541</td>\n",
       "      <td>0.351351</td>\n",
       "    </tr>\n",
       "    <tr>\n",
       "      <th>Cultural</th>\n",
       "      <td>0.037037</td>\n",
       "      <td>0.240741</td>\n",
       "      <td>0.092593</td>\n",
       "      <td>0.222222</td>\n",
       "      <td>0.055556</td>\n",
       "      <td>0.351852</td>\n",
       "    </tr>\n",
       "    <tr>\n",
       "      <th>Shopping</th>\n",
       "      <td>0.058824</td>\n",
       "      <td>0.397059</td>\n",
       "      <td>0.117647</td>\n",
       "      <td>0.088235</td>\n",
       "      <td>0.073529</td>\n",
       "      <td>0.264706</td>\n",
       "    </tr>\n",
       "    <tr>\n",
       "      <th>Sport</th>\n",
       "      <td>0.315789</td>\n",
       "      <td>0.157895</td>\n",
       "      <td>0.105263</td>\n",
       "      <td>0.105263</td>\n",
       "      <td>0.052632</td>\n",
       "      <td>0.263158</td>\n",
       "    </tr>\n",
       "    <tr>\n",
       "      <th>Structure</th>\n",
       "      <td>0.026667</td>\n",
       "      <td>0.280000</td>\n",
       "      <td>0.213333</td>\n",
       "      <td>0.320000</td>\n",
       "      <td>0.053333</td>\n",
       "      <td>0.106667</td>\n",
       "    </tr>\n",
       "  </tbody>\n",
       "</table>\n",
       "</div>"
      ],
      "text/plain": [
       "           Amusement     Beach  Cultural  Shopping     Sport  Structure\n",
       "Amusement   0.238095  0.142857  0.142857  0.095238  0.238095   0.142857\n",
       "Beach       0.054054  0.162162  0.135135  0.256757  0.040541   0.351351\n",
       "Cultural    0.037037  0.240741  0.092593  0.222222  0.055556   0.351852\n",
       "Shopping    0.058824  0.397059  0.117647  0.088235  0.073529   0.264706\n",
       "Sport       0.315789  0.157895  0.105263  0.105263  0.052632   0.263158\n",
       "Structure   0.026667  0.280000  0.213333  0.320000  0.053333   0.106667"
      ]
     },
     "execution_count": 262,
     "metadata": {},
     "output_type": "execute_result"
    }
   ],
   "source": [
    "for r in trans_mat.index:\n",
    "    rowsum = trans_mat.ix[r].sum()\n",
    "    if rowsum == 0: continue  # deal with lack of data\n",
    "    for c in trans_mat.columns:\n",
    "        trans_mat.loc[r, c] /= rowsum\n",
    "trans_mat"
   ]
  },
  {
   "cell_type": "markdown",
   "metadata": {},
   "source": [
    "Compute the log of transition probabilities with smooth factor $\\epsilon=10^{-12}$."
   ]
  },
  {
   "cell_type": "code",
   "execution_count": 263,
   "metadata": {
    "collapsed": false
   },
   "outputs": [
    {
     "data": {
      "text/html": [
       "<div>\n",
       "<table border=\"1\" class=\"dataframe\">\n",
       "  <thead>\n",
       "    <tr style=\"text-align: right;\">\n",
       "      <th></th>\n",
       "      <th>Amusement</th>\n",
       "      <th>Beach</th>\n",
       "      <th>Cultural</th>\n",
       "      <th>Shopping</th>\n",
       "      <th>Sport</th>\n",
       "      <th>Structure</th>\n",
       "    </tr>\n",
       "  </thead>\n",
       "  <tbody>\n",
       "    <tr>\n",
       "      <th>Amusement</th>\n",
       "      <td>-0.623249</td>\n",
       "      <td>-0.845098</td>\n",
       "      <td>-0.845098</td>\n",
       "      <td>-1.021189</td>\n",
       "      <td>-0.623249</td>\n",
       "      <td>-0.845098</td>\n",
       "    </tr>\n",
       "    <tr>\n",
       "      <th>Beach</th>\n",
       "      <td>-1.267172</td>\n",
       "      <td>-0.790050</td>\n",
       "      <td>-0.869232</td>\n",
       "      <td>-0.590478</td>\n",
       "      <td>-1.392110</td>\n",
       "      <td>-0.454258</td>\n",
       "    </tr>\n",
       "    <tr>\n",
       "      <th>Cultural</th>\n",
       "      <td>-1.431364</td>\n",
       "      <td>-0.618450</td>\n",
       "      <td>-1.033424</td>\n",
       "      <td>-0.653213</td>\n",
       "      <td>-1.255273</td>\n",
       "      <td>-0.453640</td>\n",
       "    </tr>\n",
       "    <tr>\n",
       "      <th>Shopping</th>\n",
       "      <td>-1.230449</td>\n",
       "      <td>-0.401145</td>\n",
       "      <td>-0.929419</td>\n",
       "      <td>-1.054358</td>\n",
       "      <td>-1.133539</td>\n",
       "      <td>-0.577236</td>\n",
       "    </tr>\n",
       "    <tr>\n",
       "      <th>Sport</th>\n",
       "      <td>-0.500602</td>\n",
       "      <td>-0.801632</td>\n",
       "      <td>-0.977724</td>\n",
       "      <td>-0.977724</td>\n",
       "      <td>-1.278754</td>\n",
       "      <td>-0.579784</td>\n",
       "    </tr>\n",
       "    <tr>\n",
       "      <th>Structure</th>\n",
       "      <td>-1.574031</td>\n",
       "      <td>-0.552842</td>\n",
       "      <td>-0.670941</td>\n",
       "      <td>-0.494850</td>\n",
       "      <td>-1.273001</td>\n",
       "      <td>-0.971971</td>\n",
       "    </tr>\n",
       "  </tbody>\n",
       "</table>\n",
       "</div>"
      ],
      "text/plain": [
       "           Amusement     Beach  Cultural  Shopping     Sport  Structure\n",
       "Amusement  -0.623249 -0.845098 -0.845098 -1.021189 -0.623249  -0.845098\n",
       "Beach      -1.267172 -0.790050 -0.869232 -0.590478 -1.392110  -0.454258\n",
       "Cultural   -1.431364 -0.618450 -1.033424 -0.653213 -1.255273  -0.453640\n",
       "Shopping   -1.230449 -0.401145 -0.929419 -1.054358 -1.133539  -0.577236\n",
       "Sport      -0.500602 -0.801632 -0.977724 -0.977724 -1.278754  -0.579784\n",
       "Structure  -1.574031 -0.552842 -0.670941 -0.494850 -1.273001  -0.971971"
      ]
     },
     "execution_count": 263,
     "metadata": {},
     "output_type": "execute_result"
    }
   ],
   "source": [
    "log10_trans_mat = np.log10(trans_mat.copy() + EPS)\n",
    "log10_trans_mat"
   ]
  },
  {
   "cell_type": "markdown",
   "metadata": {},
   "source": [
    "<a id='sec3.6'></a>"
   ]
  },
  {
   "cell_type": "markdown",
   "metadata": {},
   "source": [
    "### 3.6 Compute POI popularity and user interest using training set"
   ]
  },
  {
   "cell_type": "markdown",
   "metadata": {},
   "source": [
    "Compute average POI visit duration, POI popularity as defined at the [top of the notebook](#sec1.1)."
   ]
  },
  {
   "cell_type": "code",
   "execution_count": 264,
   "metadata": {
    "collapsed": true
   },
   "outputs": [],
   "source": [
    "poi_avg_pop = seq_all[seq_all['seqID'].isin(train_set)]\n",
    "poi_avg_pop = poi_avg_pop[['poiID', 'poiDuration(sec)']].copy()"
   ]
  },
  {
   "cell_type": "code",
   "execution_count": 265,
   "metadata": {
    "collapsed": false
   },
   "outputs": [
    {
     "name": "stdout",
     "output_type": "stream",
     "text": [
      "#poi: 23\n",
      "#poi after extension: 29\n"
     ]
    },
    {
     "data": {
      "text/html": [
       "<div>\n",
       "<table border=\"1\" class=\"dataframe\">\n",
       "  <thead>\n",
       "    <tr style=\"text-align: right;\">\n",
       "      <th></th>\n",
       "      <th>avgDuration(sec)</th>\n",
       "      <th>popularity</th>\n",
       "    </tr>\n",
       "    <tr>\n",
       "      <th>poiID</th>\n",
       "      <th></th>\n",
       "      <th></th>\n",
       "    </tr>\n",
       "  </thead>\n",
       "  <tbody>\n",
       "    <tr>\n",
       "      <th>1</th>\n",
       "      <td>6691.200000</td>\n",
       "      <td>5</td>\n",
       "    </tr>\n",
       "    <tr>\n",
       "      <th>2</th>\n",
       "      <td>4099.833333</td>\n",
       "      <td>6</td>\n",
       "    </tr>\n",
       "    <tr>\n",
       "      <th>3</th>\n",
       "      <td>1045.923077</td>\n",
       "      <td>13</td>\n",
       "    </tr>\n",
       "    <tr>\n",
       "      <th>4</th>\n",
       "      <td>3473.285714</td>\n",
       "      <td>7</td>\n",
       "    </tr>\n",
       "    <tr>\n",
       "      <th>6</th>\n",
       "      <td>2593.300000</td>\n",
       "      <td>10</td>\n",
       "    </tr>\n",
       "    <tr>\n",
       "      <th>7</th>\n",
       "      <td>4030.868421</td>\n",
       "      <td>38</td>\n",
       "    </tr>\n",
       "    <tr>\n",
       "      <th>8</th>\n",
       "      <td>5465.090909</td>\n",
       "      <td>11</td>\n",
       "    </tr>\n",
       "    <tr>\n",
       "      <th>11</th>\n",
       "      <td>1320.583333</td>\n",
       "      <td>12</td>\n",
       "    </tr>\n",
       "    <tr>\n",
       "      <th>13</th>\n",
       "      <td>2341.000000</td>\n",
       "      <td>2</td>\n",
       "    </tr>\n",
       "    <tr>\n",
       "      <th>14</th>\n",
       "      <td>505.166667</td>\n",
       "      <td>6</td>\n",
       "    </tr>\n",
       "    <tr>\n",
       "      <th>15</th>\n",
       "      <td>851.500000</td>\n",
       "      <td>2</td>\n",
       "    </tr>\n",
       "    <tr>\n",
       "      <th>16</th>\n",
       "      <td>2593.200000</td>\n",
       "      <td>15</td>\n",
       "    </tr>\n",
       "    <tr>\n",
       "      <th>17</th>\n",
       "      <td>9601.500000</td>\n",
       "      <td>8</td>\n",
       "    </tr>\n",
       "    <tr>\n",
       "      <th>19</th>\n",
       "      <td>1604.000000</td>\n",
       "      <td>4</td>\n",
       "    </tr>\n",
       "    <tr>\n",
       "      <th>21</th>\n",
       "      <td>2432.566038</td>\n",
       "      <td>53</td>\n",
       "    </tr>\n",
       "    <tr>\n",
       "      <th>22</th>\n",
       "      <td>2727.909091</td>\n",
       "      <td>55</td>\n",
       "    </tr>\n",
       "    <tr>\n",
       "      <th>23</th>\n",
       "      <td>1374.573770</td>\n",
       "      <td>61</td>\n",
       "    </tr>\n",
       "    <tr>\n",
       "      <th>24</th>\n",
       "      <td>1580.454545</td>\n",
       "      <td>11</td>\n",
       "    </tr>\n",
       "    <tr>\n",
       "      <th>25</th>\n",
       "      <td>246.250000</td>\n",
       "      <td>8</td>\n",
       "    </tr>\n",
       "    <tr>\n",
       "      <th>27</th>\n",
       "      <td>1921.375000</td>\n",
       "      <td>8</td>\n",
       "    </tr>\n",
       "    <tr>\n",
       "      <th>28</th>\n",
       "      <td>1215.000000</td>\n",
       "      <td>51</td>\n",
       "    </tr>\n",
       "    <tr>\n",
       "      <th>29</th>\n",
       "      <td>1031.750000</td>\n",
       "      <td>8</td>\n",
       "    </tr>\n",
       "    <tr>\n",
       "      <th>30</th>\n",
       "      <td>3745.222222</td>\n",
       "      <td>45</td>\n",
       "    </tr>\n",
       "    <tr>\n",
       "      <th>9</th>\n",
       "      <td>0.000000</td>\n",
       "      <td>0</td>\n",
       "    </tr>\n",
       "    <tr>\n",
       "      <th>10</th>\n",
       "      <td>0.000000</td>\n",
       "      <td>0</td>\n",
       "    </tr>\n",
       "    <tr>\n",
       "      <th>12</th>\n",
       "      <td>0.000000</td>\n",
       "      <td>0</td>\n",
       "    </tr>\n",
       "    <tr>\n",
       "      <th>18</th>\n",
       "      <td>0.000000</td>\n",
       "      <td>0</td>\n",
       "    </tr>\n",
       "    <tr>\n",
       "      <th>20</th>\n",
       "      <td>0.000000</td>\n",
       "      <td>0</td>\n",
       "    </tr>\n",
       "    <tr>\n",
       "      <th>26</th>\n",
       "      <td>0.000000</td>\n",
       "      <td>0</td>\n",
       "    </tr>\n",
       "  </tbody>\n",
       "</table>\n",
       "</div>"
      ],
      "text/plain": [
       "       avgDuration(sec)  popularity\n",
       "poiID                              \n",
       "1           6691.200000           5\n",
       "2           4099.833333           6\n",
       "3           1045.923077          13\n",
       "4           3473.285714           7\n",
       "6           2593.300000          10\n",
       "7           4030.868421          38\n",
       "8           5465.090909          11\n",
       "11          1320.583333          12\n",
       "13          2341.000000           2\n",
       "14           505.166667           6\n",
       "15           851.500000           2\n",
       "16          2593.200000          15\n",
       "17          9601.500000           8\n",
       "19          1604.000000           4\n",
       "21          2432.566038          53\n",
       "22          2727.909091          55\n",
       "23          1374.573770          61\n",
       "24          1580.454545          11\n",
       "25           246.250000           8\n",
       "27          1921.375000           8\n",
       "28          1215.000000          51\n",
       "29          1031.750000           8\n",
       "30          3745.222222          45\n",
       "9              0.000000           0\n",
       "10             0.000000           0\n",
       "12             0.000000           0\n",
       "18             0.000000           0\n",
       "20             0.000000           0\n",
       "26             0.000000           0"
      ]
     },
     "execution_count": 265,
     "metadata": {},
     "output_type": "execute_result"
    }
   ],
   "source": [
    "poi_avg_pop = poi_avg_pop.groupby('poiID').agg([np.mean, np.size])\n",
    "poi_avg_pop.columns = poi_avg_pop.columns.droplevel()\n",
    "poi_avg_pop.reset_index(inplace=True)\n",
    "poi_avg_pop.rename(columns={'mean':'avgDuration(sec)', 'size':'popularity'}, inplace=True)\n",
    "poi_avg_pop.set_index('poiID', inplace=True)\n",
    "print('#poi:', poi_avg_pop.shape[0])\n",
    "if poi_avg_pop.shape[0] < poi_all.shape[0]:\n",
    "    extra_index = list(set(poi_all.index) - set(poi_avg_pop.index))\n",
    "    extra_poi = pd.DataFrame(data=np.zeros((len(extra_index), 2), dtype=np.float64), \\\n",
    "                             index=extra_index, columns=['avgDuration(sec)', 'popularity'])\n",
    "    poi_avg_pop = poi_avg_pop.append(extra_poi)\n",
    "    print('#poi after extension:', poi_avg_pop.shape[0])\n",
    "poi_avg_pop"
   ]
  },
  {
   "cell_type": "markdown",
   "metadata": {},
   "source": [
    "Compute time/frequency based user interest as defined at the \n",
    "[top of the notebook](#sec1.1)."
   ]
  },
  {
   "cell_type": "code",
   "execution_count": 266,
   "metadata": {
    "collapsed": true
   },
   "outputs": [],
   "source": [
    "user_interest = seq_all[seq_all['seqID'].isin(train_set)]\n",
    "user_interest = user_interest[['userID', 'poiID', 'poiDuration(sec)']].copy()"
   ]
  },
  {
   "cell_type": "code",
   "execution_count": 267,
   "metadata": {
    "collapsed": true
   },
   "outputs": [],
   "source": [
    "user_interest['timeRatio'] = [poi_avg_pop.loc[x, 'avgDuration(sec)'] for x in user_interest['poiID']]\n",
    "user_interest['timeRatio'] = user_interest['poiDuration(sec)'] / user_interest['timeRatio']\n",
    "user_interest['poiTheme'] = [poi_all.loc[x, 'poiTheme'] for x in user_interest['poiID']]\n",
    "user_interest.drop(['poiID', 'poiDuration(sec)'], axis=1, inplace=True)"
   ]
  },
  {
   "cell_type": "markdown",
   "metadata": {},
   "source": [
    "**Sum defined in paper, but cumulative of (time ratio) * (avg POI visit duration) will become extremely large in many cases, which is unrealistic.**"
   ]
  },
  {
   "cell_type": "code",
   "execution_count": 268,
   "metadata": {
    "collapsed": true
   },
   "outputs": [],
   "source": [
    "#user_interest = user_interest.groupby(['userID', 'poiTheme']).agg([np.sum, np.size])\n",
    "user_interest = user_interest.groupby(['userID', 'poiTheme']).agg([np.mean, np.size]) # try the mean"
   ]
  },
  {
   "cell_type": "code",
   "execution_count": 269,
   "metadata": {
    "collapsed": false
   },
   "outputs": [
    {
     "data": {
      "text/html": [
       "<div>\n",
       "<table border=\"1\" class=\"dataframe\">\n",
       "  <thead>\n",
       "    <tr style=\"text-align: right;\">\n",
       "      <th></th>\n",
       "      <th></th>\n",
       "      <th>timeBased</th>\n",
       "      <th>freqBased</th>\n",
       "    </tr>\n",
       "    <tr>\n",
       "      <th>userID</th>\n",
       "      <th>poiTheme</th>\n",
       "      <th></th>\n",
       "      <th></th>\n",
       "    </tr>\n",
       "  </thead>\n",
       "  <tbody>\n",
       "    <tr>\n",
       "      <th rowspan=\"4\" valign=\"top\">10502709@N05</th>\n",
       "      <th>Beach</th>\n",
       "      <td>0.793282</td>\n",
       "      <td>1</td>\n",
       "    </tr>\n",
       "    <tr>\n",
       "      <th>Cultural</th>\n",
       "      <td>0.657675</td>\n",
       "      <td>2</td>\n",
       "    </tr>\n",
       "    <tr>\n",
       "      <th>Shopping</th>\n",
       "      <td>1.930100</td>\n",
       "      <td>2</td>\n",
       "    </tr>\n",
       "    <tr>\n",
       "      <th>Structure</th>\n",
       "      <td>14.311111</td>\n",
       "      <td>1</td>\n",
       "    </tr>\n",
       "    <tr>\n",
       "      <th>10627620@N06</th>\n",
       "      <th>Shopping</th>\n",
       "      <td>0.046924</td>\n",
       "      <td>2</td>\n",
       "    </tr>\n",
       "  </tbody>\n",
       "</table>\n",
       "</div>"
      ],
      "text/plain": [
       "                        timeBased  freqBased\n",
       "userID       poiTheme                       \n",
       "10502709@N05 Beach       0.793282          1\n",
       "             Cultural    0.657675          2\n",
       "             Shopping    1.930100          2\n",
       "             Structure  14.311111          1\n",
       "10627620@N06 Shopping    0.046924          2"
      ]
     },
     "execution_count": 269,
     "metadata": {},
     "output_type": "execute_result"
    }
   ],
   "source": [
    "user_interest.columns = user_interest.columns.droplevel()\n",
    "#user_interest.rename(columns={'sum':'timeBased', 'size':'freqBased'}, inplace=True)\n",
    "user_interest.rename(columns={'mean':'timeBased', 'size':'freqBased'}, inplace=True)\n",
    "user_interest.reset_index(inplace=True)\n",
    "user_interest.set_index(['userID', 'poiTheme'], inplace=True)\n",
    "user_interest.head()"
   ]
  },
  {
   "cell_type": "markdown",
   "metadata": {},
   "source": [
    "<a id='sec3.7'></a>"
   ]
  },
  {
   "cell_type": "markdown",
   "metadata": {},
   "source": [
    "### 3.7 Enumerate Trajectories with length {3, 4, 5}"
   ]
  },
  {
   "cell_type": "code",
   "execution_count": 270,
   "metadata": {
    "collapsed": false
   },
   "outputs": [],
   "source": [
    "poi_list = poi_all.index.tolist()"
   ]
  },
  {
   "cell_type": "code",
   "execution_count": 271,
   "metadata": {
    "collapsed": false
   },
   "outputs": [],
   "source": [
    "def enum_345_seq(seqid_set, poi_list):\n",
    "    \"\"\"Enumerate all possible travelling sequences with length {3, 4, 5}\"\"\"\n",
    "    act_seqs = dict()\n",
    "    enum_seqs = dict()\n",
    "    \n",
    "    for seqid in seqid_set:\n",
    "        seqi = seq_all[seq_all['seqID'] == seqid].copy()\n",
    "        seqi.sort(columns=['arrivalTime'], ascending=True, inplace=True)\n",
    "        act_seqs[seqid] = seqi['poiID'].tolist()\n",
    "        p0 = seqi.loc[seqi.index[0], 'poiID']\n",
    "        pN = seqi.loc[seqi.index[-1],'poiID']\n",
    "    \n",
    "        # enumerate sequences with length 3\n",
    "        if seqi.shape[0] == 3:\n",
    "            enum_seqs[seqid] = [[p0, p, pN] \\\n",
    "                                for p in poi_list if p not in {p0, pN}]\n",
    "            continue\n",
    "\n",
    "        # enumerate sequences with length 4\n",
    "        if seqi.shape[0] == 4:\n",
    "            enum_seqs[seqid] = [[p0, p1, p2, pN] \\\n",
    "                                for p1 in poi_list if p1 not in {p0, pN} \\\n",
    "                                for p2 in poi_list if p2 not in {p0, p1, pN}]\n",
    "            continue\n",
    "\n",
    "        # enumerate sequences with length 5\n",
    "        if seqi.shape[0] == 5:\n",
    "            enum_seqs[seqid] = [[p0, p1, p2, p3, pN] \\\n",
    "                                for p1 in poi_list if p1 not in {p0, pN} \\\n",
    "                                for p2 in poi_list if p2 not in {p0, p1, pN} \\\n",
    "                                for p3 in poi_list if p3 not in {p0, p1, p2, pN}]\n",
    "            continue\n",
    "    return enum_seqs, act_seqs    "
   ]
  },
  {
   "cell_type": "markdown",
   "metadata": {},
   "source": [
    "<a id='sec3.8'></a>"
   ]
  },
  {
   "cell_type": "markdown",
   "metadata": {},
   "source": [
    "### 3.8 Compute Features (scores) for each enumerated sequence"
   ]
  },
  {
   "cell_type": "markdown",
   "metadata": {},
   "source": [
    "As described at [the top of the notebook](#sec1), features for each trajectory used in this experiment are:\n",
    "1. total time-based user interest\n",
    "1. total freq-based user interest\n",
    "1. total POI popularity\n",
    "1. total travel distance (without the visit duration time at each POI)\n",
    "1. features 5 to 8 are trajectory (log) probabilities based on the transition matrix between different POI categories and the following rules for choosing a specific POI within certain category:\n",
    "  * The Nearest Neighbor of the current POI\n",
    "  * The most Popular POI\n",
    "  * A random POI choosing with probability proportional to the reciprocal of its distance to current POI\n",
    "  * A random POI choosing with probability proportional to its popularity"
   ]
  },
  {
   "cell_type": "code",
   "execution_count": 272,
   "metadata": {
    "collapsed": true
   },
   "outputs": [],
   "source": [
    "def calc_dist(longitude1, latitude1, longitude2, latitude2):\n",
    "    \"\"\"Calculate the distance (unit: km) between two places on earth\"\"\"\n",
    "    # convert degrees to radians\n",
    "    lon1 = math.radians(longitude1)\n",
    "    lat1 = math.radians(latitude1)\n",
    "    lon2 = math.radians(longitude2)\n",
    "    lat2 = math.radians(latitude2)\n",
    "    radius = 6371.009 # mean earth radius is 6371.009km, en.wikipedia.org/wiki/Earth_radius#Mean_radius\n",
    "    # The haversine formula, en.wikipedia.org/wiki/Great-circle_distance\n",
    "    dlon = math.fabs(lon1 - lon2)\n",
    "    dlat = math.fabs(lat1 - lat2)\n",
    "    return 2 * radius * math.asin(math.sqrt(\\\n",
    "                (math.sin(0.5*dlat))**2 + math.cos(lat1) * math.cos(lat2) * (math.sin(0.5*dlon))**2 ))"
   ]
  },
  {
   "cell_type": "code",
   "execution_count": 273,
   "metadata": {
    "collapsed": true
   },
   "outputs": [],
   "source": [
    "poi_dist_mat = pd.DataFrame(data=np.zeros((poi_all.shape[0], poi_all.shape[0]), dtype=np.float64), \\\n",
    "                        index=poi_all.index, columns=poi_all.index)\n",
    "poi_rdist_mat = poi_dist_mat.copy()"
   ]
  },
  {
   "cell_type": "code",
   "execution_count": 274,
   "metadata": {
    "collapsed": true
   },
   "outputs": [],
   "source": [
    "for i in range(poi_all.index.shape[0]):\n",
    "    for j in range(i+1, poi_all.index.shape[0]):\n",
    "        r = poi_all.index[i]\n",
    "        c = poi_all.index[j]\n",
    "        dist = calc_dist(poi_all.loc[r, 'poiLon'], poi_all.loc[r, 'poiLat'], \\\n",
    "                         poi_all.loc[c, 'poiLon'], poi_all.loc[c, 'poiLat'])\n",
    "        poi_dist_mat.loc[r, c] = dist\n",
    "        poi_dist_mat.loc[c, r] = dist\n",
    "        assert(dist > 0.)\n",
    "        rdist = 1./dist\n",
    "        poi_rdist_mat.loc[r, c] = rdist\n",
    "        poi_rdist_mat.loc[c, r] = rdist"
   ]
  },
  {
   "cell_type": "code",
   "execution_count": 275,
   "metadata": {
    "collapsed": true
   },
   "outputs": [],
   "source": [
    "def calc_features(user, seq, poi_all, user_interest, log10_trans_mat, poi_dist_mat, poi_rdist_mat):\n",
    "    \"\"\"Compute 8 features for each enumerated trajectory\"\"\"\n",
    "    features = np.zeros(nfeatures, dtype=np.float64)\n",
    "    \n",
    "    # POI based features\n",
    "    for poi in seq:\n",
    "        cat = poi_all.loc[poi, 'poiTheme']\n",
    "        if (user, cat) in user_interest.index:\n",
    "            features[0] += user_interest.loc[user, cat]['timeBased'] # 1. time-based user interest\n",
    "            features[1] += user_interest.loc[user, cat]['freqBased'] # 2. freq-based user interest\n",
    "        features[2] += poi_avg_pop.loc[poi, 'popularity']            # 3. POI popularity\n",
    "    \n",
    "    # POI-pair based features\n",
    "    for k in range(len(seq)-1):\n",
    "        poi1 = seq[k]\n",
    "        poi2 = seq[k+1]\n",
    "        assert(poi1 != poi2)\n",
    "        cat1 = poi_all.loc[poi1, 'poiTheme']\n",
    "        cat2 = poi_all.loc[poi2, 'poiTheme']                     \n",
    "        features[3] += -1 * poi_dist_mat.loc[poi1, poi2]              # 4. travel distance\n",
    "        trans_prob = log10_trans_mat.loc[cat1, cat2] # log of transition probability\n",
    "        for l in range(4, 8):\n",
    "            features[l] += trans_prob\n",
    "        poi_cat2 = poi_all[poi_all['poiTheme'] == cat2].copy()\n",
    "        if cat1 == cat2: \n",
    "            poi_cat2.drop(poi1, axis=0, inplace=True) # drop row\n",
    "        distvec = pd.DataFrame(data=[poi_rdist_mat.loc[poi1, x] for x in poi_cat2.index], index=poi_cat2.index)\n",
    "        if distvec.idxmax().iloc[0] == poi2:\n",
    "            features[4] += math.log10(1. + EPS) # poi2 is the nearest neighbor of poi1\n",
    "        else:\n",
    "            features[4] += math.log10(0. + EPS) # poi2 is not the nearest neighbor of poi1\n",
    "        popvec = pd.DataFrame(data=[poi_avg_pop.loc[x,'popularity'] for x in poi_cat2.index], index=poi_cat2.index)\n",
    "        #popvec = pd.DataFrame(data=[poi_all.loc[x,'poiFreq'] for x in poi_cat2.index], index=poi_cat2.index)\n",
    "        if popvec.idxmax().iloc[0] == poi2:\n",
    "            features[5] += math.log10(1. + EPS) # poi2 is the most popular one within cat2\n",
    "        else:\n",
    "            features[5] += math.log10(0. + EPS) # poi2 is not the most popular one within cat2\n",
    "        features[6] += math.log10(EPS + distvec.loc[poi2].iloc[0] / distvec.sum().iloc[0])\n",
    "        features[7] += math.log10(EPS +  popvec.loc[poi2].iloc[0] /  popvec.sum().iloc[0])\n",
    "        \n",
    "    # normalise score, range [-1, 1]\n",
    "    features /= abs(features).max()\n",
    "    return features"
   ]
  },
  {
   "cell_type": "code",
   "execution_count": 276,
   "metadata": {
    "collapsed": true
   },
   "outputs": [],
   "source": [
    "enum_seqs, train_seqs = enum_345_seq(train_set, poi_list)"
   ]
  },
  {
   "cell_type": "markdown",
   "metadata": {},
   "source": [
    "Load features from file if possible."
   ]
  },
  {
   "cell_type": "code",
   "execution_count": 277,
   "metadata": {
    "collapsed": true
   },
   "outputs": [],
   "source": [
    "doCompute = True"
   ]
  },
  {
   "cell_type": "code",
   "execution_count": 278,
   "metadata": {
    "collapsed": false
   },
   "outputs": [],
   "source": [
    "train_set1 = pickle.load(open(ftrain, 'rb'))\n",
    "if (np.array(sorted(train_set1)) == np.array(sorted(train_set))).all() and os.path.exists(ffeatures_train):\n",
    "    doCompute = False"
   ]
  },
  {
   "cell_type": "code",
   "execution_count": 279,
   "metadata": {
    "collapsed": true
   },
   "outputs": [],
   "source": [
    "all_features = None"
   ]
  },
  {
   "cell_type": "code",
   "execution_count": 280,
   "metadata": {
    "collapsed": false
   },
   "outputs": [],
   "source": [
    "if doCompute:\n",
    "    #[(seqid, seqidx_in_enum_seqs_dict)]\n",
    "    seq_info = [(seqid, j) for seqid in train_set for j in range(len(enum_seqs[seqid]))]\n",
    "    # all CPUs but one are used\n",
    "    all_features = Parallel\\\n",
    "                   (n_jobs=-2)\\\n",
    "                   (delayed\\\n",
    "                   (calc_features)\\\n",
    "                   (seq_user.loc[x[0]].iloc[0], enum_seqs[x[0]][x[1]], poi_all, user_interest, \\\n",
    "                    log10_trans_mat, poi_dist_mat, poi_rdist_mat) \\\n",
    "                   for x in seq_info)\n",
    "    pickle.dump(all_features, open(ffeatures_train, 'wb'))\n",
    "else:\n",
    "    # load features\n",
    "    all_features = pickle.load(open(ffeatures_train, 'rb'))    "
   ]
  },
  {
   "cell_type": "code",
   "execution_count": 281,
   "metadata": {
    "collapsed": false
   },
   "outputs": [
    {
     "name": "stdout",
     "output_type": "stream",
     "text": [
      "250830\n"
     ]
    }
   ],
   "source": [
    "print(len(all_features))"
   ]
  },
  {
   "cell_type": "code",
   "execution_count": 282,
   "metadata": {
    "collapsed": true
   },
   "outputs": [],
   "source": [
    "num_enum_seq = 0 # total number of enumerated sequences\n",
    "score_indices = dict() # score vector index in the feature matrix"
   ]
  },
  {
   "cell_type": "code",
   "execution_count": 283,
   "metadata": {
    "collapsed": true
   },
   "outputs": [],
   "source": [
    "for seqid in train_set:\n",
    "    num = len(enum_seqs[seqid])\n",
    "    score_indices[seqid] = [x for x in range(num_enum_seq, num_enum_seq + num)]\n",
    "    num_enum_seq += num"
   ]
  },
  {
   "cell_type": "code",
   "execution_count": 284,
   "metadata": {
    "collapsed": false
   },
   "outputs": [
    {
     "name": "stdout",
     "output_type": "stream",
     "text": [
      "250830\n"
     ]
    }
   ],
   "source": [
    "print(num_enum_seq)"
   ]
  },
  {
   "cell_type": "code",
   "execution_count": 285,
   "metadata": {
    "collapsed": false
   },
   "outputs": [],
   "source": [
    "assert(len(all_features) == num_enum_seq)"
   ]
  },
  {
   "cell_type": "markdown",
   "metadata": {},
   "source": [
    "<a id='sec4'></a>"
   ]
  },
  {
   "cell_type": "markdown",
   "metadata": {},
   "source": [
    "## 4. Experiments with training set"
   ]
  },
  {
   "cell_type": "code",
   "execution_count": 286,
   "metadata": {
    "collapsed": true
   },
   "outputs": [],
   "source": [
    "features_name = \\\n",
    "['total time-based user interest', 'total freq-based user interest', \\\n",
    " 'total POI popularity', 'total (negative) travel distance', \\\n",
    " 'trajectory probability with nearest neighbor rule',   'trajectory probability with most popular POI rule', \\\n",
    " 'trajectory probability which prefers near neighbors', 'trajectory probability which prefers popular POIs']"
   ]
  },
  {
   "cell_type": "code",
   "execution_count": 287,
   "metadata": {
    "collapsed": true
   },
   "outputs": [],
   "source": [
    "def calc_F1score(seq_act, seq_rec):\n",
    "    assert(len(seq_act) > 0)\n",
    "    assert(len(seq_rec) > 0)\n",
    "    actset = set(seq_act)\n",
    "    recset = set(seq_rec)\n",
    "    intersect = actset & recset\n",
    "    recall = len(intersect) / len(seq_act)\n",
    "    precision = len(intersect) / len(seq_rec)\n",
    "    return 2. * precision * recall / (precision + recall)"
   ]
  },
  {
   "cell_type": "code",
   "execution_count": 288,
   "metadata": {
    "collapsed": true
   },
   "outputs": [],
   "source": [
    "def calc_mean_F1score(train_set, train_seqs, enum_seqs, all_scores, score_indices):\n",
    "    F1scores = []\n",
    "    for seqid in train_set:\n",
    "        scores = np.array([all_scores[x] for x in score_indices[seqid]])\n",
    "        bestseq = enum_seqs[seqid][scores.argmax()]\n",
    "        F1scores.append(calc_F1score(train_seqs[seqid], bestseq))\n",
    "    return np.mean(F1scores)"
   ]
  },
  {
   "cell_type": "code",
   "execution_count": 289,
   "metadata": {
    "collapsed": false
   },
   "outputs": [],
   "source": [
    "features_mat = np.array(all_features)"
   ]
  },
  {
   "cell_type": "code",
   "execution_count": 290,
   "metadata": {
    "collapsed": false
   },
   "outputs": [
    {
     "name": "stdout",
     "output_type": "stream",
     "text": [
      "(250830, 8)\n"
     ]
    }
   ],
   "source": [
    "print(features_mat.shape)\n",
    "#print(features_mat[0])"
   ]
  },
  {
   "cell_type": "markdown",
   "metadata": {},
   "source": [
    "<a id='sec4.1'></a>"
   ]
  },
  {
   "cell_type": "markdown",
   "metadata": {},
   "source": [
    "### 4.1 Experiment with random weights"
   ]
  },
  {
   "cell_type": "code",
   "execution_count": 291,
   "metadata": {
    "collapsed": false
   },
   "outputs": [],
   "source": [
    "N = 1000\n",
    "rand_weights = np.zeros((N, nfeatures), dtype=np.float64)\n",
    "rand_F1scores = np.zeros(N, dtype=np.float64)"
   ]
  },
  {
   "cell_type": "code",
   "execution_count": 292,
   "metadata": {
    "collapsed": false
   },
   "outputs": [
    {
     "name": "stdout",
     "output_type": "stream",
     "text": [
      "max avgF1: 0.742708333333 , weights: [-0.50901545  0.21959893  0.45506513  0.85326357  0.00535068  0.63971964\n",
      "  0.2620045  -0.48840356]\n",
      "min avgF1: 0.601822916667 , weights: [-0.38066391 -0.50872977 -0.18906913 -0.15051161 -0.80622014 -0.74454076\n",
      "  0.16886518  0.43388463]\n"
     ]
    }
   ],
   "source": [
    "for j in range(N):\n",
    "    weights = np.random.uniform(-1, 1, nfeatures)\n",
    "    rand_weights[j] = weights\n",
    "    all_scores = features_mat.dot(weights)\n",
    "    rand_F1scores[j] = calc_mean_F1score(train_set, train_seqs, enum_seqs, all_scores, score_indices)\n",
    "maxidx = rand_F1scores.argmax()\n",
    "minidx = rand_F1scores.argmin()\n",
    "print('max avgF1:', rand_F1scores[maxidx], ', weights:', rand_weights[maxidx])\n",
    "print('min avgF1:', rand_F1scores[minidx], ', weights:', rand_weights[minidx])"
   ]
  },
  {
   "cell_type": "code",
   "execution_count": 293,
   "metadata": {
    "collapsed": false
   },
   "outputs": [],
   "source": [
    "# all_scores matrix are too large to fit in memory\n",
    "#randscores = Parallel(n_jobs=-2)\\\n",
    "#                        (delayed\\\n",
    "#                        (calc_mean_F1score)\\\n",
    "#                        (train_set, train_seqs, enum_seqs, all_scores[j], score_indices) for j in range(N))"
   ]
  },
  {
   "cell_type": "code",
   "execution_count": 294,
   "metadata": {
    "collapsed": false
   },
   "outputs": [
    {
     "data": {
      "text/plain": [
       "<matplotlib.legend.Legend at 0x7fda5a548630>"
      ]
     },
     "execution_count": 294,
     "metadata": {},
     "output_type": "execute_result"
    },
    {
     "data": {
      "image/png": "[encoded data removed]",
      "text/plain": [
       "<matplotlib.figure.Figure at 0x7fda7c05e358>"
      ]
     },
     "metadata": {},
     "output_type": "display_data"
    }
   ],
   "source": [
    "plt.figure(figsize=[10, 8])\n",
    "plt.xlim([0, N])\n",
    "plt.ylim([rand_F1scores.min()-0.01, max(rand_F1scores.max(), randF1)+0.01])\n",
    "plt.xlabel('Experiment')\n",
    "plt.ylabel('Mean F1score')\n",
    "plt.plot([0, N], [randF1, randF1], color='r', linestyle='--', label='random guessing: ' + str(round(randF1,3)))\n",
    "plt.scatter([range(N)], rand_F1scores, marker='+')\n",
    "plt.legend()"
   ]
  },
  {
   "cell_type": "code",
   "execution_count": 295,
   "metadata": {
    "collapsed": false
   },
   "outputs": [
    {
     "data": {
      "text/plain": [
       "<matplotlib.axes._subplots.AxesSubplot at 0x7fda78230828>"
      ]
     },
     "execution_count": 295,
     "metadata": {},
     "output_type": "execute_result"
    },
    {
     "data": {
      "image/png": "[encoded data removed]",
      "text/plain": [
       "<matplotlib.figure.Figure at 0x7fda6c41cc88>"
      ]
     },
     "metadata": {},
     "output_type": "display_data"
    }
   ],
   "source": [
    "pd.Series(rand_F1scores).hist(bins=50)"
   ]
  },
  {
   "cell_type": "markdown",
   "metadata": {},
   "source": [
    "<a id='sec4.2'></a>"
   ]
  },
  {
   "cell_type": "markdown",
   "metadata": {
    "collapsed": true
   },
   "source": [
    "### 4.2 Experiment with single feature"
   ]
  },
  {
   "cell_type": "markdown",
   "metadata": {},
   "source": [
    "**NOTE**: \n",
    " * When trajectories in training set can't cover all POIs and/or all types of POI category transitions, all above single feature plots show uniform results, and all points are below the green line (e.g. use Osaka data).\n",
    " * For experiment with *single feature*, if the weight of the feature is `0`, then no features are used in the algorithm, and the scores of all candidate trajectories are the same, so the F1 score of the algorithm will depend on the order of candidates (python will choose the first one), as a result, the actual value of F1 score is meaningless, which indicates that `0` should be *skipped* in this case."
   ]
  },
  {
   "cell_type": "code",
   "execution_count": 296,
   "metadata": {
    "collapsed": false
   },
   "outputs": [
    {
     "data": {
      "image/png": "[encoded data removed]",
      "text/plain": [
       "<matplotlib.figure.Figure at 0x7fda79a9fef0>"
      ]
     },
     "metadata": {},
     "output_type": "display_data"
    }
   ],
   "source": [
    "#values = [-0.5, 0, 0.5]\n",
    "#values = np.linspace(-1, 1, 11)\n",
    "#values = [-0.1, 0.1]\n",
    "values = [-1, -0.5, -0.1, 0.1, 0.5, 1]\n",
    "plt.figure(figsize=[16, 16])\n",
    "for j in range(nfeatures):\n",
    "    all_F1scores = []\n",
    "    for k in range(len(values)):\n",
    "        weights = np.zeros(nfeatures, dtype=np.float64)\n",
    "        weights[j] = values[k]\n",
    "        all_scores = features_mat.dot(weights)\n",
    "        F1scores = []\n",
    "        for seqid in train_set:\n",
    "            scores = np.array([all_scores[x] for x in score_indices[seqid]])\n",
    "            bestseq = enum_seqs[seqid][scores.argmax()]\n",
    "            F1scores.append(calc_F1score(train_seqs[seqid], bestseq))\n",
    "        all_F1scores.append(F1scores)\n",
    "    plt.subplot(4, 2, j+1)\n",
    "    xlim = [min(values)-0.1, max(values)+0.1]\n",
    "    ylim = [0.3, 1.1]\n",
    "    plt.xlim(xlim)\n",
    "    plt.ylim(ylim)\n",
    "    plt.xlabel(features_name[j])\n",
    "    plt.ylabel('Mean F1-score')\n",
    "    plt.boxplot(all_F1scores, labels=values) #OK\n",
    "    avgF1scores = np.array([np.mean(x) for x in all_F1scores])\n",
    "    #plt.scatter(values, avgF1scores, marker='+')\n",
    "    #plt.plot([values[avgF1scores.argmax()]], [avgF1scores.max()], marker='o', color='r', \\\n",
    "    #                  label='max: ' + str(round(avgF1scores.max(),3)))\n",
    "    #plt.plot(xlim, [randF1, randF1], color='g', linestyle='--', label='random guessing: ' + str(round(randF1,3)))\n",
    "    #plt.legend()"
   ]
  },
  {
   "cell_type": "markdown",
   "metadata": {},
   "source": [
    "#### 4.2.1 Observations with single feature"
   ]
  },
  {
   "cell_type": "markdown",
   "metadata": {},
   "source": [
    "The *first* feature is the total time-based user interest in a trajectory.  \n",
    "(i.e sum of (expected time the user spent at each POI)/(average time a user spent at each POI))\n",
    "It seems the existance of this feature *negative* affected the algorithm, \n",
    "which is strange as the IJCAI paper argues that capturing the expected time a user spent at POI will improve the accuracy of trajectory recommendation."
   ]
  },
  {
   "cell_type": "markdown",
   "metadata": {},
   "source": [
    "The *second* feature is the total number of visit (of the user) of all POIs in a trajectory.\n",
    "Similar to the *first* feature, it seems the existance of this feature negative affected the algorithm, \n",
    "which is also strange as experiments from the IJCAI paper show that capturing a user's visiting frequency of POI will improve the accuracy of trajectory recommendation, though less than capturing visit time duration, but still much better than greedy and random selection strategies."
   ]
  },
  {
   "cell_type": "markdown",
   "metadata": {},
   "source": [
    "The *third* feature is the total POI popularity (i.e. # of visit of a POI by all users) of all POIs in a trajectory.\n",
    "It seems that doesn't affect the recommendation much, though a positive weight of this feature will help the recommendation algorithm slightly."
   ]
  },
  {
   "cell_type": "markdown",
   "metadata": {},
   "source": [
    "The *fourth* feature is the negative (i.e. multiple -1) of total travelling cost (i.e. total travel distance in the trajectory) for a user of a trajectory.\n",
    "It's strange that the algorithm prefers long travelling distance."
   ]
  },
  {
   "cell_type": "markdown",
   "metadata": {},
   "source": [
    "The *fifth* feature is the probability of a recommended trajectory based on the transition probabilities between POI categories and the nearest neighbor rule for choosing a specific POI within a certain category.\n",
    "It's clear the algorithm likes nearest neighbors."
   ]
  },
  {
   "cell_type": "markdown",
   "metadata": {},
   "source": [
    "The *sixth* feature is the probability of a recommended trajectory based on the transition probabilities between POI categories and the most popular POI rule for choosing a specific POI within a certain category. It's clear the algorithm likes popular POIs."
   ]
  },
  {
   "cell_type": "markdown",
   "metadata": {},
   "source": [
    "The *seventh* feature is the probability of a recommended trajectory based on the transition probabilities between POI categories and a rule below for choosing a specific POI within a certain category.  \n",
    "*Rule: choose a random POI with probability proportional to the reciprocal of its distance to current POI.*  \n",
    "Similar to the *fifth* feature which utilises the nearest neighbor rule, the algorithm doesn't like far neighbors."
   ]
  },
  {
   "cell_type": "markdown",
   "metadata": {},
   "source": [
    "The *last* feature is the probability of a recommended trajectory based on the transition probabilities between POI categories and a rule below for choosing a specific POI within a certain category.  \n",
    "*Rule: choose a random POI with probability proportional to its popularity.*  \n",
    "Similar to the *sixth* feature which utilises the most popular POI rule, the algorithm doesn't like non-popular POIs. "
   ]
  },
  {
   "cell_type": "markdown",
   "metadata": {},
   "source": [
    "<a id='sec4.3'></a>"
   ]
  },
  {
   "cell_type": "markdown",
   "metadata": {},
   "source": [
    "### 4.3 Search weights using coordinate-wise grid search"
   ]
  },
  {
   "cell_type": "code",
   "execution_count": 297,
   "metadata": {
    "collapsed": false
   },
   "outputs": [
    {
     "data": {
      "text/plain": [
       "0.78203124999999996"
      ]
     },
     "execution_count": 297,
     "metadata": {},
     "output_type": "execute_result"
    }
   ],
   "source": [
    "weights = np.array([0.01, -0.01, 0, 0.88, -0.01, 0.01, -0.05, 0.05])\n",
    "calc_mean_F1score(train_set, train_seqs, enum_seqs, features_mat.dot(weights), score_indices)"
   ]
  },
  {
   "cell_type": "code",
   "execution_count": 352,
   "metadata": {
    "collapsed": false
   },
   "outputs": [],
   "source": [
    "# uniform\n",
    "\n",
    "# 0.714, [-1.    0.    0.    0.85  0.64 -0.05  0.03  0.]\n",
    "#weights = np.zeros(nfeatures, dtype=np.float64)\n",
    "\n",
    "# 0.728, [-0.3   0.65 -0.37  0.99  1.    0.05  0.95  1.]\n",
    "#weights = np.ones(nfeatures, dtype=np.float64)\n",
    "\n",
    "# 0.694, [-1.   -1.   -1.    0.22  0.99  0.49  0.25  0.76]\n",
    "#weights = -1 * np.ones(nfeatures, dtype=np.float64)\n",
    "\n",
    "# random\n",
    "\n",
    "# 0.723, [-0.74  0.09 -0.19  0.99  0.84 -0.04  0.03  0.45]\n",
    "#weights = np.random.uniform(-1, 1, nfeatures)\n",
    "\n",
    "# 0.753, [0.35 -0.34 -0.17  0.86  0.78  0.35  0.89  0.63]\n",
    "#weights = rand_weights[ rand_F1scores.argmax() ]\n",
    "\n",
    "# hints from single feature experiment\n",
    "\n",
    "# 0.732, [1 -1  1  1  1  1  1 -1]\n",
    "#weights = np.array([-1, -1, 1, 1, 1, 1, 1, 1])\n",
    "\n",
    "# 0.756, [0.12 -0.1  -0.03  0.75  0.1   0.1   0.1   0.1]\n",
    "#weights = np.array([-0.1, -0.1, 0.1, 0.1, 0.1, 0.1, 0.1, 0.1])\n",
    "\n",
    "# 0.7996, [0.06 -0.05 -0.01  0.98 -0.02  0.04  0.23  0.43]\n",
    "#weights = np.array([-0.05, -0.05, 0.05, 0.05, 0.05, 0.05, 0.05, 0.05])\n",
    "#weights = np.array([0.06, -0.05, -0.01, 0.98, -0.02, 0.04, 0.23, 0.43]) # init: 0.7996, end: 0.803\n",
    "#weights = np.array([0.05, -0.05, -0.01, 0.86, -0.02, 0.03, 0.16, 0.43]) # init: 0.803, end: 0.805\n",
    "#weights = np.array([0.05, -0.05, -0.01, 0.97, -0.02, 0.03, 0.16, 0.36]) # init: 0.805, end: 0.805\n",
    "\n",
    "# 0.808, [0.02 -0.01  0.01  0.92 -0.02  0.01  0.28 -0.19]\n",
    "#weights = np.array([-0.02, -0.02, 0.02, 0.02, 0.02, 0.02, 0.02, 0.02])\n",
    "weights = np.array([0.02, -0.01, 0.01, 0.92, -0.02, 0.01, 0.28, -0.19]) # init: 0.808, end: 0.810\n",
    "#weights = np.array([0.02, -0.01, 0, 0.87, -0.02, 0.01, 0.37, -0.19]) # init: 0.810, end: 0.810\n",
    "\n",
    "# 0.810             [0.02, -0.01, 0.01, 0.87, -0.02, 0.01, 0.37, -0.19]\n",
    "#weights = np.array([0.02, -0.01, 0,    1,    -0.02, 0.01, 0.37, -0.19])\n",
    "\n",
    "# 0.794, [0.01, -0.01, 0.01, 0.45, -0.01, 0.02, 0.07, 0.01]\n",
    "#weights = np.array([-0.01, -0.01, 0.01, 0.01, 0.01, 0.01, 0.01, 0.01])\n",
    "\n",
    "# 0.794, [0.01 -0.01  0.01  0.45 -0.01  0.02  0.07  0.01]\n",
    "#weights = np.array([-0.01, -0.01, 0, 0.01, 0.01, 0.01, 0.01, 0.01])\n",
    "\n",
    "#weights = np.array([0, 0, 0, 0.01, 0.01, 0.01, 0.01, 0.01]) # 0.789\n",
    "\n",
    "#weights = np.array([0.01, -0.01, 0.01, 0.45, -0.01, 0.02, 0.07, 0.01]) # init: 0.794, end: 0.795\n",
    "#weights = np.array([0.02, -0.01, 0, 0.44, -0.01, 0.02, 0.07, 0.01]) # init: 0.795, end: 0.795"
   ]
  },
  {
   "cell_type": "code",
   "execution_count": 353,
   "metadata": {
    "collapsed": true
   },
   "outputs": [],
   "source": [
    "#params = np.linspace(-1, 1, 41)\n",
    "#params = np.linspace(-1, 1, 101)\n",
    "params = np.linspace(-1, 1, 201)\n",
    "F1scores = np.zeros((weights.shape[0], params.shape[0]), dtype=np.float64)"
   ]
  },
  {
   "cell_type": "code",
   "execution_count": 354,
   "metadata": {
    "collapsed": false
   },
   "outputs": [
    {
     "name": "stdout",
     "output_type": "stream",
     "text": [
      "107 seconds used\n"
     ]
    }
   ],
   "source": [
    "t1 = datetime.now()\n",
    "for k in range(nfeatures):    \n",
    "    for j in range(params.shape[0]):\n",
    "        weights[k] = params[j]\n",
    "        all_scores = features_mat.dot(weights)\n",
    "        F1scores[k, j] = calc_mean_F1score(train_set, train_seqs, enum_seqs, all_scores, score_indices)\n",
    "    maxidx = F1scores[k].argmax()\n",
    "    weights[k] = params[maxidx]\n",
    "t2 = datetime.now()\n",
    "print('%d seconds used' % (t2-t1).total_seconds()) # 120 seconds"
   ]
  },
  {
   "cell_type": "code",
   "execution_count": 355,
   "metadata": {
    "collapsed": false
   },
   "outputs": [],
   "source": [
    "#t1 = datetime.now()\n",
    "#for k in range(nfeatures):\n",
    "#    all_weights = np.matlib.repmat(weights, params.shape[0], 1)\n",
    "#    for j in range(params.shape[0]):\n",
    "#        all_weights[j, k] = params[j]\n",
    "#    F1scores1 = Parallel(n_jobs=-2)\\\n",
    "#                        (delayed(calc_mean_F1score)\n",
    "#                         (train_set, train_seqs, enum_seqs, features_mat.dot(all_weights[j]), score_indices)\n",
    "#                         for j in range(params.shape[0]))\n",
    "#    F1scores[k] = np.array(F1scores1)       \n",
    "#    maxidx = F1scores[k].argmax()\n",
    "#    weights[k] = params[maxidx]\n",
    "#t2 = datetime.now()\n",
    "#print('%d seconds used' % (t2-t1).total_seconds()) # 407 seconds"
   ]
  },
  {
   "cell_type": "code",
   "execution_count": 356,
   "metadata": {
    "collapsed": false,
    "scrolled": true
   },
   "outputs": [
    {
     "name": "stdout",
     "output_type": "stream",
     "text": [
      "[ 0.32 -0.01  0.01  0.92 -0.02  0.03  0.27  0.08]\n",
      "0.80078125\n"
     ]
    }
   ],
   "source": [
    "print(weights)\n",
    "print(F1scores[-1].max())"
   ]
  },
  {
   "cell_type": "code",
   "execution_count": 357,
   "metadata": {
    "collapsed": false,
    "scrolled": false
   },
   "outputs": [
    {
     "data": {
      "image/png": "[encoded data removed]",
      "text/plain": [
       "<matplotlib.figure.Figure at 0x7fda6faa27f0>"
      ]
     },
     "metadata": {},
     "output_type": "display_data"
    }
   ],
   "source": [
    "plt.figure(figsize=[16, 16])\n",
    "for k in range(nfeatures):\n",
    "    plt.subplot(4, 2, k+1)\n",
    "    plt.xlim([-1.1, 1.1])\n",
    "    plt.ylim([0.3, 0.9])\n",
    "    plt.xlabel(features_name[k])\n",
    "    plt.ylabel('Mean F1-score')\n",
    "    plt.scatter(params, F1scores[k], marker='+')\n",
    "    plt.plot([-1.1, 1.1], [randF1, randF1], color='g', linestyle='--', label='random guessing: ' + str(round(randF1,3)))\n",
    "    plt.legend()"
   ]
  },
  {
   "cell_type": "markdown",
   "metadata": {},
   "source": [
    "<a id='sec5'></a>"
   ]
  },
  {
   "cell_type": "markdown",
   "metadata": {},
   "source": [
    "## 5. Apply search results to testing set"
   ]
  },
  {
   "cell_type": "code",
   "execution_count": 358,
   "metadata": {
    "collapsed": false
   },
   "outputs": [],
   "source": [
    "enum_seqs_test, test_seqs = enum_345_seq(test_set, poi_list)"
   ]
  },
  {
   "cell_type": "markdown",
   "metadata": {},
   "source": [
    "Load features from file if possible."
   ]
  },
  {
   "cell_type": "code",
   "execution_count": 359,
   "metadata": {
    "collapsed": true
   },
   "outputs": [],
   "source": [
    "doCompute = True"
   ]
  },
  {
   "cell_type": "code",
   "execution_count": 360,
   "metadata": {
    "collapsed": true
   },
   "outputs": [],
   "source": [
    "test_set1 = pickle.load(open(ftest, 'rb'))\n",
    "if (np.array(sorted(test_set1))  == np.array(sorted(test_set))).all() and os.path.exists(ffeatures_test):\n",
    "    doCompute = False"
   ]
  },
  {
   "cell_type": "code",
   "execution_count": 361,
   "metadata": {
    "collapsed": true
   },
   "outputs": [],
   "source": [
    "all_features_test = None"
   ]
  },
  {
   "cell_type": "code",
   "execution_count": 362,
   "metadata": {
    "collapsed": true
   },
   "outputs": [],
   "source": [
    "if doCompute:\n",
    "    #[(seqid, seqidx_in_enum_seqs_dict)]\n",
    "    seq_info_test = [(seqid, j) for seqid in test_set for j in range(len(enum_seqs_test[seqid]))]\n",
    "    # all CPUs but one are used\n",
    "    all_features_test = Parallel\\\n",
    "                        (n_jobs=-2)\\\n",
    "                        (delayed\\\n",
    "                        (calc_features)\\\n",
    "                        (seq_user.loc[x[0]].iloc[0], enum_seqs_test[x[0]][x[1]], poi_all, user_interest, \\\n",
    "                         log10_trans_mat, poi_dist_mat, poi_rdist_mat) \\\n",
    "                        for x in seq_info_test)\n",
    "    pickle.dump(all_features_test, open(ffeatures_test, 'wb'))\n",
    "else:\n",
    "    # load features\n",
    "    all_features_test = pickle.load(open(ffeatures_test, 'rb')) "
   ]
  },
  {
   "cell_type": "code",
   "execution_count": 363,
   "metadata": {
    "collapsed": false
   },
   "outputs": [
    {
     "name": "stdout",
     "output_type": "stream",
     "text": [
      "109620\n"
     ]
    }
   ],
   "source": [
    "print(len(all_features_test))"
   ]
  },
  {
   "cell_type": "code",
   "execution_count": 364,
   "metadata": {
    "collapsed": true
   },
   "outputs": [],
   "source": [
    "score_indices_test = dict() # score vector index in the feature matrix\n",
    "num_enum_seq_test = 0"
   ]
  },
  {
   "cell_type": "code",
   "execution_count": 365,
   "metadata": {
    "collapsed": true
   },
   "outputs": [],
   "source": [
    "for seqid in test_set:\n",
    "    num = len(enum_seqs_test[seqid])\n",
    "    score_indices_test[seqid] = [x for x in range(num_enum_seq_test, num_enum_seq_test + num)]\n",
    "    num_enum_seq_test += num"
   ]
  },
  {
   "cell_type": "code",
   "execution_count": 366,
   "metadata": {
    "collapsed": false
   },
   "outputs": [
    {
     "name": "stdout",
     "output_type": "stream",
     "text": [
      "109620\n"
     ]
    }
   ],
   "source": [
    "print(num_enum_seq_test)"
   ]
  },
  {
   "cell_type": "code",
   "execution_count": 367,
   "metadata": {
    "collapsed": true
   },
   "outputs": [],
   "source": [
    "assert(len(all_features_test) == num_enum_seq_test)"
   ]
  },
  {
   "cell_type": "code",
   "execution_count": 368,
   "metadata": {
    "collapsed": false
   },
   "outputs": [
    {
     "name": "stdout",
     "output_type": "stream",
     "text": [
      "(109620, 8)\n"
     ]
    }
   ],
   "source": [
    "features_mat_test = np.array(all_features_test)\n",
    "print(features_mat_test.shape)"
   ]
  },
  {
   "cell_type": "code",
   "execution_count": 372,
   "metadata": {
    "collapsed": false
   },
   "outputs": [
    {
     "data": {
      "text/plain": [
       "0.7544715447154472"
      ]
     },
     "execution_count": 372,
     "metadata": {},
     "output_type": "execute_result"
    }
   ],
   "source": [
    "weights = np.array([0.01, -0.01, 0, 0.88, -0.01, 0.01, -0.05, 0.05]) # train: 0.7993, test: 0.75040650406504061\n",
    "#weights = np.array([0.32, -0.01, 0.01, 0.92, -0.02, 0.03, 0.27, 0.08]) \n",
    "#weights = np.array([0.02, -0.01, 0, 0.87, -0.02, 0.01, 0.37, -0.19]) # train: 0.810, test: 0.744\n",
    "#weights = np.array([0.02, -0.01, 0.01, 0.92, -0.02, 0.01, 0.28, -0.19]) # train: 0.808, test: 0.744\n",
    "#weights = np.array([0.05, -0.05, -0.01, 0.97, -0.02, 0.03, 0.16, 0.36]) # train: 0.805, test: 0.732\n",
    "#weights = np.array([0.06, -0.05, -0.01, 0.98, -0.02, 0.04, 0.23, 0.43]) # train: 0.7996, test: 0.732\n",
    "#weights = np.array([0.02, -0.01, 0, 0.44, -0.01, 0.02, 0.07, 0.01]) # init: 0.795, test: 0.740\n",
    "calc_mean_F1score(test_set, test_seqs, enum_seqs_test, features_mat_test.dot(weights), score_indices_test)"
   ]
  },
  {
   "cell_type": "code",
   "execution_count": null,
   "metadata": {
    "collapsed": true
   },
   "outputs": [],
   "source": []
  },
  {
   "cell_type": "code",
   "execution_count": null,
   "metadata": {
    "collapsed": true
   },
   "outputs": [],
   "source": []
  }
 ],
 "metadata": {
  "kernelspec": {
   "display_name": "Python 3",
   "language": "python",
   "name": "python3"
  },
  "language_info": {
   "codemirror_mode": {
    "name": "ipython",
    "version": 3
   },
   "file_extension": ".py",
   "mimetype": "text/x-python",
   "name": "python",
   "nbconvert_exporter": "python",
   "pygments_lexer": "ipython3",
   "version": "3.4.3"
  }
 },
 "nbformat": 4,
 "nbformat_minor": 0
}
